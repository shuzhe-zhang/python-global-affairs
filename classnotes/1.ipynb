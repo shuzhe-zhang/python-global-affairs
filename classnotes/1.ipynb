{
 "cells": [
  {
   "cell_type": "markdown",
   "id": "578c1031",
   "metadata": {},
   "source": [
    "Built-in Functions"
   ]
  },
  {
   "cell_type": "code",
   "execution_count": null,
   "id": "0cddee40",
   "metadata": {},
   "outputs": [],
   "source": [
    "print(\"this\")"
   ]
  },
  {
   "cell_type": "code",
   "execution_count": null,
   "id": "7f48e81d",
   "metadata": {},
   "outputs": [],
   "source": [
    "def userdefined(parameter):\n",
    "    # docstrings\n",
    "    \"\"\"\n",
    "    This is a test function.\n",
    "    \"\"\"\n",
    "    print()"
   ]
  },
  {
   "cell_type": "code",
   "execution_count": null,
   "id": "4c9dbb7f",
   "metadata": {},
   "outputs": [],
   "source": [
    "def print_sum(x, y):\n",
    "    \"\"\"\n",
    "    print the sum of two numbers\n",
    "    \"\"\"\n",
    "    output = x + y\n",
    "    print(output)\n",
    "    \n",
    "z = print(print_sum(4, 5))\n",
    "# cannot save the output to the variable\n",
    "print(z)\n",
    "z = print_sum(4, 5)\n",
    "print(z)"
   ]
  },
  {
   "cell_type": "code",
   "execution_count": null,
   "id": "4a4a5873",
   "metadata": {},
   "outputs": [],
   "source": [
    "# print_sum(x, y)\n",
    "# We have not defined x and y.\n",
    "print_sum(4, 5)\n",
    "print_sum(\"4\", \"5\")"
   ]
  },
  {
   "cell_type": "code",
   "execution_count": null,
   "id": "6d1bb59d",
   "metadata": {},
   "outputs": [],
   "source": [
    "def return_sum(x, y):\n",
    "    \"\"\"\n",
    "    return the sum of two numbers\n",
    "    \"\"\"\n",
    "    output = x + y\n",
    "    return output\n",
    "    \n",
    "z = return_sum(4, 5)\n",
    "print(z)"
   ]
  },
  {
   "cell_type": "code",
   "execution_count": null,
   "id": "f5f99402",
   "metadata": {},
   "outputs": [],
   "source": [
    "def calculate_trade_balance(exports, imports):\n",
    "    \"\"\"\n",
    "    Calculates the trade balance between two countries.\n",
    "    \n",
    "    Arguments:\n",
    "    exports (float): The value of exports from the first country to the second.\n",
    "    imports (float): The value of imports from the second country to the first.\n",
    "\n",
    "    Returns:\n",
    "    float: The trade balance, calculated as exports minus imports.\n",
    "    \"\"\"\n",
    "    return exports - imports"
   ]
  },
  {
   "cell_type": "code",
   "execution_count": null,
   "id": "1900ec34",
   "metadata": {},
   "outputs": [],
   "source": [
    "def calculate_trade_balance_new(exports = None, imports = None):\n",
    "    \"\"\"\n",
    "    Calculates the trade balance between two countries.\n",
    "    Ask for exports and imports\n",
    "    \n",
    "    Arguments:\n",
    "    exports (float): The value of exports from the first country to the second.\n",
    "    imports (float): The value of imports from the second country to the first.\n",
    "\n",
    "    Returns:\n",
    "    float: The trade balance, calculated as exports minus imports.\n",
    "    \"\"\"\n",
    "    exports = float(input(\"Enter the exports: \"))\n",
    "    imports = float(input(\"Enter the imports: \"))\n",
    "    \n",
    "    return exports - imports"
   ]
  },
  {
   "cell_type": "code",
   "execution_count": null,
   "id": "2120c148",
   "metadata": {},
   "outputs": [],
   "source": [
    "calculate_trade_balance_new()"
   ]
  },
  {
   "cell_type": "code",
   "execution_count": null,
   "id": "5d74915e",
   "metadata": {},
   "outputs": [],
   "source": [
    "# not to use this\n",
    "exports = float(input(\"Enter the exports: \"))\n",
    "imports = float(input(\"Enter the imports: \"))\n",
    "\n",
    "def calculate_trade_balance_globals():\n",
    "    \"\"\"\n",
    "    Calculates the trade balance between two countries.\n",
    "    Ask for exports and imports\n",
    "    \n",
    "    Arguments:\n",
    "    exports (float): The value of exports from the first country to the second.\n",
    "    imports (float): The value of imports from the second country to the first.\n",
    "\n",
    "    Returns:\n",
    "    float: The trade balance, calculated as exports minus imports.\n",
    "    \"\"\"\n",
    "    global exports, imports\n",
    "    return exports - imports\n",
    "\n",
    "calculate_trade_balance_globals()"
   ]
  },
  {
   "cell_type": "code",
   "execution_count": null,
   "id": "bfa8e391",
   "metadata": {},
   "outputs": [],
   "source": [
    "def diplomatic_meeting_schedule(country, date=None, agenda=None):\n",
    "    \"\"\"\n",
    "    Schedules a diplomatic meeting with a specified country.\n",
    "    Optional arguments can specify the date and agenda of the meeting.\n",
    "\n",
    "    Parameters:\n",
    "    country (str): The country to schedule the meeting with.\n",
    "    date (str, optional): The date of the meeting. Defaults to 'TBD' if not provided.\n",
    "    agenda (str, optional): The agenda for the meeting. Defaults to 'General Discussion' if not provided.\n",
    "\n",
    "    Returns:\n",
    "    str: A summary of the scheduled meeting details.\n",
    "    \"\"\"\n",
    "    if date is None:\n",
    "        date = \"TBD\"\n",
    "    if agenda is None:\n",
    "        agenda = \"General Discussion\"\n",
    "    \n",
    "    return f\"Meeting scheduled with {country} on {date} with {agenda}\""
   ]
  },
  {
   "cell_type": "code",
   "execution_count": null,
   "id": "5a20fef0",
   "metadata": {},
   "outputs": [],
   "source": [
    "diplomatic_meeting_schedule(\"France\")\n",
    "diplomatic_meeting_schedule(\"Zimbabwe\", \"March 10th\")\n",
    "diplomatic_meeting_schedule(\"Vietnam\", \"April 1st\", \"Trade and Cooperation\")"
   ]
  },
  {
   "cell_type": "code",
   "execution_count": null,
   "id": "0d1adb82",
   "metadata": {},
   "outputs": [],
   "source": [
    "def diplomatic_meeting_schedule2(country, date=None, agenda=None):\n",
    "    \"\"\"\n",
    "    Schedules a diplomatic meeting with a specified country.\n",
    "    Optional arguments can specify the date and agenda of the meeting.\n",
    "\n",
    "    Parameters:\n",
    "    country (str): The country to schedule the meeting with.\n",
    "    date (str, optional): The date of the meeting. Defaults to 'TBD' if not provided.\n",
    "    agenda (str, optional): The agenda for the meeting. Defaults to 'General Discussion' if not provided.\n",
    "\n",
    "    Returns:\n",
    "    str: A summary of the scheduled meeting details.\n",
    "    \"\"\"\n",
    "    \"\"\"\n",
    "    if date is None:\n",
    "        date = \"TBD\"\n",
    "    if agenda is None:\n",
    "        agenda = \"General Discussion\"\n",
    "    \"\"\"\n",
    "    \n",
    "    return f\"Meeting scheduled with {country} on {date} with {agenda}\""
   ]
  },
  {
   "cell_type": "code",
   "execution_count": null,
   "id": "bbf93d5a",
   "metadata": {},
   "outputs": [],
   "source": [
    "diplomatic_meeting_schedule2(\"France\")"
   ]
  },
  {
   "cell_type": "markdown",
   "id": "9eefed30",
   "metadata": {},
   "source": [
    "Keyword Arguments -- pass an argument to a function, without keeping the order."
   ]
  },
  {
   "cell_type": "code",
   "execution_count": null,
   "id": "1ef38645",
   "metadata": {},
   "outputs": [],
   "source": [
    "def organize_peace_talks(country1, country2, location=\"Geneva\", date=\"TBD\", topic=\"Peace Talk\"):\n",
    "    \"\"\"\n",
    "    Organize Peace Talks\n",
    "    \"\"\"\n",
    "    return f\"Peace talks between {country1} and {country2} scheduled in {location} on {date}. Main Topic: {topic}.\""
   ]
  },
  {
   "cell_type": "code",
   "execution_count": null,
   "id": "70fda497",
   "metadata": {},
   "outputs": [],
   "source": [
    "print(organize_peace_talks(\"North Korea\", \"South Korea\"))\n",
    "print(organize_peace_talks(\"Iran\", \"Israel\", date = \"Jan 31st\"))\n",
    "print(organize_peace_talks(\"Iran\", \"Israel\", location = \"Oslo\", date = \"Jan 31st\", topic = \"Donetsk\"))"
   ]
  },
  {
   "cell_type": "code",
   "execution_count": null,
   "id": "e56320b9",
   "metadata": {},
   "outputs": [],
   "source": [
    "def host_international_summit(*countries):\n",
    "    \"\"\"\n",
    "    host international summit\n",
    "    \"\"\"\n",
    "    if not countries:\n",
    "        return \"No countries are participating in the summit.\"\n",
    "    else:\n",
    "        countries_list = \", \".join(countries)\n",
    "    return f\"International Summit with the Participants: {countries_list}.\""
   ]
  },
  {
   "cell_type": "code",
   "execution_count": null,
   "id": "80a1c360",
   "metadata": {},
   "outputs": [],
   "source": [
    "print(host_international_summit(\"Russia\", \"China\", \"Iran\"))\n",
    "\n",
    "list_1 = host_international_summit(\"Russia\", \"China\", \"Iran\")\n",
    "print(type(list_1))"
   ]
  },
  {
   "cell_type": "code",
   "execution_count": null,
   "id": "3cb9868e",
   "metadata": {},
   "outputs": [],
   "source": [
    "print(host_international_summit(\"Russia\"))"
   ]
  },
  {
   "cell_type": "code",
   "execution_count": null,
   "id": "663f648a",
   "metadata": {},
   "outputs": [],
   "source": [
    "def example_function(**kwargs):\n",
    "    for key, values in kwargs.items():\n",
    "        print(f\"{key}: {values}\")"
   ]
  },
  {
   "cell_type": "code",
   "execution_count": null,
   "id": "c2a6e4a3",
   "metadata": {},
   "outputs": [],
   "source": [
    "example_function(first_name=\"John\", last_name=\"Doe\", age=30, occupation=\"engineer\")"
   ]
  },
  {
   "cell_type": "code",
   "execution_count": null,
   "id": "21267e92",
   "metadata": {},
   "outputs": [],
   "source": [
    "def student_profile(name, age, **additional_info):\n",
    "    \"\"\"\n",
    "    create student profile with students' info and additional details\n",
    "    \"\"\"\n",
    "    profile = f\"name: {name}, age: {age}\"\n",
    "    for key, value in additional_info.items():\n",
    "        profile += f\", {key.replace('_', ' ').title()}: {value}\"\n",
    "        \n",
    "    return profile"
   ]
  },
  {
   "cell_type": "code",
   "execution_count": null,
   "id": "9ada7990",
   "metadata": {},
   "outputs": [],
   "source": [
    "print(student_profile(\"Alice\", 20, major = \"CS\", GPA = 3.8, hometown = \"Turin\"))"
   ]
  },
  {
   "cell_type": "code",
   "execution_count": null,
   "id": "a2fdb1eb",
   "metadata": {},
   "outputs": [],
   "source": [
    "def function(*countries, **conference_details):\n",
    "    \"\"\"\n",
    "    organize the international conference\n",
    "    \"\"\"\n",
    "    if not countries:\n",
    "        print_info = \"No countries are participating in the summit.\"\n",
    "    else:\n",
    "        print_info = \" and \".join(countries)\n",
    "        \n",
    "    for key, value in conference_details.items():\n",
    "        print_info += f\"  {key.replace('_', ' ').title()}: {value}\"\n",
    "        \n",
    "    return print_info\n",
    "\n",
    "print(function(\"US\", \"China\", location=\"Genva\", date=\"June 1st\"))"
   ]
  },
  {
   "cell_type": "raw",
   "id": "9eb33803",
   "metadata": {},
   "source": [
    "02.06.2024\n",
    "\n",
    "-- Empathy\n",
    "-- Architecture Digram -- Software Programming"
   ]
  },
  {
   "cell_type": "code",
   "execution_count": null,
   "id": "5165683a",
   "metadata": {},
   "outputs": [],
   "source": [
    "def square_num(x):\n",
    "    \"\"\"\n",
    "    square number\n",
    "    \"\"\"\n",
    "    return x * x"
   ]
  },
  {
   "cell_type": "code",
   "execution_count": null,
   "id": "78fce062",
   "metadata": {},
   "outputs": [],
   "source": [
    "lambda_square = lambda x: x * x\n",
    "print(lambda_square(5))"
   ]
  },
  {
   "cell_type": "code",
   "execution_count": null,
   "id": "79b0073c",
   "metadata": {},
   "outputs": [],
   "source": [
    "def gdp_per_capita(gdp, pop):\n",
    "    '''\n",
    "    This function takes two parameters: gdp and population. It calculates the GDP per capita by dividing the GDP by the population, \n",
    "assuming that the population is greater than 0 to avoid division by zero errors.\n",
    "    '''\n",
    "    if pop > 0:\n",
    "        gdp_per_capita = gdp/pop\n",
    "        return gdp_per_capita\n",
    "    else:\n",
    "        return \"pop should be greater than zero\""
   ]
  },
  {
   "cell_type": "code",
   "execution_count": null,
   "id": "b78979d6",
   "metadata": {},
   "outputs": [],
   "source": [
    "print(gdp_per_capita(500, 4))"
   ]
  },
  {
   "cell_type": "code",
   "execution_count": null,
   "id": "a6370661",
   "metadata": {},
   "outputs": [],
   "source": [
    "print(gdp_per_capita(500, -2))"
   ]
  },
  {
   "cell_type": "code",
   "execution_count": null,
   "id": "cac26a46",
   "metadata": {},
   "outputs": [],
   "source": [
    "lambda_gdp_per_capita = lambda gdp, population: gdp/population if population > 0 else \"population should be greater than zero\""
   ]
  },
  {
   "cell_type": "code",
   "execution_count": null,
   "id": "30851e1a",
   "metadata": {},
   "outputs": [],
   "source": [
    "print(lambda_gdp_per_capita(500, 4))"
   ]
  },
  {
   "cell_type": "code",
   "execution_count": null,
   "id": "89c240d5",
   "metadata": {},
   "outputs": [],
   "source": [
    "def adjusted_gdp_for_inflation(nominal_gdp, inflation_rate):\n",
    "    \"\"\"\n",
    "    adjust GDP for inflation\n",
    "    \n",
    "    return: adjusted GDP\n",
    "    \"\"\"\n",
    "    real_gdp = nominal_gdp * (1 + inflation_rate)\n",
    "    return round(real_gdp, 2)"
   ]
  },
  {
   "cell_type": "code",
   "execution_count": null,
   "id": "d49f63db",
   "metadata": {},
   "outputs": [],
   "source": [
    "adjusted_gdp_for_inflation(1000000, 0.02)"
   ]
  },
  {
   "cell_type": "code",
   "execution_count": null,
   "id": "c7fb4b18",
   "metadata": {},
   "outputs": [],
   "source": [
    "adjusted_gdp_4inflation = lambda nominal_gdp, inflation_rate: nominal_gdp * (1 + inflation_rate)"
   ]
  },
  {
   "cell_type": "code",
   "execution_count": null,
   "id": "c19b25f2",
   "metadata": {},
   "outputs": [],
   "source": [
    "print(adjusted_gdp_4inflation(1000000, 0.02))"
   ]
  },
  {
   "cell_type": "code",
   "execution_count": null,
   "id": "a6b0154b",
   "metadata": {},
   "outputs": [],
   "source": [
    "import pandas as pd"
   ]
  },
  {
   "cell_type": "code",
   "execution_count": null,
   "id": "25083df6",
   "metadata": {},
   "outputs": [],
   "source": [
    "df = pd.DataFrame({\"Product\": [\"A\", \"B\", \"C\"], \n",
    "                   \"Prices\": [20, 30, 40]\n",
    "                  })"
   ]
  },
  {
   "cell_type": "code",
   "execution_count": null,
   "id": "d292a88d",
   "metadata": {},
   "outputs": [],
   "source": [
    "print(df)"
   ]
  },
  {
   "cell_type": "code",
   "execution_count": null,
   "id": "17b34411",
   "metadata": {},
   "outputs": [],
   "source": [
    "df[\"Discount\"] = df[\"Prices\"].apply(lambda x: x * 0.9)"
   ]
  },
  {
   "cell_type": "code",
   "execution_count": null,
   "id": "4ec93e74",
   "metadata": {},
   "outputs": [],
   "source": [
    "print(df)"
   ]
  },
  {
   "cell_type": "code",
   "execution_count": null,
   "id": "026ac0d4",
   "metadata": {},
   "outputs": [],
   "source": [
    "data = pd.DataFrame({\"A\": [1, 2, 3], \n",
    "                     \"B\": [4, 5, 6],\n",
    "                     \"C\": [7, 8, 9]})"
   ]
  },
  {
   "cell_type": "code",
   "execution_count": null,
   "id": "23ba7b28",
   "metadata": {},
   "outputs": [],
   "source": [
    "print(data)"
   ]
  },
  {
   "cell_type": "code",
   "execution_count": null,
   "id": "9cc608c7",
   "metadata": {},
   "outputs": [],
   "source": [
    "# sum of the rows\n",
    "data[\"row_sum\"] = data.apply(lambda row: row[\"A\"] + row[\"B\"] + row[\"C\"],\n",
    "                            axis = 1)"
   ]
  },
  {
   "cell_type": "code",
   "execution_count": null,
   "id": "01ceec63",
   "metadata": {},
   "outputs": [],
   "source": [
    "print(data)"
   ]
  },
  {
   "cell_type": "code",
   "execution_count": null,
   "id": "8a2a8a90",
   "metadata": {},
   "outputs": [],
   "source": [
    "data[\"category\"] = data.apply(lambda row: \"high\" if row[\"row_sum\"] > 15 else \"low\", axis = 1)"
   ]
  },
  {
   "cell_type": "code",
   "execution_count": null,
   "id": "8d2c6f4d",
   "metadata": {},
   "outputs": [],
   "source": [
    "print(data)"
   ]
  },
  {
   "cell_type": "code",
   "execution_count": null,
   "id": "dfd76b2f",
   "metadata": {},
   "outputs": [],
   "source": [
    "# can combine lambda with map, filter, reduce - useful for lists\n",
    "numbers = [1, 2, 3, 4, 5]\n",
    "squared_numbers = map(lambda x: x*x, numbers)\n",
    "print(list(squared_numbers))"
   ]
  },
  {
   "cell_type": "code",
   "execution_count": null,
   "id": "ad74ef29",
   "metadata": {},
   "outputs": [],
   "source": [
    "def calculate_growth_rate(gdp):\n",
    "    growth_rate = gdp * 0.5\n",
    "    return growth_rate\n",
    "\n",
    "gdp_value = [1000, 2000, 1500, 2500, 3000]\n",
    "growth_rate = map(calculate_growth_rate, gdp_value)\n",
    "print(list(growth_rate))"
   ]
  },
  {
   "cell_type": "code",
   "execution_count": null,
   "id": "9f7d3988",
   "metadata": {},
   "outputs": [],
   "source": [
    "growth_rate = map(lambda gdp: gdp*0.5, gdp_value)"
   ]
  },
  {
   "cell_type": "code",
   "execution_count": null,
   "id": "9ead2cf5",
   "metadata": {},
   "outputs": [],
   "source": [
    "print(list(growth_rate))"
   ]
  },
  {
   "cell_type": "markdown",
   "id": "28bb83f1",
   "metadata": {},
   "source": [
    "Feb 13th, 2024"
   ]
  },
  {
   "cell_type": "code",
   "execution_count": null,
   "id": "a5fbf58a",
   "metadata": {},
   "outputs": [],
   "source": [
    "# !pip install nltk"
   ]
  },
  {
   "cell_type": "code",
   "execution_count": null,
   "id": "634c6318",
   "metadata": {},
   "outputs": [],
   "source": [
    "import nltk"
   ]
  },
  {
   "cell_type": "code",
   "execution_count": null,
   "id": "02c696e9",
   "metadata": {},
   "outputs": [],
   "source": [
    "nltk.download()"
   ]
  },
  {
   "cell_type": "code",
   "execution_count": null,
   "id": "4057f261",
   "metadata": {},
   "outputs": [],
   "source": [
    "import requests\n",
    "from bs4 import BeautifulSoup\n",
    "\n",
    "# url we want to scrape\n",
    "url = \"https://www.g77.org/statement/getstatement.php?id=240208\"\n",
    "\n",
    "response = requests.get(url)\n",
    "\n",
    "# check if the request is successful\n",
    "if response.status_code == 200:\n",
    "    soup = BeautifulSoup(response.content, \"html.parser\") \n",
    "    # get all the p tags\n",
    "    paragraphs = soup.find_all(\"p\")\n",
    "    # extract and concatenate all the texts from each paragraph\n",
    "    statement_text = \"\\n\".join([paragraph.text for paragraph in paragraphs])\n",
    "    print(statement_text)\n",
    "    # print(paragraphs)\n",
    "    # otherwise: this shows the html code\n",
    "else:\n",
    "    print(\"Did not work!\")"
   ]
  },
  {
   "cell_type": "code",
   "execution_count": null,
   "id": "e4caa48c",
   "metadata": {},
   "outputs": [],
   "source": [
    "from nltk.tokenize import word_tokenize\n",
    "from nltk import FreqDist\n",
    "\n",
    "tokens = word_tokenize(statement_text)\n",
    "print(tokens)"
   ]
  },
  {
   "cell_type": "code",
   "execution_count": null,
   "id": "f127d51b",
   "metadata": {},
   "outputs": [],
   "source": [
    "fdist1 = FreqDist(tokens)\n",
    "print(fdist1.most_common(20))\n",
    "print(fdist1.plot(20))"
   ]
  },
  {
   "cell_type": "code",
   "execution_count": null,
   "id": "66dcd4dc",
   "metadata": {},
   "outputs": [],
   "source": [
    "from nltk.corpus import stopwords\n",
    "stopwords = nltk.corpus.stopwords.words(\"english\")\n",
    "print(stopwords)"
   ]
  },
  {
   "cell_type": "code",
   "execution_count": null,
   "id": "4fd57423",
   "metadata": {},
   "outputs": [],
   "source": [
    "new_list = []\n",
    "for word in tokens:\n",
    "    if word not in stopwords:\n",
    "        new_list.append(word.lower())\n",
    "        \n",
    "# print(new_list)\n",
    "fdist2 = FreqDist(new_list)\n",
    "print(fdist2.most_common(20))\n",
    "print(fdist2.plot(20))\n",
    "\n",
    "new_stopwords = [\",\", \".\", \";\", \"group\", \"chapter\", \"excellencies\"]\n",
    "stopwords.extend(new_stopwords)\n",
    "print(stopwords)"
   ]
  },
  {
   "cell_type": "code",
   "execution_count": null,
   "id": "52117f76",
   "metadata": {},
   "outputs": [],
   "source": [
    "new_list_2 = []\n",
    "for word in tokens:\n",
    "    if word not in stopwords:\n",
    "        new_list_2.append(word.lower())\n",
    "\n",
    "fdist3 = FreqDist(new_list_2)\n",
    "print(fdist3.most_common(20))\n",
    "print(fdist3.plot(20))"
   ]
  },
  {
   "cell_type": "code",
   "execution_count": null,
   "id": "4dbb52af",
   "metadata": {},
   "outputs": [],
   "source": [
    "# url we want to scrape\n",
    "url = \"https://www.g77.org/statement\"\n",
    "# https://www.g77.org/statement/#jan\n",
    "\n",
    "response = requests.get(url)\n",
    "soup = BeautifulSoup(response.content, \"html.parser\") \n",
    "# get all the a tags\n",
    "links = soup.find_all(\"a\")\n",
    "# extract the links\n",
    "for link in links:\n",
    "    href = link.get(\"href\")\n",
    "    print(href)"
   ]
  },
  {
   "cell_type": "code",
   "execution_count": null,
   "id": "5e8ec48c",
   "metadata": {},
   "outputs": [],
   "source": [
    "from nltk.tokenize import sent_tokenize\n",
    "from nltk.probability import FreqDist\n",
    "\n",
    "sentences = sent_tokenize(statement_text)\n",
    "fdist_sentences = FreqDist(sentences)\n",
    "\n",
    "for sentence, frequency in fdist_sentences.items():\n",
    "    print(f\"{sentence}: {frequency}\")"
   ]
  },
  {
   "cell_type": "code",
   "execution_count": null,
   "id": "3ca4b4db",
   "metadata": {},
   "outputs": [],
   "source": [
    "# converting sentences into numbers - embedding\n",
    "from sklearn.feature_extraction.text import CountVectorizer\n",
    "from sklearn.metrics.pairwise import cosine_similarity"
   ]
  },
  {
   "cell_type": "code",
   "execution_count": null,
   "id": "97b7e91e",
   "metadata": {},
   "outputs": [],
   "source": [
    "# Define the two paragraphs\n",
    "paragraph1 = \"Bees are flying insects closely related to wasps and ants, known for their role in pollination and, in the case of the best-known bee species\"\n",
    "paragraph2 = \"According to all known laws of aviation, there is no way a bee should be able to fly.\""
   ]
  },
  {
   "cell_type": "code",
   "execution_count": null,
   "id": "37cb8b2b",
   "metadata": {},
   "outputs": [],
   "source": [
    "# count vectorization\n",
    "paragraph1 = paragraph1.lower()\n",
    "paragraph2 = paragraph2.lower()\n",
    "vectorizer = CountVectorizer()\n",
    "X = vectorizer.fit_transform([paragraph1, paragraph2])\n",
    "\n",
    "# Compute the similarity between the vectors\n",
    "similarity_score = cosine_similarity(X)\n",
    "print(\"Similarity Score between the two paragraphs:\", similarity_score[0,1])"
   ]
  },
  {
   "cell_type": "code",
   "execution_count": null,
   "id": "7a03cdea",
   "metadata": {},
   "outputs": [],
   "source": [
    "# !pip install spacy"
   ]
  },
  {
   "cell_type": "code",
   "execution_count": null,
   "id": "267fbbbd",
   "metadata": {},
   "outputs": [],
   "source": [
    "# word vectorization; depends on pre-trained corpus\n",
    "\n",
    "import numpy as np\n",
    "import spacy\n",
    "\n",
    "spacy.cli.download(\"en_core_web_sm\")\n",
    "nlp = spacy.load(\"en_core_web_sm\")\n",
    "\n",
    "paragraph1 = \"Bees are flying insects closely related to wasps and ants, known for their role in pollination and, in the case of the best-known bee species\"\n",
    "paragraph2 = \"According to all known laws of aviation, there is no way a bee should be able to fly.\"\n",
    "\n",
    "# Preprocess the text data\n",
    "# You may need additional preprocessing steps depending on your data\n",
    "# For now, we'll keep it simple by tokenizing the text and removing stop words\n",
    "doc1 = nlp(paragraph1)\n",
    "doc2 = nlp(paragraph2)\n",
    "\n",
    "# Get the embeddings for each paragraph\n",
    "paragraph1_embedding = doc1.vector\n",
    "paragraph2_embedding = doc2.vector\n",
    "\n",
    "# Compute the cosine similarity between the embeddings of the two paragraphs\n",
    "similarity_score = np.dot(paragraph1_embedding, paragraph2_embedding) / (np.linalg.norm(paragraph1_embedding) * np.linalg.norm(paragraph2_embedding))\n",
    "print(\"Similarity Score between the two paragraphs:\", similarity_score)"
   ]
  },
  {
   "cell_type": "markdown",
   "id": "a33897f0",
   "metadata": {},
   "source": [
    "Sampling Method: Chatgpt Playground Temperature\n"
   ]
  },
  {
   "cell_type": "markdown",
   "id": "d42e1d78",
   "metadata": {},
   "source": [
    "- Greedy Decoding\n",
    "- Beam Search\n",
    "- Top K Sampling\n",
    "- Nucleaus Sampling (Top-P)"
   ]
  }
 ],
 "metadata": {
  "kernelspec": {
   "display_name": "Python 3 (ipykernel)",
   "language": "python",
   "name": "python3"
  },
  "language_info": {
   "codemirror_mode": {
    "name": "ipython",
    "version": 3
   },
   "file_extension": ".py",
   "mimetype": "text/x-python",
   "name": "python",
   "nbconvert_exporter": "python",
   "pygments_lexer": "ipython3",
   "version": "3.11.4"
  }
 },
 "nbformat": 4,
 "nbformat_minor": 5
}
