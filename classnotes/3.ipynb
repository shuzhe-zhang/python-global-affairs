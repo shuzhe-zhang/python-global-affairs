{
 "cells": [
  {
   "cell_type": "markdown",
   "id": "4f4b046c",
   "metadata": {},
   "source": [
    "Virtual Environment"
   ]
  },
  {
   "cell_type": "code",
   "execution_count": 3,
   "id": "9690f0b2",
   "metadata": {},
   "outputs": [
    {
     "name": "stdout",
     "output_type": "stream",
     "text": [
      "Result : 5\n"
     ]
    }
   ],
   "source": [
    "import random\n",
    " \n",
    "people_list = [\"1\", \"2\", \"3\", \"4\", \"5\", \"6\", \"7\", \"8\"]\n",
    "\n",
    "random_result = random.choice(people_list)\n",
    " \n",
    "print(\"Result : \" + random_result)"
   ]
  },
  {
   "cell_type": "raw",
   "id": "10814ea1",
   "metadata": {},
   "source": [
    "python3 -m venv env\n",
    "source env/bin/activate\n",
    "pip install ipykernel\n",
    "python -m ipykernel install --user --name=env --display-name=\"ENV\""
   ]
  }
 ],
 "metadata": {
  "kernelspec": {
   "display_name": "Python 3 (ipykernel)",
   "language": "python",
   "name": "python3"
  },
  "language_info": {
   "codemirror_mode": {
    "name": "ipython",
    "version": 3
   },
   "file_extension": ".py",
   "mimetype": "text/x-python",
   "name": "python",
   "nbconvert_exporter": "python",
   "pygments_lexer": "ipython3",
   "version": "3.11.4"
  }
 },
 "nbformat": 4,
 "nbformat_minor": 5
}
