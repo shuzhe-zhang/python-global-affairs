{
 "cells": [
  {
   "cell_type": "code",
   "execution_count": null,
   "id": "2f8acbb3",
   "metadata": {},
   "outputs": [],
   "source": [
    "# agent-based modeling\n",
    "\n",
    "\"\"\"\n",
    "streamlit - Reading PDFs\n",
    "\n",
    "PDF - split into overlapping chunks\n",
    "## the amount of content overlapping matters ##\n",
    "\n",
    "tokenization/embeddings [save space/time] -- OpenAI; Single Step\n",
    "\n",
    "FAISS -- Facebook AI Similarity Search\n",
    "\n",
    "Query; Look at the vector database for the next word having the highest probility.\n",
    "\"\"\""
   ]
  }
 ],
 "metadata": {
  "kernelspec": {
   "display_name": "Python 3 (ipykernel)",
   "language": "python",
   "name": "python3"
  },
  "language_info": {
   "codemirror_mode": {
    "name": "ipython",
    "version": 3
   },
   "file_extension": ".py",
   "mimetype": "text/x-python",
   "name": "python",
   "nbconvert_exporter": "python",
   "pygments_lexer": "ipython3",
   "version": "3.11.4"
  }
 },
 "nbformat": 4,
 "nbformat_minor": 5
}
