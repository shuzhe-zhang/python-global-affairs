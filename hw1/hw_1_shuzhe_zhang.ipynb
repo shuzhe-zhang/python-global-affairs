{
 "cells": [
  {
   "cell_type": "markdown",
   "metadata": {},
   "source": [
    "## Homework 1\n",
    "### Shuzhe (Rosemary) Zhang"
   ]
  },
  {
   "cell_type": "markdown",
   "metadata": {},
   "source": [
    "1. What is a markdown cell in jupyter notebook and how do I change a cell from a markdown cell to a code cell? \n",
    "\n",
    "Use a markdown cell type for this answer."
   ]
  },
  {
   "cell_type": "markdown",
   "metadata": {},
   "source": [
    "<span style=\"color:blue\"> \n",
    "    A Markdown cell enables text writing and formatting. To switch to a code cell, use the 'Cell' and 'Cell Type' dropdowns in the toolbar and select 'Code'.\n",
    "</span>"
   ]
  },
  {
   "cell_type": "markdown",
   "metadata": {},
   "source": [
    "2. In Python, what is the difference between =(single equal) and == (double equal)? Please give an example of each."
   ]
  },
  {
   "cell_type": "markdown",
   "metadata": {},
   "source": [
    "<span style=\"color:blue\">\n",
    "    The single equal sign is used for variable assignment, whereas the double equal sign is used for equality comparison.\n",
    "</span>"
   ]
  },
  {
   "cell_type": "code",
   "execution_count": 1,
   "metadata": {},
   "outputs": [
    {
     "name": "stdout",
     "output_type": "stream",
     "text": [
      "1\n",
      "2\n",
      "False\n"
     ]
    }
   ],
   "source": [
    "a = 1\n",
    "b = 2\n",
    "comparison = (a == b)\n",
    "print(a)\n",
    "print(b)\n",
    "print(comparison)"
   ]
  },
  {
   "cell_type": "markdown",
   "metadata": {},
   "source": [
    "3. If I am commenting on my code in a cell, what are the two ways to do this in Python?"
   ]
  },
  {
   "cell_type": "code",
   "execution_count": 2,
   "metadata": {},
   "outputs": [
    {
     "data": {
      "text/plain": [
       "'\\nThis is a comment\\nwritten in\\nmore than just one line\\n'"
      ]
     },
     "execution_count": 2,
     "metadata": {},
     "output_type": "execute_result"
    }
   ],
   "source": [
    "# This is a comment\n",
    "\n",
    "\"\"\"\n",
    "This is a comment\n",
    "written in\n",
    "more than just one line\n",
    "\"\"\""
   ]
  },
  {
   "cell_type": "markdown",
   "metadata": {},
   "source": [
    "4. Assign your name, your Yale program, and your year of graduation equal to variables of your choosing. Then write a print statement using an \"f string\" that says \"Hello, my name is (name). I am in Yale's (program) and I hope to graduate in (year).\""
   ]
  },
  {
   "cell_type": "code",
   "execution_count": 3,
   "metadata": {},
   "outputs": [
    {
     "name": "stdout",
     "output_type": "stream",
     "text": [
      "Hello, my name is Rosemary Zhang. I am in Yale's M.A. in International and Development Economics and I hope to graduate in 2024.\n"
     ]
    }
   ],
   "source": [
    "name = \"Rosemary Zhang\"\n",
    "program = \"M.A. in International and Development Economics\"\n",
    "year = \"2024\"\n",
    "\n",
    "print(f\"Hello, my name is {name}. I am in Yale's {program} and I hope to graduate in {year}.\")"
   ]
  },
  {
   "cell_type": "markdown",
   "metadata": {},
   "source": [
    "5. Write the mathematical operators for the following using a markdown cell type and give a code example of each:\n",
    "\n",
    "- plus: + , 3 + 4\n",
    "- minus: -, 3 - 4\n",
    "- multiply: *, 3 * 4\n",
    "- divide: /, 3 / 4\n",
    "- find the remainder of two numbers divided: %, 3 % 4\n",
    "- square (as in 3 squared is 9): **, 3 ** 2\n",
    "- cube (as in 2 cubed is 8): **, 2 ** 3\n",
    "- greater than: >, 3 > 4\n",
    "- greater than or equal to: >=, 3 >= 4\n",
    "- less than: <, 3 < 4\n",
    "- less than or equal to: <=, 3 <= 4"
   ]
  },
  {
   "cell_type": "code",
   "execution_count": 4,
   "metadata": {},
   "outputs": [
    {
     "name": "stdout",
     "output_type": "stream",
     "text": [
      "7\n",
      "-1\n",
      "12\n",
      "0.75\n",
      "3\n",
      "9\n",
      "8\n",
      "False\n",
      "False\n",
      "True\n",
      "True\n"
     ]
    }
   ],
   "source": [
    "print(3 + 4)\n",
    "print(3 - 4)\n",
    "print(3 * 4)\n",
    "print(3 / 4)\n",
    "print(3 % 4)\n",
    "print(3 ** 2)\n",
    "print(2 ** 3)\n",
    "print(3 > 4)\n",
    "print(3 >= 4)\n",
    "print(3 < 4)\n",
    "print(3 <= 4)"
   ]
  },
  {
   "cell_type": "markdown",
   "metadata": {},
   "source": [
    "6. What is the built-in Python function to determine the type of an object? Give four examples of using this function on four different object types."
   ]
  },
  {
   "cell_type": "code",
   "execution_count": 5,
   "metadata": {},
   "outputs": [
    {
     "name": "stdout",
     "output_type": "stream",
     "text": [
      "<class 'int'>\n",
      "<class 'float'>\n",
      "<class 'str'>\n",
      "<class 'list'>\n"
     ]
    }
   ],
   "source": [
    "print(type(1234))\n",
    "print(type(3.14))\n",
    "print(type(\"string\"))\n",
    "print(type(['a', 'b', 'c', 'd']))"
   ]
  },
  {
   "cell_type": "markdown",
   "metadata": {},
   "source": [
    "7. Use the \"replace\" method in python so that the following occurs:\n",
    "\n",
    "greeting = \"Hello there students!\"\n",
    "becomes\n",
    "print(greeting)\n",
    "output: \"Hello there Pythonistas!\""
   ]
  },
  {
   "cell_type": "code",
   "execution_count": 6,
   "metadata": {},
   "outputs": [
    {
     "name": "stdout",
     "output_type": "stream",
     "text": [
      "Hello there Pythonistas!\n"
     ]
    }
   ],
   "source": [
    "greeting = \"Hello there students!\"\n",
    "greeting = greeting.replace(\"students\", \"Pythonistas\")\n",
    "print(greeting)"
   ]
  },
  {
   "cell_type": "markdown",
   "metadata": {},
   "source": [
    "8.In the following code:\n",
    "agreement = \"Paris Agreement\" \n",
    "agreement.replace(\"Paris\", \"Moon\") \n",
    "print(agreement)\n",
    "\n",
    "The output is \"Paris Agreement\", not \"Moon Agreement\"\n",
    "\n",
    "Please explain why that is the case. "
   ]
  },
  {
   "cell_type": "markdown",
   "metadata": {},
   "source": [
    "<span style=\"color:blue\">The `replace()` method should return a new string, and in this case, the modification is not stored.</span>"
   ]
  },
  {
   "cell_type": "markdown",
   "metadata": {},
   "source": [
    "9. Now fix the code using the replace method so that:\n",
    "   agreement = \"Paris Agreement\"\n",
    "   when you write:\n",
    "   print(agreement)\n",
    "   output is \"Moon Agreement\""
   ]
  },
  {
   "cell_type": "code",
   "execution_count": 7,
   "metadata": {},
   "outputs": [
    {
     "name": "stdout",
     "output_type": "stream",
     "text": [
      "Moon Agreement\n"
     ]
    }
   ],
   "source": [
    "agreement = \"Paris Agreement\"\n",
    "agreement = agreement.replace(\"Paris\", \"Moon\")\n",
    "print(agreement)"
   ]
  },
  {
   "cell_type": "markdown",
   "metadata": {},
   "source": [
    "10. Please explain why the statement returns \"False\" and write code that fixes the error:"
   ]
  },
  {
   "cell_type": "code",
   "execution_count": 8,
   "metadata": {},
   "outputs": [
    {
     "data": {
      "text/plain": [
       "'\\n.3 + .3 + .3 == .9\\n'"
      ]
     },
     "execution_count": 8,
     "metadata": {},
     "output_type": "execute_result"
    }
   ],
   "source": [
    "\"\"\"\n",
    ".3 + .3 + .3 == .9\n",
    "\"\"\""
   ]
  },
  {
   "cell_type": "markdown",
   "metadata": {},
   "source": [
    "<span style=\"color:blue\">The statement returns False due to limited precision in floating-point arithmetic.</span>"
   ]
  },
  {
   "cell_type": "code",
   "execution_count": 9,
   "metadata": {},
   "outputs": [
    {
     "data": {
      "text/plain": [
       "True"
      ]
     },
     "execution_count": 9,
     "metadata": {},
     "output_type": "execute_result"
    }
   ],
   "source": [
    "import math\n",
    "\n",
    "math.isclose(.3 + .3 + .3, .9)"
   ]
  },
  {
   "cell_type": "markdown",
   "metadata": {},
   "source": [
    "11. I want to make a tip calculator. Step one:\n",
    "Please use the input method to accept an input from a user prompting them with \"Please enter the price of the meal\" and save it to the variable \"price\""
   ]
  },
  {
   "cell_type": "code",
   "execution_count": 10,
   "metadata": {},
   "outputs": [
    {
     "name": "stdout",
     "output_type": "stream",
     "text": [
      "Please enter the price of the meal: 5.12\n"
     ]
    }
   ],
   "source": [
    "price = input(\"Please enter the price of the meal: \" )"
   ]
  },
  {
   "cell_type": "markdown",
   "metadata": {},
   "source": [
    "12. Here is a script I wrote for a tip calculator:"
   ]
  },
  {
   "cell_type": "code",
   "execution_count": 11,
   "metadata": {},
   "outputs": [
    {
     "data": {
      "text/plain": [
       "'\\nprice = input(\"Please enter the price of the meal: \" )\\ntip = price * 0.22\\ntotal = price + tip\\nprint(\"A 16% tip would be: \", tip)\\nprint(\"The total including tip would be: \", total)\\n'"
      ]
     },
     "execution_count": 11,
     "metadata": {},
     "output_type": "execute_result"
    }
   ],
   "source": [
    "\"\"\"\n",
    "price = input(\"Please enter the price of the meal: \" )\n",
    "tip = price * 0.22\n",
    "total = price + tip\n",
    "print(\"A 16% tip would be: \", tip)\n",
    "print(\"The total including tip would be: \", total)\n",
    "\"\"\""
   ]
  },
  {
   "cell_type": "markdown",
   "metadata": {},
   "source": [
    "The problem is it throws an error! Can you look at this code and see why it is throwing an error without running it? "
   ]
  },
  {
   "cell_type": "markdown",
   "metadata": {},
   "source": [
    "<span style=\"color:blue\">The `input()` function returns a string. We need to convert it into a float before performing calculations.</span>"
   ]
  },
  {
   "cell_type": "markdown",
   "metadata": {},
   "source": [
    "13. Please fix the above code and run it:"
   ]
  },
  {
   "cell_type": "code",
   "execution_count": 12,
   "metadata": {},
   "outputs": [
    {
     "name": "stdout",
     "output_type": "stream",
     "text": [
      "Please enter the price of the meal: 5.12\n",
      "A 22% tip would be:  1.1264\n",
      "The total including tip would be:  6.2464\n"
     ]
    }
   ],
   "source": [
    "price_string = input(\"Please enter the price of the meal: \" )\n",
    "price = float(price_string)\n",
    "tip = price * 0.22\n",
    "total = price + tip\n",
    "print(\"A 22% tip would be: \", tip)\n",
    "print(\"The total including tip would be: \", total)"
   ]
  },
  {
   "cell_type": "markdown",
   "metadata": {},
   "source": [
    "14. Write a script that takes a user inputted string and checks whether if they are the following\n",
    "\n",
    "- if it is all alphabets\n",
    "- if it is numeric\n",
    "- if it is all upper case\n",
    "- if it is all lower case"
   ]
  },
  {
   "cell_type": "code",
   "execution_count": 13,
   "metadata": {},
   "outputs": [
    {
     "name": "stdout",
     "output_type": "stream",
     "text": [
      "Please enter a string: Hello World!\n"
     ]
    }
   ],
   "source": [
    "string = input(\"Please enter a string: \")\n",
    "\n",
    "if string.isalpha():\n",
    "    print(\"The input is all alphabets.\")\n",
    "if string.isdigit():\n",
    "    print(\"The input is numeric.\")\n",
    "if string.isupper():\n",
    "    print(\"The input is all upper case.\")\n",
    "if string.islower():\n",
    "    print(\"The input is all lower case.\")"
   ]
  },
  {
   "cell_type": "markdown",
   "metadata": {},
   "source": [
    "15. Write a script that takes a user inputted target_string of your chosing and prints it out in the following three formats.\n",
    "\n",
    "- All letters capitalized - capitalize( )\n",
    "- All letters lowercase - lower( )\n",
    "- All vowels lowercase and all consonants uppercase "
   ]
  },
  {
   "cell_type": "code",
   "execution_count": 14,
   "metadata": {},
   "outputs": [
    {
     "name": "stdout",
     "output_type": "stream",
     "text": [
      "Please enter a string: Hello World!\n",
      "Capitalized string: Hello world!\n",
      "Lowercase string: hello world!\n",
      "Formatted string: HeLLo WoRLD!\n"
     ]
    }
   ],
   "source": [
    "target_string  = input(\"Please enter a string: \")\n",
    "\n",
    "print(\"Capitalized string:\", target_string.capitalize())\n",
    "print(\"Lowercase string:\", target_string.lower())\n",
    "\n",
    "formatted_string = \"\"\n",
    "for char in target_string:\n",
    "    if char.lower() in 'aeiou':\n",
    "        formatted_string += char.lower()\n",
    "    else:\n",
    "        formatted_string += char.upper()\n",
    "print(\"Formatted string:\", formatted_string)"
   ]
  },
  {
   "cell_type": "markdown",
   "metadata": {},
   "source": [
    "16. Assuming a package is not part of the Anaconda build of Python used, how would I:\n",
    "- install a package from my terminal?\n",
    "- install a package from my Jupyter notebook?\n",
    "- import a package? \n",
    "- what happens when if I write \"import this\" but don't name a package? (run it below)"
   ]
  },
  {
   "cell_type": "code",
   "execution_count": 15,
   "metadata": {},
   "outputs": [
    {
     "name": "stdout",
     "output_type": "stream",
     "text": [
      "The Zen of Python, by Tim Peters\n",
      "\n",
      "Beautiful is better than ugly.\n",
      "Explicit is better than implicit.\n",
      "Simple is better than complex.\n",
      "Complex is better than complicated.\n",
      "Flat is better than nested.\n",
      "Sparse is better than dense.\n",
      "Readability counts.\n",
      "Special cases aren't special enough to break the rules.\n",
      "Although practicality beats purity.\n",
      "Errors should never pass silently.\n",
      "Unless explicitly silenced.\n",
      "In the face of ambiguity, refuse the temptation to guess.\n",
      "There should be one-- and preferably only one --obvious way to do it.\n",
      "Although that way may not be obvious at first unless you're Dutch.\n",
      "Now is better than never.\n",
      "Although never is often better than *right* now.\n",
      "If the implementation is hard to explain, it's a bad idea.\n",
      "If the implementation is easy to explain, it may be a good idea.\n",
      "Namespaces are one honking great idea -- let's do more of those!\n"
     ]
    }
   ],
   "source": [
    "\"\"\"\n",
    "- pip install new_package\n",
    "- !pip install new_package\n",
    "- import numpy\n",
    "- It prints the Zen of Python to the console.\n",
    "\"\"\"\n",
    "import this"
   ]
  },
  {
   "cell_type": "markdown",
   "metadata": {},
   "source": [
    "17.statement= 'It's truly one of my favorite quotes: \"Success depends on intuition, on seeing what afterwards proves to be true but cannot be established at the moment\"\n",
    "#To whom is the previous quote atributed?"
   ]
  },
  {
   "cell_type": "markdown",
   "metadata": {},
   "source": [
    "<span style=\"color:blue\">George Soros</span>"
   ]
  },
  {
   "cell_type": "markdown",
   "metadata": {},
   "source": [
    "18. Copy the code above to the cell below. Run it. Why is it throwing an error? Please fix it."
   ]
  },
  {
   "cell_type": "markdown",
   "metadata": {},
   "source": [
    "<span style=\"color:blue\">The string contains an incorrectly used single quote. We need to escape the inner single quote in 'It's'.</span>"
   ]
  },
  {
   "cell_type": "code",
   "execution_count": 2,
   "metadata": {},
   "outputs": [],
   "source": [
    "statement = 'It\\'s truly one of my favorite quotes: \"Success depends on intuition, on seeing what afterwards proves to be true but cannot be established at the moment\"'"
   ]
  },
  {
   "cell_type": "markdown",
   "metadata": {},
   "source": [
    "19. Write code, using the strip() method  to remove the white spaces from the beginning and the end of the following and print below:\n",
    "\n"
   ]
  },
  {
   "cell_type": "code",
   "execution_count": 17,
   "metadata": {},
   "outputs": [
    {
     "name": "stdout",
     "output_type": "stream",
     "text": [
      "Hi students. What's going on?!\n"
     ]
    }
   ],
   "source": [
    "greeting = \"   Hi students. What's going on?!       \"\n",
    "greeting_stripped = greeting.strip()\n",
    "print(greeting_stripped)"
   ]
  },
  {
   "cell_type": "markdown",
   "metadata": {},
   "source": [
    "20. (2pt) How do you convert a string to all lowercase? Give an example."
   ]
  },
  {
   "cell_type": "code",
   "execution_count": 18,
   "metadata": {},
   "outputs": [
    {
     "name": "stdout",
     "output_type": "stream",
     "text": [
      "an example\n"
     ]
    }
   ],
   "source": [
    "string = \"An Example\"\n",
    "string_lowercase = string.lower()\n",
    "print(string_lowercase)"
   ]
  },
  {
   "cell_type": "markdown",
   "metadata": {},
   "source": [
    "21. (2pt)How do you convert a string to a list in python? Give an example."
   ]
  },
  {
   "cell_type": "code",
   "execution_count": 19,
   "metadata": {},
   "outputs": [
    {
     "name": "stdout",
     "output_type": "stream",
     "text": [
      "['A', 'n', ' ', 'E', 'x', 'a', 'm', 'p', 'l', 'e']\n"
     ]
    }
   ],
   "source": [
    "string = \"An Example\"\n",
    "list_new = list(string)\n",
    "print(list_new)"
   ]
  },
  {
   "cell_type": "markdown",
   "metadata": {},
   "source": [
    "22. (2pt) How do you convert a string to a tuple in python? Give an example."
   ]
  },
  {
   "cell_type": "code",
   "execution_count": 20,
   "metadata": {},
   "outputs": [
    {
     "name": "stdout",
     "output_type": "stream",
     "text": [
      "('A', 'n', ' ', 'E', 'x', 'a', 'm', 'p', 'l', 'e')\n"
     ]
    }
   ],
   "source": [
    "string = \"An Example\"\n",
    "tuple_new = tuple(string)\n",
    "print(tuple_new)"
   ]
  },
  {
   "cell_type": "markdown",
   "metadata": {},
   "source": [
    "23. (2pt) How do you convert a string to an int in python? Give an example."
   ]
  },
  {
   "cell_type": "code",
   "execution_count": 21,
   "metadata": {},
   "outputs": [
    {
     "name": "stdout",
     "output_type": "stream",
     "text": [
      "6\n"
     ]
    }
   ],
   "source": [
    "string = \"6\"\n",
    "int_new = int(string)\n",
    "print(int_new)"
   ]
  },
  {
   "cell_type": "markdown",
   "metadata": {},
   "source": [
    "24. (2pt) How do you convert a string to a float in python? Give an example."
   ]
  },
  {
   "cell_type": "code",
   "execution_count": 22,
   "metadata": {},
   "outputs": [
    {
     "name": "stdout",
     "output_type": "stream",
     "text": [
      "3.14\n"
     ]
    }
   ],
   "source": [
    "string = \"3.14\"\n",
    "float_new = float(string)\n",
    "print(float_new)"
   ]
  },
  {
   "cell_type": "markdown",
   "metadata": {},
   "source": [
    "25. (2pt) What are Python's dictionaries? Give an example of a great use for dictionaries. Give an example."
   ]
  },
  {
   "cell_type": "markdown",
   "metadata": {},
   "source": [
    "<span style=\"color:blue\">Dictionaries efficiently associate keys with values, support diverse data types, and enable quick retrieval of values in large datasets.</span>"
   ]
  },
  {
   "cell_type": "code",
   "execution_count": 23,
   "metadata": {},
   "outputs": [
    {
     "name": "stdout",
     "output_type": "stream",
     "text": [
      "A penny is worth 1 cents.\n",
      "A nickel is worth 5 cents.\n",
      "A dime is worth 10 cents.\n",
      "A quarter is worth 25 cents.\n"
     ]
    }
   ],
   "source": [
    "coins = {\n",
    "    'penny': 1, \n",
    "    'nickel': 5, \n",
    "    'dime': 10, \n",
    "    'quarter': 25\n",
    "}\n",
    "for name, value in coins.items():\n",
    "    print(f'A {name} is worth {value} cents.')"
   ]
  },
  {
   "cell_type": "markdown",
   "metadata": {},
   "source": [
    "26. (2pt) Create a dictionary with keys and values. Give an example."
   ]
  },
  {
   "cell_type": "code",
   "execution_count": 24,
   "metadata": {},
   "outputs": [
    {
     "data": {
      "text/plain": [
       "{'penny': 1, 'nickel': 5, 'dime': 10, 'quarter': 25}"
      ]
     },
     "execution_count": 24,
     "metadata": {},
     "output_type": "execute_result"
    }
   ],
   "source": [
    "coins = {\n",
    "    'penny': 1, \n",
    "    'nickel': 5, \n",
    "    'dime': 10, \n",
    "    'quarter': 25\n",
    "}\n",
    "coins"
   ]
  },
  {
   "cell_type": "markdown",
   "metadata": {},
   "source": [
    "27. (2pt) How do you get all the values from the dictionary? Give an example."
   ]
  },
  {
   "cell_type": "code",
   "execution_count": 25,
   "metadata": {},
   "outputs": [
    {
     "name": "stdout",
     "output_type": "stream",
     "text": [
      "All values in the dictionary: dict_values([1, 5, 10, 25])\n"
     ]
    }
   ],
   "source": [
    "print(\"All values in the dictionary:\", coins.values())"
   ]
  },
  {
   "cell_type": "markdown",
   "metadata": {},
   "source": [
    "28. (2pt) How do you get all the keys from the dictionary? Give an example."
   ]
  },
  {
   "cell_type": "code",
   "execution_count": 26,
   "metadata": {},
   "outputs": [
    {
     "name": "stdout",
     "output_type": "stream",
     "text": [
      "All keys in the dictionary: dict_keys(['penny', 'nickel', 'dime', 'quarter'])\n"
     ]
    }
   ],
   "source": [
    "print(\"All keys in the dictionary:\", coins.keys())"
   ]
  },
  {
   "cell_type": "markdown",
   "metadata": {},
   "source": [
    "29. (2pt) How do you capitalizes first letter of string? Give an example."
   ]
  },
  {
   "cell_type": "code",
   "execution_count": 27,
   "metadata": {},
   "outputs": [
    {
     "name": "stdout",
     "output_type": "stream",
     "text": [
      "Capitalized string: String\n"
     ]
    }
   ],
   "source": [
    "string = \"string\"\n",
    "string_capitalized = string.capitalize()\n",
    "print(\"Capitalized string:\", string_capitalized)"
   ]
  },
  {
   "cell_type": "markdown",
   "metadata": {},
   "source": [
    "30. (2pt) How do you check in a string that all characters are digits? Give an example.\n"
   ]
  },
  {
   "cell_type": "code",
   "execution_count": 28,
   "metadata": {},
   "outputs": [
    {
     "name": "stdout",
     "output_type": "stream",
     "text": [
      "All characters of 1234 are digits: True\n",
      "All characters of 123a are digits: False\n",
      "All characters of abcd are digits: False\n"
     ]
    }
   ],
   "source": [
    "string1 = \"1234\"\n",
    "string2 = \"123a\"\n",
    "string3 = \"abcd\"\n",
    "print(f\"All characters of {string1} are digits:\", string1.isdigit())\n",
    "print(f\"All characters of {string2} are digits:\", string2.isdigit())\n",
    "print(f\"All characters of {string3} are digits:\", string3.isdigit())"
   ]
  },
  {
   "cell_type": "markdown",
   "metadata": {},
   "source": [
    "31. (2pt) How do you check in a string that all characters are alphanumeric? Give an example."
   ]
  },
  {
   "cell_type": "code",
   "execution_count": 29,
   "metadata": {},
   "outputs": [
    {
     "name": "stdout",
     "output_type": "stream",
     "text": [
      "All characters of 1234 are alphanumeric: True\n",
      "All characters of abcd are alphanumeric: True\n",
      "All characters of 123a are alphanumeric: True\n",
      "All characters of 12a! are alphanumeric: False\n"
     ]
    }
   ],
   "source": [
    "string1 = \"1234\"\n",
    "string2 = \"abcd\"\n",
    "string3 = \"123a\"\n",
    "string4 = \"12a!\"\n",
    "print(f\"All characters of {string1} are alphanumeric:\", string1.isalnum())\n",
    "print(f\"All characters of {string2} are alphanumeric:\", string2.isalnum())\n",
    "print(f\"All characters of {string3} are alphanumeric:\", string3.isalnum())\n",
    "print(f\"All characters of {string4} are alphanumeric:\", string4.isalnum())"
   ]
  },
  {
   "cell_type": "markdown",
   "metadata": {},
   "source": [
    "32. (2pt) How do you check in a string that all characters are in lowercase? Give an example."
   ]
  },
  {
   "cell_type": "code",
   "execution_count": 30,
   "metadata": {},
   "outputs": [
    {
     "name": "stdout",
     "output_type": "stream",
     "text": [
      "All characters of abc are in lowercase: True\n",
      "All characters of abC are in lowercase: False\n",
      "All characters of ABC are in lowercase: False\n"
     ]
    }
   ],
   "source": [
    "string1 = \"abc\"\n",
    "string2 = \"abC\"\n",
    "string3 = \"ABC\"\n",
    "print(f\"All characters of {string1} are in lowercase:\", string1.islower())\n",
    "print(f\"All characters of {string2} are in lowercase:\", string2.islower())\n",
    "print(f\"All characters of {string3} are in lowercase:\", string3.islower())"
   ]
  },
  {
   "cell_type": "markdown",
   "metadata": {},
   "source": [
    "33. (2pt) How do you check in a string that all characters are not numbers. Give an example."
   ]
  },
  {
   "cell_type": "code",
   "execution_count": 31,
   "metadata": {},
   "outputs": [
    {
     "name": "stdout",
     "output_type": "stream",
     "text": [
      "All characters of 1234 are not numbers: False\n",
      "All characters of 123a are not numbers: True\n",
      "All characters of abcd are not numbers: True\n"
     ]
    }
   ],
   "source": [
    "string1 = \"1234\"\n",
    "string2 = \"123a\"\n",
    "string3 = \"abcd\"\n",
    "print(f\"All characters of {string1} are not numbers:\", not string1.isdigit())\n",
    "print(f\"All characters of {string2} are not numbers:\", not string2.isdigit())\n",
    "print(f\"All characters of {string3} are not numbers:\", not string3.isdigit())"
   ]
  },
  {
   "cell_type": "markdown",
   "metadata": {},
   "source": [
    "33. (2pt) How do you get the length of the string? Give an example."
   ]
  },
  {
   "cell_type": "code",
   "execution_count": 32,
   "metadata": {},
   "outputs": [
    {
     "name": "stdout",
     "output_type": "stream",
     "text": [
      "Length of the string: 6\n"
     ]
    }
   ],
   "source": [
    "string = \"string\"\n",
    "print(\"Length of the string:\", len(string))"
   ]
  },
  {
   "cell_type": "markdown",
   "metadata": {},
   "source": [
    "34. (2pt) How do you convert a string to all lowercase? Give an example."
   ]
  },
  {
   "cell_type": "code",
   "execution_count": 33,
   "metadata": {},
   "outputs": [
    {
     "name": "stdout",
     "output_type": "stream",
     "text": [
      "Lowercase string: string\n"
     ]
    }
   ],
   "source": [
    "string = \"String\"\n",
    "print(\"Lowercase string:\", string.lower())"
   ]
  },
  {
   "cell_type": "markdown",
   "metadata": {},
   "source": [
    "35. (2pt) How do you remove all leading whitespace in string? Give an example."
   ]
  },
  {
   "cell_type": "code",
   "execution_count": 34,
   "metadata": {},
   "outputs": [
    {
     "name": "stdout",
     "output_type": "stream",
     "text": [
      "Trimmed string: string\n"
     ]
    }
   ],
   "source": [
    "string = \"         string\"\n",
    "print(\"Trimmed string:\", string.lstrip())"
   ]
  },
  {
   "cell_type": "markdown",
   "metadata": {},
   "source": [
    "36. (2pt) What is the difference between del() and remove() methods of list? Give an example."
   ]
  },
  {
   "cell_type": "markdown",
   "metadata": {},
   "source": [
    "<span style=\"color:blue\">The `del()` method is used to delete elements from a list, operating based on the index of the element to be removed. On the other hand, the `remove()` method removes the first occurrence of a specified value from the list, operating based on the value of the element to be removed.</span>"
   ]
  },
  {
   "cell_type": "code",
   "execution_count": 35,
   "metadata": {},
   "outputs": [
    {
     "name": "stdout",
     "output_type": "stream",
     "text": [
      "[1, 2, 4]\n",
      "[1, 3, 4]\n"
     ]
    }
   ],
   "source": [
    "list = [1, 2, 3, 4]\n",
    "del list[2]\n",
    "print(list)\n",
    "\n",
    "list2 = [1, 2, 3, 4]\n",
    "list2.remove(2)\n",
    "print(list2)\n"
   ]
  },
  {
   "cell_type": "markdown",
   "metadata": {},
   "source": [
    "37. (2pt) How do you get the index of an object in a list? Give an example."
   ]
  },
  {
   "cell_type": "code",
   "execution_count": 36,
   "metadata": {},
   "outputs": [
    {
     "name": "stdout",
     "output_type": "stream",
     "text": [
      "Index of 'a' in the list: 0\n"
     ]
    }
   ],
   "source": [
    "list = ['a', 'b', 'c', 'd']\n",
    "print(\"Index of 'a' in the list:\", list.index('a'))"
   ]
  },
  {
   "cell_type": "markdown",
   "metadata": {},
   "source": [
    "38. (2pt) How do you insert an object at given index in a list? Give an example."
   ]
  },
  {
   "cell_type": "code",
   "execution_count": 37,
   "metadata": {},
   "outputs": [
    {
     "name": "stdout",
     "output_type": "stream",
     "text": [
      "New list: ['a', 'b', 'e', 'c', 'd']\n"
     ]
    }
   ],
   "source": [
    "list = ['a', 'b', 'c', 'd']\n",
    "list.insert(2, 'e')\n",
    "print(\"New list:\", list)"
   ]
  },
  {
   "cell_type": "markdown",
   "metadata": {},
   "source": [
    "39. (2pt) How do you get the length of a list? Give an example."
   ]
  },
  {
   "cell_type": "code",
   "execution_count": 38,
   "metadata": {},
   "outputs": [
    {
     "name": "stdout",
     "output_type": "stream",
     "text": [
      "Length of the list: 4\n"
     ]
    }
   ],
   "source": [
    "list = ['a', 'b', 'c', 'd']\n",
    "print(\"Length of the list:\", len(list))"
   ]
  },
  {
   "cell_type": "markdown",
   "metadata": {},
   "source": [
    "40. (2pt) How do you remove last object from a list?"
   ]
  },
  {
   "cell_type": "code",
   "execution_count": 39,
   "metadata": {},
   "outputs": [
    {
     "name": "stdout",
     "output_type": "stream",
     "text": [
      "List after removing the last object: ['a', 'b', 'c']\n"
     ]
    }
   ],
   "source": [
    "list = ['a', 'b', 'c', 'd']\n",
    "list.pop()\n",
    "print(\"List after removing the last object:\", list)"
   ]
  },
  {
   "cell_type": "markdown",
   "metadata": {},
   "source": [
    "41. (2pt) How do you reverse a list? Give an example."
   ]
  },
  {
   "cell_type": "code",
   "execution_count": 40,
   "metadata": {},
   "outputs": [
    {
     "name": "stdout",
     "output_type": "stream",
     "text": [
      "Reversed list: ['d', 'c', 'b', 'a']\n"
     ]
    }
   ],
   "source": [
    "list = ['a', 'b', 'c', 'd']\n",
    "list.reverse()\n",
    "print(\"Reversed list:\", list)"
   ]
  },
  {
   "cell_type": "markdown",
   "metadata": {},
   "source": [
    "42. (2pt) How would you slice a list? Give an example."
   ]
  },
  {
   "cell_type": "code",
   "execution_count": 41,
   "metadata": {},
   "outputs": [
    {
     "name": "stdout",
     "output_type": "stream",
     "text": [
      "Sliced list: ['b', 'c']\n"
     ]
    }
   ],
   "source": [
    "list = ['a', 'b', 'c', 'd']\n",
    "list_sliced = list[1:3]\n",
    "print(\"Sliced list:\", list_sliced)"
   ]
  },
  {
   "cell_type": "markdown",
   "metadata": {},
   "source": [
    "43. (10 pts) Iterate through a list and create a new list with only happy words. A happy is anything above the threshold. Print your happy word list without values (just words)."
   ]
  },
  {
   "cell_type": "code",
   "execution_count": 42,
   "metadata": {},
   "outputs": [
    {
     "name": "stdout",
     "output_type": "stream",
     "text": [
      "Happy words list: ['overjoyed', 'blissful', 'chocolately']\n"
     ]
    }
   ],
   "source": [
    "threshold = 0.5\n",
    "feelings = [('blue', 0.1), ('melancholy',0.4), ('fine', 0.5 ), ('okay',0.5), ('overjoyed',1.0), ('blissful',0.9), ('chocolately',0.8)]\n",
    "\n",
    "happy_words = []\n",
    "for word, happiness in feelings:\n",
    "    if happiness > threshold:\n",
    "        happy_words.append(word)\n",
    "\n",
    "print(\"Happy words list:\", happy_words)\n"
   ]
  },
  {
   "cell_type": "markdown",
   "metadata": {},
   "source": [
    "44. (5 pts) Take a user input that takes in a user's name, age.\n",
    "Create an f string that prints \"Hello \"name\", how does it feel to be \"age?\"\n",
    "Then create an answer that takes a random choice from your happy_word list, and print \"Gee, it feels \"answer\" to be \"age\". Thanks for asking!\"\n",
    "\n"
   ]
  },
  {
   "cell_type": "code",
   "execution_count": 43,
   "metadata": {
    "scrolled": true
   },
   "outputs": [
    {
     "name": "stdout",
     "output_type": "stream",
     "text": [
      "Enter your name: Jane Doe\n",
      "Enter your age: 23\n",
      "Hello Jane Doe, how does it feel to be 23?\n",
      "Gee, it feels chocolately to be 23. Thanks for asking!\n"
     ]
    }
   ],
   "source": [
    "import random\n",
    "\n",
    "name = input(\"Enter your name: \")\n",
    "age = input(\"Enter your age: \")\n",
    "word = random.choice(happy_words)\n",
    "\n",
    "print(f\"Hello {name}, how does it feel to be {age}?\")\n",
    "print(f\"Gee, it feels {word} to be {age}. Thanks for asking!\")"
   ]
  },
  {
   "cell_type": "markdown",
   "metadata": {},
   "source": [
    "45. (5 pts) Convert the following quote to a single string assigned to the variable Brzezinski, without numbers or special characters. Print the output. Make sure you add quotation marks to the beginning and end of the quote."
   ]
  },
  {
   "cell_type": "code",
   "execution_count": 44,
   "metadata": {},
   "outputs": [
    {
     "name": "stdout",
     "output_type": "stream",
     "text": [
      "Most Americans are close to total ignorance about the world They are ignorant That is an unhealthy condition in a country in which foreign policy has to be endorsed by the people if it is to be pursued And it makes it much more difficult for any president to pursue an intelligent policy that does justice to the complexity of the world\n"
     ]
    }
   ],
   "source": [
    "quote = [[('Most Americans ^331 are close to total ignorance about the world. They are ignorant. That is an unhealthy condition in a country in which foreign policy has to be endorsed by the people 402 if it is to be pursued. And 404 it makes it much more difficult for any president to pursue an intelligent %%&* policy that does justice to the complexity of the world.')]]\n",
    "\n",
    "Brzezinski = ''.join(char for char in quote[0][0] if char.isalpha() or char.isspace())\n",
    "Brzezinski = Brzezinski.replace('  ', ' ')\n",
    "print(Brzezinski)"
   ]
  },
  {
   "cell_type": "markdown",
   "metadata": {},
   "source": [
    "46. (1pts) There is a wikipedia package for Python! It makes it super easy to collect and parse entries. Install it and print a summary of the Marquis de Lafayette in French."
   ]
  },
  {
   "cell_type": "code",
   "execution_count": 45,
   "metadata": {},
   "outputs": [
    {
     "name": "stdout",
     "output_type": "stream",
     "text": [
      "Marie-Joseph Paul Yves Roch Gilbert du Motier de La Fayette, Marquis de La Fayette (6 September 1757 – 20 May 1834), known in the United States as Lafayette (, French: [lafajɛt]), was a French aristocrat, freemason, and military officer who volunteered to join the Continental Army, led by General George Washington, in the American Revolutionary War. Lafayette was ultimately permitted to command Continental Army troops in the decisive siege of Yorktown in 1781, the Revolutionary War's final major battle that secured American independence. After returning to France, Lafayette became a key figure in the French Revolution of 1789 and the July Revolution of 1830 and continues to be celebrated as a hero in both France and the United States.\n",
      "Lafayette was born into a wealthy land-owning family in Chavaniac in the province of Auvergne in south central France. He followed the family's martial tradition and was commissioned an officer at age 13. He became convinced that the American revolutionary cause was noble, and he traveled to the New World seeking glory in it. He was made a major general at age 19, but he was initially not given American troops to command. He was wounded during the Battle of Brandywine but still managed to organize an orderly retreat, and he served with distinction in the Battle of Rhode Island. In the middle of the war, he sailed for home to lobby for an increase in French support. He returned to America in 1780 and was given senior positions in the Continental Army. In 1781, troops under his command in Virginia blocked forces led by Cornwallis until other American and French forces could position themselves for the decisive Siege of Yorktown.\n",
      "Lafayette returned to France and was appointed to the Assembly of Notables in 1787, convened in response to the fiscal crisis. He was elected a member of the Estates General of 1789, where representatives met from the three traditional orders of French society: the clergy, the nobility, and the commoners. After the National Constituent Assembly was formed, he helped to write the Declaration of the Rights of Man and of the Citizen with Thomas Jefferson's assistance. This document was inspired by the United States Declaration of Independence, which was authored primarily by Jefferson, and invoked natural law to establish basic principles of the democratic nation-state. He also advocated the end of slavery, in keeping with the philosophy of natural rights. After the storming of the Bastille, he was appointed commander-in-chief of France's National Guard and tried to steer a middle course through the years of revolution. In August 1792, radical factions ordered his arrest, and he fled to the Austrian Netherlands. He was captured by Austrian troops and spent more than five years in prison.\n",
      "Lafayette returned to France after Napoleon Bonaparte secured his release in 1797, though he refused to participate in Napoleon's government. After the Bourbon Restoration of 1814, he became a liberal member of the Chamber of Deputies, a position which he held for most of the remainder of his life. In 1824, President James Monroe invited him to the United States as the nation's guest, where he visited all 24 states in the union and met a rapturous reception. During France's July Revolution of 1830, he declined an offer to become the French dictator. Instead, he supported Louis-Philippe as king, but turned against him when the monarch became autocratic. He died on 20 May 1834 and is buried in Picpus Cemetery in Paris, under soil from Bunker Hill. He is sometimes known as \"The Hero of the Two Worlds\" for his accomplishments in the service of both France and the United States.\n"
     ]
    }
   ],
   "source": [
    "# ! pip install wikipedia-api\n",
    "import wikipediaapi\n",
    "\n",
    "wiki_wiki = wikipediaapi.Wikipedia('french')\n",
    "print(wiki_wiki.page(\"Marquis_de_La_Fayette\").summary)"
   ]
  },
  {
   "cell_type": "markdown",
   "metadata": {},
   "source": [
    "47. (4pts) Write a function that takes two arguments, name and hometown and prints a statement that says, \"Well hello 'name', you must be from 'hometown' as an f string when called."
   ]
  },
  {
   "cell_type": "code",
   "execution_count": 46,
   "metadata": {},
   "outputs": [
    {
     "name": "stdout",
     "output_type": "stream",
     "text": [
      "Well hello John Doe, you must be from New Haven.\n"
     ]
    }
   ],
   "source": [
    "def greet(name, hometown):\n",
    "    print(f\"Well hello {name}, you must be from {hometown}.\")\n",
    "\n",
    "greet(\"John Doe\", \"New Haven\")"
   ]
  },
  {
   "cell_type": "markdown",
   "metadata": {},
   "source": [
    "48. Write a script that takes an age as a user input and prints the following, based on conditions, using if, elif, and else:\n",
    "\n",
    "- If the age is 1-18: print \"This individual is a minor. Their brain is still growing.\"\n",
    "- If the age is 19-25: print. \"Though the brain may be done growing in size, it does not finish developing and maturing until the mid- to late 20s.\"\n",
    "- If the age is 26-40: \"Accomplish what you can before your brain rots!\"\n",
    "- If the age is 41-100: \"Don't despair! For the first time, researchers have been able to identify superagers. MRI images of the brains of superagers with an average age of 67 are remarkably similar to the brain of 25-year-olds.\""
   ]
  },
  {
   "cell_type": "code",
   "execution_count": 47,
   "metadata": {},
   "outputs": [
    {
     "name": "stdout",
     "output_type": "stream",
     "text": [
      "Enter your age: 23\n",
      "Though the brain may be done growing in size, it does not finish developing and maturing until the mid- to late 20s.\n"
     ]
    }
   ],
   "source": [
    "age = int(input(\"Enter your age: \"))\n",
    "\n",
    "if 1 <= age <= 18:\n",
    "    print(\"This individual is a minor. Their brain is still growing.\")\n",
    "elif 19 <= age <= 25:\n",
    "    print(\"Though the brain may be done growing in size, it does not finish developing and maturing until the mid- to late 20s.\")\n",
    "elif 26 <= age <= 40:\n",
    "    print(\"Accomplish what you can before your brain rots!\")\n",
    "else:\n",
    "    print(\"Don't despair! For the first time, researchers have been able to identify superagers. MRI images of the brains of superagers with an average age of 67 are remarkably similar to the brain of 25-year-olds.\")"
   ]
  },
  {
   "cell_type": "markdown",
   "metadata": {},
   "source": [
    "49.Write a while loop that counts down from 20 to \"blastoff\":\n",
    "\n",
    "Hint: decrement each time using n = n -1 or using -= n = 20"
   ]
  },
  {
   "cell_type": "code",
   "execution_count": 48,
   "metadata": {},
   "outputs": [
    {
     "name": "stdout",
     "output_type": "stream",
     "text": [
      "20\n",
      "19\n",
      "18\n",
      "17\n",
      "16\n",
      "15\n",
      "14\n",
      "13\n",
      "12\n",
      "11\n",
      "10\n",
      "9\n",
      "8\n",
      "7\n",
      "6\n",
      "5\n",
      "4\n",
      "3\n",
      "2\n",
      "1\n",
      "blastoff\n"
     ]
    }
   ],
   "source": [
    "n = 20\n",
    "while n > 0:\n",
    "    print(n)\n",
    "    n = n - 1\n",
    "print(\"blastoff\")"
   ]
  },
  {
   "cell_type": "markdown",
   "metadata": {},
   "source": [
    "50. Write code, using the strip method, to remove the unnecessary characters and add a space to print 'Jackson Python.'"
   ]
  },
  {
   "cell_type": "code",
   "execution_count": 49,
   "metadata": {},
   "outputs": [
    {
     "name": "stdout",
     "output_type": "stream",
     "text": [
      "Jackson Python\n"
     ]
    }
   ],
   "source": [
    "jackson_string = \"grrrrr....ughhhh..JacksonPython@@@!!!!\"\n",
    "\n",
    "cleaned_string = jackson_string.strip('gurh.@!')\n",
    "print(cleaned_string.replace('Jackson', 'Jackson '))"
   ]
  }
 ],
 "metadata": {
  "kernelspec": {
   "display_name": "Python 3 (ipykernel)",
   "language": "python",
   "name": "python3"
  },
  "language_info": {
   "codemirror_mode": {
    "name": "ipython",
    "version": 3
   },
   "file_extension": ".py",
   "mimetype": "text/x-python",
   "name": "python",
   "nbconvert_exporter": "python",
   "pygments_lexer": "ipython3",
   "version": "3.11.4"
  }
 },
 "nbformat": 4,
 "nbformat_minor": 4
}
