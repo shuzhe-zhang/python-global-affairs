{
 "cells": [
  {
   "cell_type": "markdown",
   "id": "20724b08-3ac7-45e2-9465-cde655fc5319",
   "metadata": {},
   "source": [
    "## Basic Data Types vs. Data Structures\n",
    "Basic Data Types: \n",
    "Integers, floats, booleans, and characters are considered basic or primitive data types. They represent single values and are the building blocks used within data structures. Integers, floats, Booleans, strings\n",
    "\n",
    "Data Structures: These are more complex organizations of data designed for efficient storage and manipulation of data collections. Data structures can be linear (like arrays, lists, stacks, and queues) or non-linear (like trees and graphs), and they can hold multiple items, often including basic data types as their elements."
   ]
  },
  {
   "cell_type": "markdown",
   "id": "bb628f9f-016c-4d8d-b31d-62b5639b1c8a",
   "metadata": {},
   "source": [
    "### What about strings?\n",
    "\n",
    "Strings can be viewed both as a data type and as a data structure, depending on the context of the discussion and the level of abstraction considered.\n",
    "\n",
    "\n",
    "#### Strings as a Data Type: \n",
    "In many programming languages, including Python, a string is considered a basic data type. It represents textual data, consisting of a sequence of characters. As a basic data type, strings are used to store and manipulate text, such as names, messages, or any other kind of textual information.\n",
    "\n",
    "#### Strings as a Data Structure\n",
    "Sequential Data Structure: Strings can also be viewed as a data structure, specifically a sequential or linear data structure. This perspective comes from their ability to organize data (characters) in a sequential order, supporting operations like indexing, slicing, iterating, and searching. In this sense, strings share characteristics with other sequence data structures, such as lists and arrays, but are specialized for textual content.\n",
    "\n",
    "#### Python's Approach\n",
    "In Python, strings are objects of the class str. This object-oriented approach provides strings with methods that allow them to behave like both data types (by holding textual data) and data structures (by organizing characters in sequence and supporting various operations).\n",
    "\n",
    "Python treats strings as immutable sequences, meaning once a string is created, it cannot be modified in place—any operation that modifies a string will actually create a new string. This immutability is similar to how tuples, another sequence data structure, are treated in Python, contrasting with lists, which are mutable.\n",
    "\n",
    "\n",
    "The dual nature of strings—as both a data type for text representation and a data structure for organizing a sequence of characters—highlights the versatility of strings in programming. This versatility allows for a wide range of applications, from simple text processing to complex data manipulation and analysis, making strings a fundamental aspect of software development across various programming languages, including Python."
   ]
  },
  {
   "cell_type": "markdown",
   "id": "89492aab-a066-4f15-91df-5f06cf722dd4",
   "metadata": {},
   "source": [
    "## Built in DATA STRUCTURES in Python\n",
    "\n",
    "Python offers a variety of built-in data structures, each with its unique features and uses. Here's a comprehensive list of Python's primary data structures:\n",
    "\n",
    "Built-in Data Structures\n",
    "\n",
    "**List**: An **ordered, mutable** collection of items that can be of mixed types. Lists are defined with square brackets [].\n",
    "\n",
    "**Tuple**: An **ordered, immutable** collection of items that can be of mixed types. Tuples are defined with parentheses ().\n",
    "\n",
    "**Set**: An **unordered** collection of unique items. Sets are **mutable**, do not allow duplicates, and are defined with curly braces {} or the set() function for an empty set.\n",
    "\n",
    "**Dictionary (Dict)**: A collection of key-value pairs where keys are unique. Dictionaries are **mutable and ordered** by insertion order (as of Python 3.7+). They are defined with curly braces {} with key-value pairs separated by colons.\n"
   ]
  },
  {
   "cell_type": "markdown",
   "id": "93df0af9-bc67-4b65-b1b8-3cfd735a4aa8",
   "metadata": {},
   "source": [
    "1. What does the word \"mutable\" mean in English? Is that like Teenage Mutable Ninja Turtle? Give me a definition of mutable. "
   ]
  },
  {
   "cell_type": "markdown",
   "id": "db6f81bb",
   "metadata": {},
   "source": [
    "<span style='color:blue'>\n",
    "    Mutable means being capable of change. An object is mutable if its value can be modified after it is created, without the need to create a new object.\n",
    "</span>"
   ]
  },
  {
   "cell_type": "markdown",
   "id": "15e47d62-be18-4d93-81e9-048fd6501aec",
   "metadata": {},
   "source": [
    "2. Write a function called \"translate_word\" using the googletrans package in Python. Translate the word \"mutable\" into the language of your choice. Comment each line of code that explains what each line does. If you do not, points will be deducted."
   ]
  },
  {
   "cell_type": "code",
   "execution_count": 1,
   "id": "d14c6e05-fa1e-4477-bb08-d396b6773387",
   "metadata": {},
   "outputs": [
    {
     "name": "stdout",
     "output_type": "stream",
     "text": [
      "可变的\n"
     ]
    }
   ],
   "source": [
    "# Install and download the deep_translator package\n",
    "# ! pip install deep_translator\n",
    "\n",
    "# Import the GoogleTranslator class from the deep_translator package\n",
    "from deep_translator import GoogleTranslator\n",
    "\n",
    "# Create an instance of the GoogleTranslator class\n",
    "# Set the target language to Mandarin Chinese\n",
    "translator = GoogleTranslator(target='zh-CN')\n",
    "\n",
    "# Translate the word\n",
    "translated_word = translator.translate('mutable')\n",
    "\n",
    "# Print the result\n",
    "print(translated_word)"
   ]
  },
  {
   "cell_type": "markdown",
   "id": "5dbc120f-481d-4f99-871b-02200ac49345",
   "metadata": {},
   "source": [
    "3. Of the built-in data structures, which are mutable?"
   ]
  },
  {
   "cell_type": "markdown",
   "id": "888c58d0",
   "metadata": {},
   "source": [
    "<span style='color:blue'>\n",
    "    Lists, sets, and dictionaries are mutable.\n",
    "</span>"
   ]
  },
  {
   "cell_type": "markdown",
   "id": "85a242b5",
   "metadata": {},
   "source": [
    "4. Of the built-in data structures, which are immutable?"
   ]
  },
  {
   "cell_type": "markdown",
   "id": "a42e7365",
   "metadata": {},
   "source": [
    "<span style='color:blue'>\n",
    "    Tuples are immutable.\n",
    "</span>"
   ]
  },
  {
   "cell_type": "markdown",
   "id": "9cf886d0",
   "metadata": {},
   "source": [
    "5. Of the built in data structures, which are ordered? What does that mean? Give me an example."
   ]
  },
  {
   "cell_type": "markdown",
   "id": "2ad0ae4b-a9b2-490b-834a-b899cb2c6611",
   "metadata": {},
   "source": [
    "a.What does that mean?\n",
    "Explain here:\n"
   ]
  },
  {
   "cell_type": "markdown",
   "id": "df2bcd84",
   "metadata": {},
   "source": [
    "<span style='color:blue'>\n",
    "    If a data structure is ordered, it means that the order of the data is preserved. This characteristic is important when the position of data needs to remain fixed in the order in which it was inserted. Lists, tuples, and dictionaries are ordered.\n",
    "</span>"
   ]
  },
  {
   "cell_type": "markdown",
   "id": "e9c6fee6",
   "metadata": {},
   "source": [
    "b. Give an example"
   ]
  },
  {
   "cell_type": "code",
   "execution_count": 2,
   "id": "3365e7fa",
   "metadata": {},
   "outputs": [
    {
     "name": "stdout",
     "output_type": "stream",
     "text": [
      "['a', 'b', 'c', 'd', 'e', 'f', 'g', 'h', 'i', 'j', 'k', 'l', 'm', 'n', 'o', 'p', 'q', 'r', 's', 't', 'u', 'v', 'w', 'x', 'y', 'z', 'A', 'B', 'C', 'D', 'E', 'F', 'G', 'H', 'I', 'J', 'K', 'L', 'M', 'N', 'O', 'P', 'Q', 'R', 'S', 'T', 'U', 'V', 'W', 'X', 'Y', 'Z']\n",
      "\n",
      "('a', 'b', 'c', 'd', 'e', 'f', 'g', 'h', 'i', 'j', 'k', 'l', 'm', 'n', 'o', 'p', 'q', 'r', 's', 't', 'u', 'v', 'w', 'x', 'y', 'z', 'A', 'B', 'C', 'D', 'E', 'F', 'G', 'H', 'I', 'J', 'K', 'L', 'M', 'N', 'O', 'P', 'Q', 'R', 'S', 'T', 'U', 'V', 'W', 'X', 'Y', 'Z')\n",
      "\n",
      "{'x', 'S', 'R', 'E', 'V', 'g', 'v', 'd', 'F', 'J', 'L', 'M', 'X', 'i', 'f', 'W', 'c', 'Z', 'y', 'A', 'r', 'B', 'P', 't', 'o', 'h', 'H', 'K', 'Q', 'C', 'j', 'q', 'I', 'n', 'b', 'u', 'G', 'e', 'm', 'p', 'T', 's', 'l', 'D', 'a', 'U', 'O', 'w', 'z', 'k', 'N', 'Y'}\n"
     ]
    }
   ],
   "source": [
    "letters = 'abcdefghijklmnopqrstuvwxyzABCDEFGHIJKLMNOPQRSTUVWXYZ'\n",
    "\n",
    "print(list(letters))\n",
    "print()\n",
    "print(tuple(letters))\n",
    "print()\n",
    "print(set(letters))"
   ]
  },
  {
   "cell_type": "markdown",
   "id": "7ed5f693-0bdd-4358-a2c4-6949aa195a0b",
   "metadata": {},
   "source": [
    "6. So, wait...you mean a set is unordered? True of False I set a set equal to a variable it might print differently each time"
   ]
  },
  {
   "cell_type": "markdown",
   "id": "0eecf38c",
   "metadata": {},
   "source": [
    "<span style='color:blue'>\n",
    "    The statement is false. Even though sets are inherently unordered, within a single Python session, a set will often display its elements in the same order if it is not modified. The way elements are stored in memory is based on their hash values, not on the order of insertion.\n",
    "</span>"
   ]
  },
  {
   "cell_type": "markdown",
   "id": "862cea8e-739d-4b1d-b5f0-36ca90bda018",
   "metadata": {},
   "source": [
    "7. Prove your answer above with examples that provide compelling if not conslusive evidence:"
   ]
  },
  {
   "cell_type": "code",
   "execution_count": 3,
   "id": "b1277d43-65ab-4feb-8f33-b1543bdf59ae",
   "metadata": {},
   "outputs": [
    {
     "name": "stdout",
     "output_type": "stream",
     "text": [
      "Initial Set - Test 1: {'yellow', 'red', 'green'}\n",
      "Initial Set - Test 2: {'yellow', 'red', 'green'}\n",
      "Initial Set - Test 3: {'yellow', 'red', 'green'}\n",
      "\n",
      "New Set: {'blue', 'yellow', 'red', 'green'}\n"
     ]
    }
   ],
   "source": [
    "set1 = {'red', 'yellow', 'green'}\n",
    "\n",
    "print(\"Initial Set - Test 1:\", set1)\n",
    "print(\"Initial Set - Test 2:\", set1)\n",
    "print(\"Initial Set - Test 3:\", set1)\n",
    "\n",
    "print()\n",
    "set1.add(\"blue\")\n",
    "print(\"New Set:\", set1)"
   ]
  },
  {
   "cell_type": "markdown",
   "id": "0a57ad25-f7b7-4b11-8812-b5dda6af2f3f",
   "metadata": {},
   "source": [
    "## Extended Data Structures:\n",
    "\n",
    "Python's versatility and richness mean there are indeed more types and structures, especially when considering broader usage contexts, including those provided by standard libraries beyond the built-in and collections modules.\n",
    "\n",
    "(You won't have to worry about these, but I wanted you to see them)\n",
    "\n",
    "Bytes and Byte Arrays: Used for binary data manipulation. bytes are immutable, and bytearray are mutable.\n",
    "\n",
    "MemoryView: A memoryview object allows Python code to access the internal data of an object that supports the buffer protocol without copying. This is a more advanced feature used for direct memory access and manipulation.\n",
    "\n",
    "Arrays (from the array module): Provides a space-efficient way to store C-type data structures. Good for large arrays of basic C-type data where lists would be memory-inefficient.\n",
    "\n",
    "Structs (from the struct module): Allows for packing and unpacking data to and from C-like structs, useful for binary data processing and interfacing with C code.\n",
    "\n",
    "Queues (from the queue module): Provides thread-safe classes for multi-threading programming, including FIFO (queue.Queue), LIFO (queue.LifoQueue), and priority queues (queue.PriorityQueue).\n",
    "\n",
    "Linked Lists, Trees, Graphs: Not provided as built-in data structures in Python but can be implemented using classes or using collections like lists and dictionaries for their representation.\n",
    "\n",
    "These are the ones you'll see:\n",
    "\n",
    "**Strings**: As we discussed, strings are sequential collections of characters, fundamental for text processing.\n",
    "\n",
    "**DataFrames (from pandas library)**: While not part of Python's standard library, pandas DataFrames are crucial in data science and analytics for structured data manipulation and analysis.\n",
    "\n",
    "**Arrays (from numpy library)**(: Similar to pandas, numpy arrays are not built-in but are essential in scientific computing for efficient array and matrix operations.\n",
    "\n"
   ]
  },
  {
   "cell_type": "markdown",
   "id": "ad055f0a-6de3-48df-b1f2-db098e7c35aa",
   "metadata": {},
   "source": [
    "## LISTS\n"
   ]
  },
  {
   "cell_type": "markdown",
   "id": "84fd5405-12a2-446a-b904-d0888f13d2bf",
   "metadata": {},
   "source": [
    "\n",
    "International development economics often involves analyzing data to understand and address global economic disparities, poverty, and development challenges.\n",
    "\n",
    "Lists can be used to store, manipulate, and analyze this data in complex ways. Here are three examples of complex uses of lists involving international development economics data:\n",
    "\n",
    "#### Multidimensional Lists for Storing Country Profiles\n",
    "A multidimensional list can store comprehensive economic profiles of countries, including metrics like GDP, poverty rate, literacy rate, and unemployment rate. Each sublist represents a country, with elements corresponding to different economic indicators.\n"
   ]
  },
  {
   "cell_type": "code",
   "execution_count": 4,
   "id": "04bd5ef7-933b-4f63-a9ac-b4d4bfb174e8",
   "metadata": {},
   "outputs": [],
   "source": [
    "countries = [\n",
    "    [\"Country A\", 300000000, 15.2, 98.5, 4.2],  # [Country Name, GDP (USD), Poverty Rate (%), Literacy Rate (%), Unemployment Rate (%)]\n",
    "    [\"Country B\", 1200000000, 29.1, 88.0, 9.8],\n",
    "    [\"Country C\", 450000000, 5.4, 99.2, 3.5]\n",
    "]"
   ]
  },
  {
   "cell_type": "markdown",
   "id": "355e0ac0-2a54-42bc-8030-cce5b74974ef",
   "metadata": {},
   "source": [
    "8. Select FIVE countries using OECD data: https://stats.oecd.org/ Create a multidimensional list with the name of the country first, then GDP, and then 3 other metrics of your choosing. Assign them to the variable \"countries_list1\"."
   ]
  },
  {
   "cell_type": "code",
   "execution_count": 5,
   "id": "9313fd19-6136-477a-8238-e77207aaa375",
   "metadata": {},
   "outputs": [
    {
     "data": {
      "text/plain": [
       "'\\nAnnual GDP and components - expenditure approach, US $, current prices, current PPPs, millions\\nInstitutional sector: Total economy\\nCounterpart institutional sector: Total economy\\nTransaction: Gross domestic product\\nCombined unit of measure: US dollars, PPP converted, Millions\\n\\nHealth status\\nFrequency of observation: Annual\\nMeasure: Life expectancy\\nAge: 0 years\\nUnit of measure: Years\\n\\nInfra-annual labour statistics\\nAge: 15 years or over\\nFrequency of observation: Annual\\nMeasure: Unemployment rate\\nUnit of measure: Percentage of labour force in the same subgroup, Calendar and seasonally adjusted\\n\\nMain Science and Technology Indicators (MSTI database)\\nFrequency of observation: Annual\\nMeasure: Gross Domestic Expenditure on R&D (GERD)\\nCombined unit of measure: Percentage of GDP\\n\\n'"
      ]
     },
     "execution_count": 5,
     "metadata": {},
     "output_type": "execute_result"
    }
   ],
   "source": [
    "# Create a multidimensional list\n",
    "countries_list1 = [\n",
    "    [\"Australia\", 1248366.73, 82.5, 5.60, 1.79], \n",
    "    [\"Austria\", 476590.59, 81.7, 5.50, 3.06],\n",
    "    [\"Belgium\", 573788.53, 81.6, 7.09, 2.67],\n",
    "    [\"Canada\", 1765763.15, 81.9, 6.43, 1.69],\n",
    "    [\"Chile\", 450891.85, 80.2, 6.97, 0.36]\n",
    "]\n",
    "\n",
    "'''\n",
    "Annual GDP and components - expenditure approach, US $, current prices, current PPPs, millions\n",
    "Institutional sector: Total economy\n",
    "Counterpart institutional sector: Total economy\n",
    "Transaction: Gross domestic product\n",
    "Combined unit of measure: US dollars, PPP converted, Millions\n",
    "\n",
    "Health status\n",
    "Frequency of observation: Annual\n",
    "Measure: Life expectancy\n",
    "Age: 0 years\n",
    "Unit of measure: Years\n",
    "\n",
    "Infra-annual labour statistics\n",
    "Age: 15 years or over\n",
    "Frequency of observation: Annual\n",
    "Measure: Unemployment rate\n",
    "Unit of measure: Percentage of labour force in the same subgroup, Calendar and seasonally adjusted\n",
    "\n",
    "Main Science and Technology Indicators (MSTI database)\n",
    "Frequency of observation: Annual\n",
    "Measure: Gross Domestic Expenditure on R&D (GERD)\n",
    "Combined unit of measure: Percentage of GDP\n",
    "\n",
    "'''"
   ]
  },
  {
   "cell_type": "markdown",
   "id": "2b9ca31c-5aaa-4a08-bf64-3fd456f14dd2",
   "metadata": {},
   "source": [
    "9. Write code that sorts the list alphabetically by country."
   ]
  },
  {
   "cell_type": "code",
   "execution_count": 6,
   "id": "1a968e25-a511-4bfa-938e-1392355ac2b7",
   "metadata": {},
   "outputs": [
    {
     "name": "stdout",
     "output_type": "stream",
     "text": [
      "['Australia', 1248366.73, 82.5, 5.6, 1.79]\n",
      "['Austria', 476590.59, 81.7, 5.5, 3.06]\n",
      "['Belgium', 573788.53, 81.6, 7.09, 2.67]\n",
      "['Canada', 1765763.15, 81.9, 6.43, 1.69]\n",
      "['Chile', 450891.85, 80.2, 6.97, 0.36]\n"
     ]
    }
   ],
   "source": [
    "# Sort the list alphabetically by country\n",
    "for country in sorted(countries_list1, key = lambda x: x[0], reverse = False):\n",
    "    print(country)"
   ]
  },
  {
   "cell_type": "markdown",
   "id": "5051ab4d",
   "metadata": {},
   "source": [
    "10. Write code that sorts the list in some other way (example, GDP, or Poverty Rate."
   ]
  },
  {
   "cell_type": "code",
   "execution_count": 7,
   "id": "1741b183-98b1-47fc-9ac9-a246998f24d0",
   "metadata": {},
   "outputs": [
    {
     "name": "stdout",
     "output_type": "stream",
     "text": [
      "Annual GDP:\n",
      "['Canada', 1765763.15, 81.9, 6.43, 1.69]\n",
      "['Australia', 1248366.73, 82.5, 5.6, 1.79]\n",
      "['Belgium', 573788.53, 81.6, 7.09, 2.67]\n",
      "['Austria', 476590.59, 81.7, 5.5, 3.06]\n",
      "['Chile', 450891.85, 80.2, 6.97, 0.36]\n",
      "\n",
      "Life Expectancy:\n",
      "['Australia', 1248366.73, 82.5, 5.6, 1.79]\n",
      "['Canada', 1765763.15, 81.9, 6.43, 1.69]\n",
      "['Austria', 476590.59, 81.7, 5.5, 3.06]\n",
      "['Belgium', 573788.53, 81.6, 7.09, 2.67]\n",
      "['Chile', 450891.85, 80.2, 6.97, 0.36]\n",
      "\n",
      "Unemployment Rate:\n",
      "['Belgium', 573788.53, 81.6, 7.09, 2.67]\n",
      "['Chile', 450891.85, 80.2, 6.97, 0.36]\n",
      "['Canada', 1765763.15, 81.9, 6.43, 1.69]\n",
      "['Australia', 1248366.73, 82.5, 5.6, 1.79]\n",
      "['Austria', 476590.59, 81.7, 5.5, 3.06]\n",
      "\n",
      "Gross Domestic Expenditure on R&D:\n",
      "['Austria', 476590.59, 81.7, 5.5, 3.06]\n",
      "['Belgium', 573788.53, 81.6, 7.09, 2.67]\n",
      "['Australia', 1248366.73, 82.5, 5.6, 1.79]\n",
      "['Canada', 1765763.15, 81.9, 6.43, 1.69]\n",
      "['Chile', 450891.85, 80.2, 6.97, 0.36]\n"
     ]
    }
   ],
   "source": [
    "# Sort the list in a different manner in descending order\n",
    "print(\"Annual GDP:\")\n",
    "for country in sorted(countries_list1, key = lambda x: x[1], reverse = True):\n",
    "    print(country)\n",
    "print()\n",
    "\n",
    "print(\"Life Expectancy:\")\n",
    "for country in sorted(countries_list1, key = lambda x: x[2], reverse = True):\n",
    "    print(country)\n",
    "print()\n",
    "\n",
    "print(\"Unemployment Rate:\")\n",
    "for country in sorted(countries_list1, key = lambda x: x[3], reverse = True):\n",
    "    print(country)\n",
    "print()\n",
    "\n",
    "print(\"Gross Domestic Expenditure on R&D:\")\n",
    "for country in sorted(countries_list1, key = lambda x: x[4], reverse = True):\n",
    "    print(country)"
   ]
  },
  {
   "cell_type": "markdown",
   "id": "e4bc946a",
   "metadata": {},
   "source": [
    "11. Write code that calculates the average GDP and assign to a new variable"
   ]
  },
  {
   "cell_type": "code",
   "execution_count": 8,
   "id": "0eaec3d2-edd3-4108-af11-dc0d7c34a03c",
   "metadata": {},
   "outputs": [
    {
     "data": {
      "text/plain": [
       "903080.17"
      ]
     },
     "execution_count": 8,
     "metadata": {},
     "output_type": "execute_result"
    }
   ],
   "source": [
    "# Calculates the average GDP\n",
    "gdp_list = [country[1] for country in countries_list1]\n",
    "# Assign to a new variable\n",
    "avg_gdp = round(sum(gdp_list) / len(gdp_list), 2)\n",
    "avg_gdp"
   ]
  },
  {
   "cell_type": "markdown",
   "id": "0cc726f3-1370-477e-8f48-b2438a0d8c28",
   "metadata": {},
   "source": [
    "12. Write code that iterates through the GDP element (for loop), filters out the country with the highest and lowest GDP and appends them to two empty lists, one called \"highest_GDP\" the other called \"lowest_GDP\"\n",
    " "
   ]
  },
  {
   "cell_type": "code",
   "execution_count": 9,
   "id": "16594f8e-ec2a-4af0-970a-840356a14fb6",
   "metadata": {},
   "outputs": [
    {
     "name": "stdout",
     "output_type": "stream",
     "text": [
      "Country With the Lowest Annual GDP:  ['Chile']\n",
      "Country With the Highest Annual GDP:  ['Canada']\n"
     ]
    },
    {
     "data": {
      "text/plain": [
       "'\\nlowest_gdp = min(countries_list1, key = lambda x: x[1])\\nhighest_gdp = max(countries_list1, key = lambda x: x[1])\\n\\nprint(\"Country With the Lowest Annual GDP: \", lowest_gdp[0])\\nprint(\"Country With the Highest Annual GDP: \", highest_gdp[0])\\n'"
      ]
     },
     "execution_count": 9,
     "metadata": {},
     "output_type": "execute_result"
    }
   ],
   "source": [
    "gdp_low_flag = 10000000000\n",
    "gdp_high_flag = 0\n",
    "\n",
    "# Iterates through the GDP element\n",
    "for country in countries_list1:\n",
    "    if country[1] < gdp_low_flag:\n",
    "        lowest_gdp = [country[0]]\n",
    "        gdp_low_flag = country[1]\n",
    "    if country[1] > gdp_high_flag:\n",
    "        highest_gdp = [country[0]]\n",
    "        gdp_high_flag = country[1]\n",
    "\n",
    "print(\"Country With the Lowest Annual GDP: \", lowest_gdp)\n",
    "print(\"Country With the Highest Annual GDP: \", highest_gdp)\n",
    "\n",
    "'''\n",
    "lowest_gdp = min(countries_list1, key = lambda x: x[1])\n",
    "highest_gdp = max(countries_list1, key = lambda x: x[1])\n",
    "\n",
    "print(\"Country With the Lowest Annual GDP: \", lowest_gdp[0])\n",
    "print(\"Country With the Highest Annual GDP: \", highest_gdp[0])\n",
    "'''"
   ]
  },
  {
   "cell_type": "markdown",
   "id": "2610e9bf-4de1-4626-9458-475ed1db8528",
   "metadata": {},
   "source": [
    "#### Time Series Analysis with Nested Lists\n",
    "For analyzing economic trends over time, a nested list structure can be used where each sublist contains time series data for a specific economic indicator across different years."
   ]
  },
  {
   "cell_type": "code",
   "execution_count": 10,
   "id": "0d2b6098-cdbc-4fc8-89c7-504dd3a51ced",
   "metadata": {},
   "outputs": [],
   "source": [
    "# For example:\n",
    "gdp_growth = [[\"Country A\", [2.5, 3.0, 2.8, 3.2, 3.5]],  # [Country Name, [Growth Rate (%) over 5 years]]\n",
    "              [\"Country B\", [6.5, 7.0, 7.2, 7.5, 7.8]],\n",
    "              [\"Country C\", [1.2, 1.5, 1.7, 1.9, 2.1]]\n",
    "             ]"
   ]
  },
  {
   "cell_type": "markdown",
   "id": "19f8411a-a00a-4c15-aa39-3f5e10355fd2",
   "metadata": {},
   "source": [
    "13. Using the OECD data, provide actual countries and use the nested list structure to capture time series data to demonstrate a trend over time of some key metric of your choosing."
   ]
  },
  {
   "cell_type": "code",
   "execution_count": 11,
   "id": "65ca3659",
   "metadata": {},
   "outputs": [],
   "source": [
    "'''\n",
    "Infra-annual labour statistics\n",
    "Age: 15 years or over\n",
    "Frequency of observation: Annual\n",
    "Measure: Unemployment rate\n",
    "Unit of measure: Percentage of labour force in the same subgroup, Calendar and seasonally adjusted\n",
    "'''\n",
    "\n",
    "# Create a nested list to hold that data\n",
    "unemp_rate = [\n",
    "    [\"Australia\", [5.6, 5.3, 5.2, 6.5, 5.1, 3.7]],\n",
    "    [\"Austria\", [5.5, 4.8, 4.5, 5.4, 6.2, 4.7]],\n",
    "    [\"Belgium\", [7.1, 5.9, 5.4, 5.5, 6.3, 5.6]],\n",
    "    [\"Canada\", [6.4, 5.8, 5.7, 9.7, 7.5, 5.3]],\n",
    "    [\"Chile\", [7.0, 7.4, 7.2, 10.8, 8.9, 7.9]]\n",
    "    ]\n",
    "# I used data from 2017 to 2022 to calculate five growth rate (%) values."
   ]
  },
  {
   "cell_type": "code",
   "execution_count": 12,
   "id": "13505050",
   "metadata": {},
   "outputs": [
    {
     "data": {
      "text/plain": [
       "<matplotlib.legend.Legend at 0x107ffe350>"
      ]
     },
     "execution_count": 12,
     "metadata": {},
     "output_type": "execute_result"
    },
    {
     "data": {
      "image/png": "[encoded data removed]",
      "text/plain": [
       "<Figure size 640x480 with 1 Axes>"
      ]
     },
     "metadata": {},
     "output_type": "display_data"
    }
   ],
   "source": [
    "# Create a visualization to demonstrate a trend over time\n",
    "import matplotlib.pyplot as plt\n",
    "\n",
    "for country, rates in unemp_rate:\n",
    "    plt.plot(rates, label = country)\n",
    "\n",
    "plt.xlabel('Year')\n",
    "plt.ylabel('Unemployment Rate (%)')\n",
    "plt.title('Unemployment Rate Trends by Country')\n",
    "plt.xticks(range(6), ['2017', '2018', '2019', '2020', '2021', '2022'])\n",
    "plt.legend()"
   ]
  },
  {
   "cell_type": "code",
   "execution_count": 13,
   "id": "fac8088a",
   "metadata": {},
   "outputs": [
    {
     "name": "stdout",
     "output_type": "stream",
     "text": [
      "Annual Growth Rate of the Unemployment Rate:\n",
      "['Australia', [-5.36, -1.89, 25.0, -21.54, -27.45]]\n",
      "['Austria', [-12.73, -6.25, 20.0, 14.81, -24.19]]\n",
      "['Belgium', [-16.9, -8.47, 1.85, 14.55, -11.11]]\n",
      "['Canada', [-9.38, -1.72, 70.18, -22.68, -29.33]]\n",
      "['Chile', [5.71, -2.7, 50.0, -17.59, -11.24]]\n"
     ]
    }
   ],
   "source": [
    "# Function to calculate growth rates\n",
    "def get_growth_rate(data):\n",
    "    result = []\n",
    "    for country, rates in data:\n",
    "        country_growth_rates = []\n",
    "        for i in range(1, len(rates)):\n",
    "            growth_rate = round(((rates[i] - rates[i-1]) / rates[i-1]) * 100, 2)\n",
    "            country_growth_rates.append(growth_rate)\n",
    "        country_info = [country, country_growth_rates]\n",
    "        result.append(country_info)\n",
    "    return result\n",
    "       \n",
    "print(\"Annual Growth Rate of the Unemployment Rate:\")\n",
    "for country in get_growth_rate(unemp_rate):\n",
    "    print(country)"
   ]
  },
  {
   "cell_type": "markdown",
   "id": "d0ff644f-acac-4c3a-aef6-ced4150d688b",
   "metadata": {},
   "source": [
    "14. Nested Loops for Data Aggregation Across Multiple Dimensions\n",
    "    \n",
    "For more comprehensive data analysis, you might encounter situations where you need to aggregate data across multiple dimensions within nested lists, such as summing values by category across different groups."
   ]
  },
  {
   "cell_type": "markdown",
   "id": "f75ee971-70ad-41fb-922e-70744059d4f0",
   "metadata": {},
   "source": [
    "**Example: Aggregating Poverty Rate Changes by Region**\n",
    "\n",
    "Suppose we have a dataset that records annual poverty rates for various countries, categorized by region. The goal is to calculate the average change in poverty rates for each region over a given period.\n",
    "\n",
    "**Dataset Structure:**\n",
    "\n",
    "Each entry in the dataset is a list with the following structure: [Region, Country, Year, Poverty Rate].\n",
    "The dataset is a nested list, with each sublist representing a year's data for a country in a specific region.\n",
    "\n",
    "**Task:**\n",
    "Calculate the average change in poverty rates for each region over the dataset's span.\n",
    "Assume poverty rates are provided for a span of 5 years."
   ]
  },
  {
   "cell_type": "code",
   "execution_count": 14,
   "id": "ac23e1bf-40ca-434d-9987-55929008fb63",
   "metadata": {},
   "outputs": [
    {
     "name": "stdout",
     "output_type": "stream",
     "text": [
      "{'Sub-Saharan Africa': -1.5, 'South Asia': -1.5}\n"
     ]
    }
   ],
   "source": [
    "#Example code solution:\n",
    "data = [\n",
    "    [\"Sub-Saharan Africa\", \"Country A\", 2000, 45.0],\n",
    "    [\"Sub-Saharan Africa\", \"Country A\", 2001, 43.5],\n",
    "    [\"Sub-Saharan Africa\", \"Country A\", 2002, 42.0],\n",
    "    [\"South Asia\", \"Country B\", 2000, 50.0],\n",
    "    [\"South Asia\", \"Country B\", 2001, 48.5],\n",
    "    [\"South Asia\", \"Country B\", 2002, 47.0],\n",
    "    # More data follows...\n",
    "]\n",
    "\n",
    "def get_avg_changes(data):\n",
    "    # Initialize a dictionary to keep track of total change and counts for each region\n",
    "    region_changes = {}\n",
    "\n",
    "    for entry in data:\n",
    "        region, country, year, rate = entry\n",
    "        if region not in region_changes:\n",
    "            region_changes[region] = {\"total_change\": 0, \"count\": 0, \"previous_rate\": rate}\n",
    "        else:\n",
    "            change = rate - region_changes[region][\"previous_rate\"]\n",
    "            region_changes[region][\"total_change\"] += change\n",
    "            region_changes[region][\"count\"] += 1\n",
    "            region_changes[region][\"previous_rate\"] = rate\n",
    "\n",
    "    # Calculate average change for each region\n",
    "    average_changes = {region: changes[\"total_change\"] / changes[\"count\"] for region, changes in region_changes.items() if changes[\"count\"] > 0}\n",
    "    return average_changes\n",
    "\n",
    "print(get_avg_changes(data))\n"
   ]
  },
  {
   "cell_type": "markdown",
   "id": "c0c983df-7977-4bd7-b81b-02d230abda01",
   "metadata": {},
   "source": [
    "15. Pick 9 countries, 3 each from three different regions of the world. Calculate the average change in unemployment rates (or any rate of your choosing) over a 5 year period. Comment each line of code and describe what you are doing in each."
   ]
  },
  {
   "cell_type": "code",
   "execution_count": 15,
   "id": "11277380-fe58-420a-bfe4-1b50cc50b075",
   "metadata": {},
   "outputs": [
    {
     "name": "stdout",
     "output_type": "stream",
     "text": [
      "['South America', 'Chile', 2017, 59.7]\n",
      "['South America', 'Chile', 2018, 59.7]\n",
      "['South America', 'Chile', 2019, 59.4]\n",
      "['South America', 'Chile', 2020, 56.1]\n",
      "['South America', 'Chile', 2021, 57.2]\n",
      "['South America', 'Brazil', 2017, 64.4]\n",
      "['South America', 'Brazil', 2018, 64.5]\n",
      "['South America', 'Brazil', 2019, 65.0]\n",
      "['South America', 'Brazil', 2020, 60.1]\n",
      "['South America', 'Brazil', 2021, 61.6]\n",
      "['South America', 'Argentina', 2017, 58.8]\n",
      "['South America', 'Argentina', 2018, 59.7]\n",
      "['South America', 'Argentina', 2019, 60.4]\n",
      "['South America', 'Argentina', 2020, 56.9]\n",
      "['South America', 'Argentina', 2021, 60.6]\n",
      "['Europe', 'Austria', 2017, 61.2]\n",
      "['Europe', 'Austria', 2018, 61.4]\n",
      "['Europe', 'Austria', 2019, 61.4]\n",
      "['Europe', 'Austria', 2020, 60.8]\n",
      "['Europe', 'Austria', 2021, 61.2]\n",
      "['Europe', 'Belgium', 2017, 53.8]\n",
      "['Europe', 'Belgium', 2018, 54.2]\n",
      "['Europe', 'Belgium', 2019, 54.4]\n",
      "['Europe', 'Belgium', 2020, 53.8]\n",
      "['Europe', 'Belgium', 2021, 54.5]\n",
      "['Europe', 'France', 2017, 55.7]\n",
      "['Europe', 'France', 2018, 55.8]\n",
      "['Europe', 'France', 2019, 55.3]\n",
      "['Europe', 'France', 2020, 54.5]\n",
      "['Europe', 'France', 2021, 55.8]\n",
      "['North America', 'Canada', 2017, 65.6]\n",
      "['North America', 'Canada', 2018, 65.3]\n",
      "['North America', 'Canada', 2019, 65.6]\n",
      "['North America', 'Canada', 2020, 64.1]\n",
      "['North America', 'Canada', 2021, 65.1]\n",
      "['North America', 'Mexico', 2017, 59.3]\n",
      "['North America', 'Mexico', 2018, 59.6]\n",
      "['North America', 'Mexico', 2019, 60.1]\n",
      "['North America', 'Mexico', 2020, 57.6]\n",
      "['North America', 'Mexico', 2021, 58.8]\n",
      "['North America', 'United States', 2017, 62.9]\n",
      "['North America', 'United States', 2018, 62.9]\n",
      "['North America', 'United States', 2019, 63.1]\n",
      "['North America', 'United States', 2020, 61.7]\n",
      "['North America', 'United States', 2021, 61.7]\n"
     ]
    }
   ],
   "source": [
    "'''\n",
    "Labour force statistics indicators\n",
    "Measure: Labour force participation rate\n",
    "'''\n",
    "\n",
    "# Define a nested list\n",
    "data = [\n",
    "    [\"South America\", \"Chile\", [59.7, 59.7, 59.4, 56.1, 57.2]],\n",
    "    [\"South America\", \"Brazil\", [64.4, 64.5, 65.0, 60.1, 61.6]],\n",
    "    [\"South America\", \"Argentina\", [58.8, 59.7, 60.4, 56.9, 60.6]],\n",
    "    [\"Europe\", \"Austria\", [61.2, 61.4, 61.4, 60.8, 61.2]],\n",
    "    [\"Europe\", \"Belgium\", [53.8, 54.2, 54.4, 53.8, 54.5]],\n",
    "    [\"Europe\", \"France\", [55.7, 55.8, 55.3, 54.5, 55.8]],\n",
    "    [\"North America\", \"Canada\", [65.6, 65.3, 65.6, 64.1, 65.1]],\n",
    "    [\"North America\", \"Mexico\", [59.3, 59.6, 60.1, 57.6, 58.8]],\n",
    "    [\"North America\", \"United States\", [62.9, 62.9, 63.1, 61.7, 61.7]]\n",
    "]\n",
    "\n",
    "# Convert the nested list into the format required for the input in the example\n",
    "my_data = []\n",
    "\n",
    "# Iterate through all the countries\n",
    "for entry in data:\n",
    "    # Initialize Year to 2017\n",
    "    year = 2017\n",
    "    # Define what each value means\n",
    "    region, country, rates = entry\n",
    "    # Iterate through all the Labour force participation rate values\n",
    "    for i in range(0, len(rates)):\n",
    "        # Create each sublist\n",
    "        item = [region, country, year, rates[i]]\n",
    "        # Append the sublist into the nested list\n",
    "        my_data.append(item)\n",
    "        # Update the Year\n",
    "        year = year + 1\n",
    "\n",
    "# Check if it is in the correct format\n",
    "for country in my_data:\n",
    "    print(country)"
   ]
  },
  {
   "cell_type": "code",
   "execution_count": 16,
   "id": "522a1da8",
   "metadata": {},
   "outputs": [
    {
     "name": "stdout",
     "output_type": "stream",
     "text": [
      "{'South America': 0.06428571428571418, 'Europe': -0.3857142857142861, 'North America': -0.27857142857142797}\n"
     ]
    }
   ],
   "source": [
    "# I changed the code in the example into a function and applied it here.\n",
    "print(get_avg_changes(my_data))"
   ]
  },
  {
   "cell_type": "markdown",
   "id": "bdea7c22-c5f4-480d-a26e-aa25849affa3",
   "metadata": {},
   "source": [
    "#### Dictionaries\n",
    "If you are thinking, \"wait...these previous excercises using nested lists could also be represented using key:value pairs using Python's dictionary data type.\" Well...you would be right! \n",
    "\n",
    "What is a dictionary? \n",
    "\n",
    "A Python dictionary is a built-in data type that allows for storing a collection of key-value pairs. Dictionaries in Python are mutable, meaning they can be changed after they are created. They are written with curly braces {}, with each key-value pair separated by a colon : and each item separated by commas.\n",
    "\n",
    "Key Characteristics of Python Dictionaries:\n",
    "\n",
    "Unordered: Before Python 3.7, dictionaries were considered unordered, meaning that the order in which key-value pairs were added could not be relied upon when accessing them. From Python 3.7 onwards, dictionaries preserve the insertion order, although this should not be a primary feature relied upon for most programming needs.\n",
    "\n",
    "Mutable: You can add, remove, and change values after the dictionary has been created.\n",
    "Indexed by keys: Values in a dictionary are accessed using keys. These keys must be unique within a single dictionary and immutable (which means you can use strings, numbers, or tuples as dictionary keys, as long as the tuples contain only immutable elements).\n",
    "\n",
    "Dynamic: Dictionaries can grow and shrink as needed, and they can be nested, meaning a dictionary can contain another dictionary as a value, allowing for complex data structures.\n"
   ]
  },
  {
   "cell_type": "code",
   "execution_count": 17,
   "id": "9a88cc92-f960-4558-ace4-b1f8b90bdb68",
   "metadata": {},
   "outputs": [
    {
     "name": "stdout",
     "output_type": "stream",
     "text": [
      "value1\n",
      "key1 new value\n",
      "key2 value2\n",
      "key1 exists in the dictionary.\n"
     ]
    }
   ],
   "source": [
    "# Basic Operations:\n",
    "# Creating a Dictionary:\n",
    "\n",
    "my_dict = {\"key1\": \"value1\", \"key2\": \"value2\"}\n",
    "\n",
    "# Accessing Values:\n",
    "\n",
    "print(my_dict[\"key1\"])  # Outputs: value1\n",
    "\n",
    "# Adding or Updating Values:\n",
    "\n",
    "my_dict[\"key3\"] = \"value3\"  # Adds a new key-value pair\n",
    "my_dict[\"key1\"] = \"new value\"  # Updates the value for key1\n",
    "\n",
    "# Removing Key-Value Pairs:\n",
    "\n",
    "del my_dict[\"key3\"]  # Removes the key \"key3\" and its associated value\n",
    "\n",
    "# Iterating Through a Dictionary:\n",
    "\n",
    "for key, value in my_dict.items():\n",
    "    print(key, value)\n",
    "    \n",
    "# Checking if a Key Exists:\n",
    "\n",
    "if \"key1\" in my_dict:\n",
    "    print(\"key1 exists in the dictionary.\")"
   ]
  },
  {
   "cell_type": "markdown",
   "id": "598d329d-891e-47e2-b827-9ef30423b867",
   "metadata": {},
   "source": [
    "16. Write code that takes the nested list in problem #8 and rewrites them as a list of dictionary key value pairs. Save them as \"countries_dict\" Hint: To transfer the nested list countries into a list of dictionaries where each dictionary represents a country and its economic indicators as key-value pairs, you can use a for loop to iterate through each sublist and construct a dictionary for each."
   ]
  },
  {
   "cell_type": "code",
   "execution_count": 18,
   "id": "adcbb431-2d4e-475a-8394-8b294fe3af4e",
   "metadata": {},
   "outputs": [
    {
     "data": {
      "text/plain": [
       "[{'Country': 'Australia',\n",
       "  'GDP': 1248366.73,\n",
       "  'LifeExpectancy': 82.5,\n",
       "  'UnempRate': 5.6,\n",
       "  'R&D': 1.79},\n",
       " {'Country': 'Austria',\n",
       "  'GDP': 476590.59,\n",
       "  'LifeExpectancy': 81.7,\n",
       "  'UnempRate': 5.5,\n",
       "  'R&D': 3.06},\n",
       " {'Country': 'Belgium',\n",
       "  'GDP': 573788.53,\n",
       "  'LifeExpectancy': 81.6,\n",
       "  'UnempRate': 7.09,\n",
       "  'R&D': 2.67},\n",
       " {'Country': 'Canada',\n",
       "  'GDP': 1765763.15,\n",
       "  'LifeExpectancy': 81.9,\n",
       "  'UnempRate': 6.43,\n",
       "  'R&D': 1.69},\n",
       " {'Country': 'Chile',\n",
       "  'GDP': 450891.85,\n",
       "  'LifeExpectancy': 80.2,\n",
       "  'UnempRate': 6.97,\n",
       "  'R&D': 0.36}]"
      ]
     },
     "execution_count": 18,
     "metadata": {},
     "output_type": "execute_result"
    }
   ],
   "source": [
    "\"\"\"\n",
    "countries_list1 = [\n",
    "    [\"Australia\", 1248366.73, 82.5, 5.60, 1.79], \n",
    "    [\"Austria\", 476590.59, 81.7, 5.50, 3.06],\n",
    "    [\"Belgium\", 573788.53, 81.6, 7.09, 2.67],\n",
    "    [\"Canada\", 1765763.15, 81.9, 6.43, 1.69],\n",
    "    [\"Chile\", 450891.85, 80.2, 6.97, 0.36]\n",
    "]\n",
    "\"\"\"\n",
    "countries_dict = []\n",
    "\n",
    "# Iterate through each sublist and construct a dictionary for each\n",
    "for country in countries_list1:\n",
    "    country_info = {\n",
    "        \"Country\": country[0],\n",
    "        \"GDP\": country[1],\n",
    "        \"LifeExpectancy\": country[2],\n",
    "        \"UnempRate\": country[3],\n",
    "        \"R&D\": country[4]\n",
    "    }\n",
    "    countries_dict.append(country_info)\n",
    "countries_dict"
   ]
  },
  {
   "cell_type": "markdown",
   "id": "cd79271b",
   "metadata": {},
   "source": [
    "17. Add a new value of your choosing to the countries_dict list of key value pairs from the OECD data."
   ]
  },
  {
   "cell_type": "code",
   "execution_count": 19,
   "id": "78e98bf1-3e94-4a48-b194-5f728a52cff0",
   "metadata": {},
   "outputs": [
    {
     "data": {
      "text/plain": [
       "[{'Country': 'Australia',\n",
       "  'GDP': 1248366.73,\n",
       "  'LifeExpectancy': 82.5,\n",
       "  'UnempRate': 5.6,\n",
       "  'R&D': 1.79},\n",
       " {'Country': 'Austria',\n",
       "  'GDP': 476590.59,\n",
       "  'LifeExpectancy': 81.7,\n",
       "  'UnempRate': 5.5,\n",
       "  'R&D': 3.06},\n",
       " {'Country': 'Belgium',\n",
       "  'GDP': 573788.53,\n",
       "  'LifeExpectancy': 81.6,\n",
       "  'UnempRate': 7.09,\n",
       "  'R&D': 2.67},\n",
       " {'Country': 'Canada',\n",
       "  'GDP': 1765763.15,\n",
       "  'LifeExpectancy': 81.9,\n",
       "  'UnempRate': 6.43,\n",
       "  'R&D': 1.69},\n",
       " {'Country': 'Chile',\n",
       "  'GDP': 450891.85,\n",
       "  'LifeExpectancy': 80.2,\n",
       "  'UnempRate': 6.97,\n",
       "  'R&D': 0.36},\n",
       " {'Country': 'Colombia',\n",
       "  'GDP': 693117.08,\n",
       "  'LifeExpectancy': 75.9,\n",
       "  'UnempRate': 9.3,\n",
       "  'R&D': 0.26}]"
      ]
     },
     "execution_count": 19,
     "metadata": {},
     "output_type": "execute_result"
    }
   ],
   "source": [
    "colombia_info = {\n",
    "        \"Country\": \"Colombia\",\n",
    "        \"GDP\": 693117.08,\n",
    "        \"LifeExpectancy\": 75.9,\n",
    "        \"UnempRate\": 9.30,\n",
    "        \"R&D\": 0.26\n",
    "}\n",
    "countries_dict.append(colombia_info)\n",
    "countries_dict"
   ]
  },
  {
   "cell_type": "markdown",
   "id": "266de328-cf77-4af4-9c4c-6617689577a5",
   "metadata": {},
   "source": [
    "18. Oh no!  You just got the call from the chief economist, and the reported data was incorrect. They forgot to count an entire region when they calculated the second country in your list. Change the GDP value of your second country adding 10% to the GDP total for that country."
   ]
  },
  {
   "cell_type": "code",
   "execution_count": 20,
   "id": "43d6cfaf-c32e-4424-8202-cba5dc4d3b80",
   "metadata": {},
   "outputs": [
    {
     "data": {
      "text/plain": [
       "[{'Country': 'Australia',\n",
       "  'GDP': 1248366.73,\n",
       "  'LifeExpectancy': 82.5,\n",
       "  'UnempRate': 5.6,\n",
       "  'R&D': 1.79},\n",
       " {'Country': 'Austria',\n",
       "  'GDP': 524249.65,\n",
       "  'LifeExpectancy': 81.7,\n",
       "  'UnempRate': 5.5,\n",
       "  'R&D': 3.06},\n",
       " {'Country': 'Belgium',\n",
       "  'GDP': 573788.53,\n",
       "  'LifeExpectancy': 81.6,\n",
       "  'UnempRate': 7.09,\n",
       "  'R&D': 2.67},\n",
       " {'Country': 'Canada',\n",
       "  'GDP': 1765763.15,\n",
       "  'LifeExpectancy': 81.9,\n",
       "  'UnempRate': 6.43,\n",
       "  'R&D': 1.69},\n",
       " {'Country': 'Chile',\n",
       "  'GDP': 450891.85,\n",
       "  'LifeExpectancy': 80.2,\n",
       "  'UnempRate': 6.97,\n",
       "  'R&D': 0.36},\n",
       " {'Country': 'Colombia',\n",
       "  'GDP': 693117.08,\n",
       "  'LifeExpectancy': 75.9,\n",
       "  'UnempRate': 9.3,\n",
       "  'R&D': 0.26}]"
      ]
     },
     "execution_count": 20,
     "metadata": {},
     "output_type": "execute_result"
    }
   ],
   "source": [
    "# Change the GDP value of the second country adding 10% to the GDP total for that country\n",
    "countries_dict[1]['GDP'] = round(countries_dict[1]['GDP'] * 1.1, 2)\n",
    "countries_dict"
   ]
  },
  {
   "cell_type": "markdown",
   "id": "5d3dac27-1eba-45da-a943-7c8d15058877",
   "metadata": {},
   "source": [
    "#### Functions\n",
    "Creating functions in Python is a fundamental aspect of the language, allowing for code reuse, organization, and readability. Functions enable you to encapsulate a block of code that performs a specific task and can be executed whenever the function is called. Here's a basic overview of how to define and use functions in Python:\n",
    "\n",
    "**Defining a Function**\n",
    "A function is defined using the def keyword, followed by the function name, parentheses (), and a colon :. Inside the parentheses, you can optionally include parameters (also known as arguments) that the function can accept. The function's code block starts on the next line and must be indented.\n"
   ]
  },
  {
   "cell_type": "code",
   "execution_count": 21,
   "id": "8570c5ac-f508-4cc1-8647-720d01cf1cbe",
   "metadata": {},
   "outputs": [],
   "source": [
    "def my_function():\n",
    "\n",
    "    print(\"Hello from a function!\")"
   ]
  },
  {
   "cell_type": "markdown",
   "id": "4046272c",
   "metadata": {},
   "source": [
    "**Calling a Function**\n",
    "\n",
    "To call (execute) the function, use the function name followed by parentheses. If the function accepts parameters, you'll provide the arguments inside these parentheses.\n"
   ]
  },
  {
   "cell_type": "code",
   "execution_count": 22,
   "id": "a79d16df-74a6-4690-98d6-5fd33b75a800",
   "metadata": {},
   "outputs": [
    {
     "name": "stdout",
     "output_type": "stream",
     "text": [
      "Hello from a function!\n"
     ]
    }
   ],
   "source": [
    "my_function()  # This will print \"Hello from a function!\""
   ]
  },
  {
   "cell_type": "markdown",
   "id": "457ed4f9",
   "metadata": {},
   "source": [
    "**Function with Parameters**\n",
    "Functions can accept parameters, which are variables passed into the function. Parameters allow you to pass data to a function, making functions more flexible and reusable.\n"
   ]
  },
  {
   "cell_type": "code",
   "execution_count": 23,
   "id": "d190f444-0659-4e76-9e00-5cd52b11d9dd",
   "metadata": {},
   "outputs": [
    {
     "name": "stdout",
     "output_type": "stream",
     "text": [
      "Hello, Alice!\n"
     ]
    }
   ],
   "source": [
    "def greet(name):\n",
    "    print(f\"Hello, {name}!\")\n",
    "\n",
    "#You can call this function with a parameter:\n",
    "\n",
    "greet(\"Alice\")  # This will print \"Hello, Alice!\"\n"
   ]
  },
  {
   "cell_type": "markdown",
   "id": "40e7cb1e-6e19-4b68-bf59-f60fc1e0ff91",
   "metadata": {},
   "source": [
    "**Returning Values**\n",
    "Functions can return values using the return statement. A function stops executing when it reaches a return statement, and it returns the specified value to the caller.\n"
   ]
  },
  {
   "cell_type": "code",
   "execution_count": 24,
   "id": "e5f081c4-798c-4427-80dd-d1e762552418",
   "metadata": {},
   "outputs": [],
   "source": [
    "def add(a, b):\n",
    "    return a + b\n",
    "\n",
    "#You can capture the returned value in a variable:\n",
    "\n",
    "result = add(5, 7)  # result will be 12\n"
   ]
  },
  {
   "cell_type": "markdown",
   "id": "8bbf56bb-4c74-477d-a8ed-472f42de2848",
   "metadata": {},
   "source": [
    "**Default Parameter Values**\n",
    "You can provide default values for parameters. If the caller does not supply an argument for such a parameter, the default value is used.\n"
   ]
  },
  {
   "cell_type": "code",
   "execution_count": 25,
   "id": "e4e75db3-c5fb-425a-a5ae-106e2bd69b99",
   "metadata": {},
   "outputs": [
    {
     "name": "stdout",
     "output_type": "stream",
     "text": [
      "Hello, World!\n"
     ]
    }
   ],
   "source": [
    "def greet(name=\"World\"):\n",
    "    print(f\"Hello, {name}!\")\n",
    "#Calling the function without providing an argument uses the default value:\n",
    "greet()  # Prints \"Hello, World!\""
   ]
  },
  {
   "cell_type": "markdown",
   "id": "735231df-9992-408d-8cf7-4dbce87b643a",
   "metadata": {},
   "source": [
    "**Keyword Arguments**\n",
    "When calling functions, you can specify arguments by name. This is useful when a function takes several parameters.\n"
   ]
  },
  {
   "cell_type": "code",
   "execution_count": 26,
   "id": "5d124524-bba1-4274-bd25-8f6b4ea25cf6",
   "metadata": {},
   "outputs": [
    {
     "name": "stdout",
     "output_type": "stream",
     "text": [
      "I have a cat named Whiskers.\n"
     ]
    }
   ],
   "source": [
    "def describe_pet(animal_type, pet_name):\n",
    "    print(f\"I have a {animal_type} named {pet_name}.\")\n",
    "\n",
    "describe_pet(pet_name=\"Whiskers\", animal_type=\"cat\")\n"
   ]
  },
  {
   "cell_type": "markdown",
   "id": "ef5c0d6e-6578-4453-9af6-965ea0226739",
   "metadata": {},
   "source": [
    "**Arbitrary Number of Arguments**\n",
    "Sometimes, you might not know how many arguments will be passed into your function. \n",
    "The *args parameter in Python functions allows you to pass a variable number of arguments to a function. It is used when you want to make a function that can handle more arguments than you specified while defining the function. The arguments are accessed as a tuple within the function. Here are three examples demonstrating how to use *args in different contexts:\n",
    "\n",
    "1. Sum Function\n",
    "This function calculates the sum of all the numbers passed to it as arguments, demonstrating the use of *args to accept an arbitrary number of numeric arguments.\n"
   ]
  },
  {
   "cell_type": "code",
   "execution_count": 27,
   "id": "5251d477-616c-45de-a3ae-5060e0c194dd",
   "metadata": {},
   "outputs": [
    {
     "name": "stdout",
     "output_type": "stream",
     "text": [
      "45\n",
      "15\n"
     ]
    }
   ],
   "source": [
    "def sum_numbers(*args):\n",
    "    return sum(args)\n",
    "\n",
    "# Example usage:\n",
    "print(sum_numbers(10, 15, 20))  # Output: 45\n",
    "print(sum_numbers(5, 10))       # Output: 15"
   ]
  },
  {
   "cell_type": "markdown",
   "id": "a1803043",
   "metadata": {},
   "source": [
    "2. Concatenate Strings\n",
    "This function concatenates all string arguments passed to it, showcasing how *args can be used to work with an unknown number of string arguments.\n"
   ]
  },
  {
   "cell_type": "code",
   "execution_count": 28,
   "id": "32c578dd-e796-445f-922b-0fa7e6844a8b",
   "metadata": {},
   "outputs": [],
   "source": [
    "def concatenate_strings(*args):\n",
    "    result = \"\"\n",
    "    for arg in args:\n",
    "        result += arg + \" \"  # Adding a space for readability\n",
    "    return result.strip()"
   ]
  },
  {
   "cell_type": "code",
   "execution_count": 29,
   "id": "fa4b595c-b8b2-45c0-a7d6-e27d6a0aab0a",
   "metadata": {},
   "outputs": [
    {
     "name": "stdout",
     "output_type": "stream",
     "text": [
      "Python is awesome\n",
      "Hello World\n"
     ]
    }
   ],
   "source": [
    "# Example usage:\n",
    "print(concatenate_strings(\"Python\", \"is\", \"awesome\"))  # Output: 'Python is awesome'\n",
    "print(concatenate_strings(\"Hello\", \"World\"))           # Output: 'Hello World'"
   ]
  },
  {
   "cell_type": "markdown",
   "id": "de35aeed",
   "metadata": {},
   "source": [
    "3. Logging Function\n",
    "This example demonstrates a logging function that accepts a message and an arbitrary number of additional details, illustrating the flexibility of *args for functions that might need optional additional information."
   ]
  },
  {
   "cell_type": "code",
   "execution_count": 30,
   "id": "f4a83c80-6f09-4ff2-a9c8-3376c3739232",
   "metadata": {},
   "outputs": [
    {
     "name": "stdout",
     "output_type": "stream",
     "text": [
      "User logged in - User: admin - Time: 12:34 PM\n",
      "Server started\n"
     ]
    }
   ],
   "source": [
    "def log_message(message, *args):\n",
    "    full_message = message\n",
    "    for detail in args:\n",
    "        full_message += f\" - {detail}\"\n",
    "    print(full_message)\n",
    "\n",
    "# Example usage:\n",
    "log_message(\"User logged in\", \"User: admin\", \"Time: 12:34 PM\")  \n",
    "# Output: User logged in - User: admin - Time: 12:34 PM\n",
    "\n",
    "log_message(\"Server started\")  \n",
    "# Output: Server started"
   ]
  },
  {
   "cell_type": "markdown",
   "id": "73cb57a5-ed4f-42d9-8362-29529213bde3",
   "metadata": {},
   "source": [
    "20. Write a function called calc_avg_values designed to uppose you want to create a function that calculates the average value of an economic indicator (like GDP growth rate, inflation rate, etc.) for a given set of years. Since the number of years may vary depending on the analysis you're conducting, hint: *args can be very useful here (see above)\n",
    "\n"
   ]
  },
  {
   "cell_type": "code",
   "execution_count": 31,
   "id": "e837c415-fcdf-40f0-b068-cc31b9184c1b",
   "metadata": {},
   "outputs": [],
   "source": [
    "# calculates the average value of *args\n",
    "def calc_avg_values(*args):\n",
    "    if not args:         \n",
    "        return \"No values provided.\"\n",
    "    else:\n",
    "        total = sum(args)     \n",
    "        average = total / len(args)     \n",
    "    return average"
   ]
  },
  {
   "cell_type": "markdown",
   "id": "ac88c95a-20be-44a7-8af4-6f7214ca2a22",
   "metadata": {},
   "source": [
    "#### Some viz basics\n",
    "You may want to visualize some of your findings!\n",
    "\n",
    "To visualize data with Python, both Seaborn and Matplotlib are excellent choices. Seaborn is built on top of Matplotlib and provides a high-level interface for drawing attractive and informative statistical graphics. For simplicity and aesthetics, we'll use Seaborn to visualize the example data related to international economic development.\n",
    "\n",
    "Let's assume you have data on the GDP per capita for a specific region over a series of years, and you want to visualize this data to analyze trends over time.\n",
    "\n",
    "First, we need to install Seaborn if it's not already installed. You can install Seaborn using pip.\n"
   ]
  },
  {
   "cell_type": "code",
   "execution_count": 32,
   "id": "8b73642b-6840-4832-bf2c-147d34d74e6c",
   "metadata": {},
   "outputs": [
    {
     "data": {
      "image/png": "[encoded data removed]",
      "text/plain": [
       "<Figure size 640x480 with 1 Axes>"
      ]
     },
     "metadata": {},
     "output_type": "display_data"
    }
   ],
   "source": [
    "import seaborn as sns\n",
    "import pandas as pd\n",
    "import matplotlib.pyplot as plt\n",
    "\n",
    "# Example data: GDP per capita over a range of years for \"Region X\"\n",
    "data = {\n",
    "    'Year': [2015, 2016, 2017, 2018, 2019],\n",
    "    'GDP per Capita': [9000, 9200, 9400, 9600, 9800]\n",
    "}\n",
    "\n",
    "# Convert the data into a DataFrame\n",
    "df = pd.DataFrame(data)\n",
    "\n",
    "# Create a line plot to visualize GDP per capita over the years\n",
    "sns.lineplot(x='Year', y='GDP per Capita', data=df, marker='o')\n",
    "\n",
    "# Enhancing the plot\n",
    "plt.title('GDP per Capita Over Time for Region X')\n",
    "plt.xlabel('Year')\n",
    "plt.ylabel('GDP per Capita (USD)')\n",
    "plt.grid(True)\n",
    "plt.tight_layout()\n",
    "\n",
    "# Show the plot\n",
    "plt.show()"
   ]
  },
  {
   "cell_type": "markdown",
   "id": "b352750a-ab8d-4416-9f8e-4558ad700dd1",
   "metadata": {},
   "source": [
    "21. Adapt the code above to visualize the change in GDP from your previous solution."
   ]
  },
  {
   "cell_type": "code",
   "execution_count": 33,
   "id": "f1973d68-a32b-4262-a617-291f73ef7b79",
   "metadata": {},
   "outputs": [
    {
     "name": "stdout",
     "output_type": "stream",
     "text": [
      "[['Europe', 2017, 56.9], ['Europe', 2018, 57.13], ['Europe', 2019, 57.03], ['Europe', 2020, 56.37], ['Europe', 2021, 57.17], ['South America', 2017, 60.97], ['South America', 2018, 61.3], ['South America', 2019, 61.6], ['South America', 2020, 57.7], ['South America', 2021, 59.8], ['North America', 2017, 62.6], ['North America', 2018, 62.6], ['North America', 2019, 62.93], ['North America', 2020, 61.13], ['North America', 2021, 61.87]]\n"
     ]
    },
    {
     "data": {
      "text/plain": [
       "([<matplotlib.axis.XTick at 0x16db0fcd0>,\n",
       "  <matplotlib.axis.XTick at 0x16dac5d50>,\n",
       "  <matplotlib.axis.XTick at 0x16da85bd0>,\n",
       "  <matplotlib.axis.XTick at 0x16db4bc50>,\n",
       "  <matplotlib.axis.XTick at 0x16db52050>],\n",
       " [Text(2017, 0, '2017'),\n",
       "  Text(2018, 0, '2018'),\n",
       "  Text(2019, 0, '2019'),\n",
       "  Text(2020, 0, '2020'),\n",
       "  Text(2021, 0, '2021')])"
      ]
     },
     "execution_count": 33,
     "metadata": {},
     "output_type": "execute_result"
    },
    {
     "data": {
      "image/png": "[encoded data removed]",
      "text/plain": [
       "<Figure size 640x480 with 1 Axes>"
      ]
     },
     "metadata": {},
     "output_type": "display_data"
    }
   ],
   "source": [
    "'''\n",
    "Labour force statistics indicators\n",
    "Measure: Labour force participation rate\n",
    "'''\n",
    "\n",
    "distinct_regions = set([item[0] for item in my_data])\n",
    "distinct_years = set([item[2] for item in my_data])\n",
    "\n",
    "# Calculate the average value for each region and year from my_data\n",
    "final_list = []\n",
    "for region in distinct_regions:\n",
    "    for year in distinct_years:\n",
    "        lfp_values = []\n",
    "        for item in my_data:\n",
    "            if item[0] == region and item[2] == year:\n",
    "                lfp_values.append(item[3])\n",
    "        sublist = [region, year, round(calc_avg_values(*lfp_values), 2)]\n",
    "        final_list.append(sublist)\n",
    "print(final_list)\n",
    "\n",
    "data_dict_list = []\n",
    "region_list = []\n",
    "for region in distinct_regions:\n",
    "    current_region = {'Year': [], 'LFP': []}\n",
    "    for item in final_list:\n",
    "        if item[0] == region:\n",
    "            current_region['Year'].append(item[1])\n",
    "            current_region['LFP'].append(item[2])\n",
    "    region_list.append(region)\n",
    "    data_dict_list.append(current_region)\n",
    "\n",
    "df = pd.DataFrame(data_dict_list)\n",
    "\n",
    "for data_dict in data_dict_list:\n",
    "    plt.plot(data_dict['Year'], data_dict['LFP'], marker='o')\n",
    "\n",
    "plt.xlabel('Year')\n",
    "plt.ylabel('Labour Force Participation Rate (%)')\n",
    "plt.title('Labour Force Participation Trends by Region')\n",
    "plt.legend(region_list)\n",
    "plt.xticks(data_dict_list[0]['Year'])"
   ]
  },
  {
   "cell_type": "markdown",
   "id": "732eaf65-70c9-4e54-b5d4-7887d12f94bb",
   "metadata": {},
   "source": [
    "### Try-Except \n",
    "Sometimes when we pull data from a spreadsheet,there are values that are misentered. This is where we Try-Except can work.\n",
    "Check out this example\n"
   ]
  },
  {
   "cell_type": "code",
   "execution_count": 34,
   "id": "02cf38ca-7a6d-4caf-bbaa-3e79b15b9e85",
   "metadata": {},
   "outputs": [
    {
     "name": "stdout",
     "output_type": "stream",
     "text": [
      "Valid GDP value: 4500\n",
      "Invalid data encountered, skipping...\n",
      "Valid GDP value: 5200\n"
     ]
    }
   ],
   "source": [
    "gdp_values = [\"4500\", \"undefined\", \"5200\"]\n",
    "for value in gdp_values:\n",
    "    try:\n",
    "        gdp = int(value)\n",
    "        print(f\"Valid GDP value: {gdp}\")\n",
    "    except ValueError:\n",
    "        print(\"Invalid data encountered, skipping...\")"
   ]
  },
  {
   "cell_type": "markdown",
   "id": "4a38175c",
   "metadata": {},
   "source": [
    "22. Explain, in words, the code above."
   ]
  },
  {
   "cell_type": "markdown",
   "id": "1703a93b-004e-46fb-a520-f3872bc80dbb",
   "metadata": {},
   "source": [
    "<span style='color:blue'>\n",
    "    In the code above, the for loop iterates through every item in the list gdp_values. Then, the function checks if each item can be converted into an integer. If it can be converted, the function prints 'Valid GDP value: [the integer]'. If it cannot be converted, the function prints 'Invalid data encountered, skipping...'.\n",
    "</span>"
   ]
  },
  {
   "cell_type": "markdown",
   "id": "f9de24f2-b226-47a0-981c-1b6da23288ba",
   "metadata": {},
   "source": [
    "23. Give another example of try, except, but do not use int(value) but some other way of determining a True value."
   ]
  },
  {
   "cell_type": "code",
   "execution_count": 35,
   "id": "86664b1f-b6fe-44ce-acb6-f3fbbc22f09c",
   "metadata": {},
   "outputs": [
    {
     "name": "stdout",
     "output_type": "stream",
     "text": [
      "Enter your age: 102\n",
      "Invalid Input.\n"
     ]
    }
   ],
   "source": [
    "age_input = input(\"Enter your age: \")\n",
    "\n",
    "try:\n",
    "    age = float(age_input)\n",
    "    if not 0 <= age <= 100:\n",
    "        raise ValueError(\"Age must be between 0 and 100.\")\n",
    "        print(\"Valid age.\")\n",
    "except ValueError:\n",
    "    print(\"Invalid Input.\")"
   ]
  },
  {
   "cell_type": "markdown",
   "id": "456eba22-ac06-4adf-aaa1-96857ded0bd4",
   "metadata": {},
   "source": [
    "#### Comprehensions\n"
   ]
  },
  {
   "cell_type": "code",
   "execution_count": 36,
   "id": "2f1a09bd-ea7d-4ce4-97f9-ccd0e35d748b",
   "metadata": {},
   "outputs": [],
   "source": [
    "country_growth_data = {\"CountryA\": 3.2, \"CountryB\": 6.5, \"CountryC\": 2.8, \"CountryD\": 5.4}"
   ]
  },
  {
   "cell_type": "markdown",
   "id": "791fecd1",
   "metadata": {},
   "source": [
    "24. Write a for loop that iterates over each item in the gdp_growth_data dictionary, checks the GDP growth rate, and assigns a category (\"High\" or \"Moderate\") based on the condition (rate > 5). Store the results in a growth_category dictionary."
   ]
  },
  {
   "cell_type": "code",
   "execution_count": 37,
   "id": "6e39f74e-abc8-4500-a7f1-35c1d0d3f7d8",
   "metadata": {},
   "outputs": [
    {
     "data": {
      "text/plain": [
       "{'CountryA': 'Moderate',\n",
       " 'CountryB': 'High',\n",
       " 'CountryC': 'Moderate',\n",
       " 'CountryD': 'High'}"
      ]
     },
     "execution_count": 37,
     "metadata": {},
     "output_type": "execute_result"
    }
   ],
   "source": [
    "growth_category = {}\n",
    "\n",
    "for country, rate in country_growth_data.items():\n",
    "    if rate > 5:\n",
    "        growth_category[country] = \"High\"\n",
    "    else:\n",
    "        growth_category[country] = \"Moderate\"\n",
    "growth_category"
   ]
  },
  {
   "cell_type": "markdown",
   "id": "badaea3c-ccfa-47d8-a2de-73af0f686bb9",
   "metadata": {},
   "source": [
    "25. Now re-write the code as a list comprehension\n",
    "    "
   ]
  },
  {
   "cell_type": "code",
   "execution_count": 38,
   "id": "002632c6-92a8-4938-b0fd-8068f29dc68c",
   "metadata": {},
   "outputs": [
    {
     "data": {
      "text/plain": [
       "[['CountryA', 3.2, 'Moderate'],\n",
       " ['CountryB', 6.5, 'High'],\n",
       " ['CountryC', 2.8, 'Moderate'],\n",
       " ['CountryD', 5.4, 'High']]"
      ]
     },
     "execution_count": 38,
     "metadata": {},
     "output_type": "execute_result"
    }
   ],
   "source": [
    "country_growth_data = [[\"CountryA\", 3.2],\n",
    "                       [\"CountryB\", 6.5],\n",
    "                       [\"CountryC\", 2.8],\n",
    "                       [\"CountryD\", 5.4]\n",
    "                      ]\n",
    "\n",
    "for country in country_growth_data:\n",
    "    if country[1] > 5:\n",
    "        country.append(\"High\")\n",
    "    else:\n",
    "        country.append(\"Moderate\")\n",
    "country_growth_data"
   ]
  },
  {
   "cell_type": "markdown",
   "id": "f3202820",
   "metadata": {},
   "source": [
    "This is how you would write it as a dictionary comprehension:"
   ]
  },
  {
   "cell_type": "code",
   "execution_count": 39,
   "id": "9446c3b3-b4b7-4582-9b6d-a93a5d020618",
   "metadata": {},
   "outputs": [
    {
     "name": "stdout",
     "output_type": "stream",
     "text": [
      "{'CountryA': 'Moderate', 'CountryB': 'High', 'CountryC': 'Moderate'}\n"
     ]
    }
   ],
   "source": [
    "gdp_growth_data = {\"CountryA\": 2.5, \"CountryB\": 7.1, \"CountryC\": 4.9}\n",
    "growth_category = {country: \"High\" if rate > 5 else \"Moderate\" for country, rate in gdp_growth_data.items()}\n",
    "print(growth_category)"
   ]
  },
  {
   "cell_type": "markdown",
   "id": "403b7366",
   "metadata": {},
   "source": [
    "26. What type of data structure is growth_category?"
   ]
  },
  {
   "cell_type": "markdown",
   "id": "96c3d7dd",
   "metadata": {},
   "source": [
    "<span style='color:blue'>\n",
    "    Dictionary comprehensions create dictionaries. List comprehensions create lists.\n",
    "</span>"
   ]
  }
 ],
 "metadata": {
  "kernelspec": {
   "display_name": "Python 3 (ipykernel)",
   "language": "python",
   "name": "python3"
  },
  "language_info": {
   "codemirror_mode": {
    "name": "ipython",
    "version": 3
   },
   "file_extension": ".py",
   "mimetype": "text/x-python",
   "name": "python",
   "nbconvert_exporter": "python",
   "pygments_lexer": "ipython3",
   "version": "3.11.4"
  }
 },
 "nbformat": 4,
 "nbformat_minor": 5
}
