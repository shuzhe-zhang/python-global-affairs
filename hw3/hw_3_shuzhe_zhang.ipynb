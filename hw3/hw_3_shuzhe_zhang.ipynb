{
 "cells": [
  {
   "cell_type": "markdown",
   "id": "c6e0a777-60c6-424c-8e5f-461f3072854b",
   "metadata": {},
   "source": [
    "1. Translating Sentences:\n",
    "\n",
    "Write a function that translates sentences. The function takes two arguements, the sentence to be translated and the targeted language and returns the translated sentence."
   ]
  },
  {
   "cell_type": "code",
   "execution_count": 1,
   "id": "760e2bad-7861-4594-8557-786d41b56b97",
   "metadata": {},
   "outputs": [],
   "source": [
    "# !pip install deep_translator\n",
    "from deep_translator import GoogleTranslator\n",
    "\n",
    "def translate(sentence: str, target_lang: str) -> str:\n",
    "    \"\"\"\n",
    "    Translate a sentence to the specified target language using Google Translator.\n",
    "    \n",
    "    Args:\n",
    "        sentence (str): The text to be translated.\n",
    "        target_lang (str): The target language code (ISO 639-1).\n",
    "    \n",
    "    Returns:\n",
    "        str: The translated text.\n",
    "    \"\"\"\n",
    "    translator = GoogleTranslator(target=target_lang)\n",
    "    return translator.translate(sentence)\n"
   ]
  },
  {
   "cell_type": "markdown",
   "id": "2969a456-a840-48ce-b0f4-9252a2bddd24",
   "metadata": {},
   "source": [
    "2. Take the following sentence and translate it from English to Spanish.\n",
    "\n",
    "\"Make a career of humanity. Commit yourself to the noble struggle for equal rights. You will make a better person of yourself, a greater nation of your country, and a finer world to live in.\""
   ]
  },
  {
   "cell_type": "code",
   "execution_count": 2,
   "id": "00ee7787",
   "metadata": {},
   "outputs": [
    {
     "name": "stdout",
     "output_type": "stream",
     "text": [
      "Haz una carrera de humanidad. Comprométete con la noble lucha por la igualdad de derechos. Harás de ti mismo una mejor persona, una nación más grande para tu país y un mundo mejor para vivir.\n"
     ]
    }
   ],
   "source": [
    "sentence = \"Make a career of humanity. Commit yourself to the noble struggle for equal rights. You will make a better person of yourself, a greater nation of your country, and a finer world to live in.\"\n",
    "sentence_es = translate(sentence, \"es\")\n",
    "print(sentence_es)\n"
   ]
  },
  {
   "cell_type": "markdown",
   "id": "63c4d715",
   "metadata": {},
   "source": [
    "3. Now translate it from Spanish to Chinese"
   ]
  },
  {
   "cell_type": "code",
   "execution_count": 3,
   "id": "046ca215-83f0-4680-874d-20214d76992b",
   "metadata": {},
   "outputs": [
    {
     "name": "stdout",
     "output_type": "stream",
     "text": [
      "成就人类事业。致力于争取平等权利的崇高斗争。你将使自己成为一个更好的人、一个更伟大的国家、一个更美好的世界。\n"
     ]
    }
   ],
   "source": [
    "sentence_zh_cn = translate(sentence_es, \"zh-CN\")\n",
    "print(sentence_zh_cn)\n"
   ]
  },
  {
   "cell_type": "markdown",
   "id": "c515329b",
   "metadata": {},
   "source": [
    "4. Now translate it from Chinese back to English."
   ]
  },
  {
   "cell_type": "code",
   "execution_count": 4,
   "id": "f4615e33-518f-4047-bd24-03967d96312f",
   "metadata": {},
   "outputs": [
    {
     "name": "stdout",
     "output_type": "stream",
     "text": [
      "Achieve human career. Dedicated to the noble struggle for equal rights. You will make yourself a better person, a greater country, and a better world.\n"
     ]
    }
   ],
   "source": [
    "sentence_en = translate(sentence_zh_cn, \"en\")\n",
    "print(sentence_en)\n"
   ]
  },
  {
   "cell_type": "markdown",
   "id": "ec0705c5-56d1-4eef-8268-280127022260",
   "metadata": {},
   "source": [
    "5. Now do the same thing with ChatGPT. "
   ]
  },
  {
   "cell_type": "markdown",
   "id": "74e0ec40",
   "metadata": {},
   "source": [
    "<span style=\"color:blue\">\n",
    "\n",
    "- Original Sentence: \n",
    "\n",
    "Make a career of humanity. Commit yourself to the noble struggle for equal rights. \n",
    "You will make a better person of yourself, a greater nation of your country, and a finer world to live in.\n",
    "\n",
    "- English to Spanish: \n",
    "\n",
    "Haz de la humanidad tu carrera. Comprométete con la noble lucha por la igualdad de derechos. Te convertirás en una mejor persona, en una nación más grande de tu país y en un mundo más fino en el que vivir.\n",
    "\n",
    "- Spanish to Chinese: \n",
    "\n",
    "使人性成为你的职业。致力于平等权利的崇高斗争。你会让自己成为一个更好的人，使你的国家成为一个更伟大的国家，创造一个更美好的世界。\n",
    "\n",
    "\n",
    "- Chinese back to English: \n",
    "\n",
    "Make humanity your career. Devote yourself to the noble fight for equal rights. You will make yourself a better person, make your country a greater nation, and create a better world.\n",
    "\n",
    "</span>"
   ]
  },
  {
   "cell_type": "markdown",
   "id": "138018a1",
   "metadata": {},
   "source": [
    "6. Describe the difference in quality and features of output:"
   ]
  },
  {
   "cell_type": "markdown",
   "id": "d014fd6d",
   "metadata": {},
   "source": [
    "<span style=\"color:blue\">\n",
    "\n",
    "The function I wrote utilized the deep_translator package and translated each sentence word by word. The meaning of the sentence altered. However, ChatGPT processed it by using the language model, thus understanding the context and semantics of the text provided. Even though the final English sentences generated by both methods are not exactly the same as the input, ChatGPT's work is of higher quality in terms of context.\n",
    "\n",
    "</span>"
   ]
  },
  {
   "cell_type": "markdown",
   "id": "35ef9916-beef-4318-831e-ea8328da4ed6",
   "metadata": {},
   "source": [
    "7.Human Development Index(HDI) Function\n",
    "\n",
    "Human Development Index (HDI) is a composite statistic of life expectancy, education, and income per capita indicators, which are used to rank countries into four apsects of human development: \n",
    "\n",
    "1. Life expectancy at birth.\n",
    "2. Average number of years of education received by people aged 25 and older.\n",
    "3. Expected years of schooling for children entering school.\n",
    "4. Gross National Income per capita.\n",
    "\n",
    "But....these measures need to be normalize.\n",
    "\n",
    "\n",
    "### Normalizing the four factors—life expectancy, mean years of schooling, expected years of schooling, and GNI per capita—is crucial for calculating the Human Development Index (HDI) correctly for several reasons:\n",
    "\n",
    "1. *Different Units and Scales*\n",
    "The four factors are measured in entirely different units and scales. Life expectancy is measured in years, schooling years are also in years, but they represent different aspects of education, and GNI per capita is measured in dollars. Normalization transforms these variables into a comparable scale (usually between 0 and 1), allowing for a meaningful aggregation into a single index.\n",
    "2. *Combining Indices*\n",
    "The HDI is a composite index that combines indicators of health, education, and income. To accurately reflect improvements or declines across these varied dimensions, each factor must contribute proportionately to the final index. Without normalization, a high value in one dimension could disproportionately affect the HDI, obscuring significant deficiencies in another dimension.\n",
    "3. *Geometric Mean Calculation*\n",
    "The HDI uses the geometric mean of the normalized indices rather than an arithmetic mean. This choice ensures that severe underperformance in any single dimension (approaching zero) will have a more substantial impact on the overall HDI, promoting a more balanced approach to development. The geometric mean can only be meaningfully calculated if all values are on the same positive scale.\n",
    "4. *Comparability Over Time and Across Countries*\n",
    "Normalization allows for the comparison of HDI scores over time and between countries. By using fixed hypothetical minimum and maximum values for normalization, the HDI can track progress or decline in human development even as absolute conditions change. It ensures that the index remains relevant and comparable despite changes in global standards of living, educational attainment, or life expectancy.\n",
    "5. *Reducing Skewness and Enhancing Sensitivity*\n",
    "For GNI per capita, specifically, the logarithmic transformation helps manage the skewness caused by the wide range of income levels across the world. This transformation ensures that proportional differences at lower levels of income are given comparable weight to similar proportional differences at higher levels of income, enhancing the sensitivity of the HDI to improvements in living standards across all income levels.\n",
    "\n",
    "So...normalization is a **methodological necessity** in constructing the HDI. It allows for the equitable integration of diverse human development indicators into a unified framework, enabling policymakers, researchers, and the public to assess and compare the overall level of human development across different contexts and over time.\n",
    "\n",
    "\n",
    "Here are your helpful guidelines for constructing the logic of this function:\n"
   ]
  },
  {
   "cell_type": "raw",
   "id": "d5700ed9",
   "metadata": {},
   "source": [
    "# How to normalize each index\n",
    "life_expectancy_index = (life_expectancy - 20) / (85 - 20)\n",
    "education_index = (mean_years_of_schooling / 15 + expected_years_of_schooling / 18) / 2\n",
    "GNI_index = (np.log(GNI_per_capita) - np.log(100)) / (np.log(75000) - np.log(100))\n",
    "\n",
    "# Calculate HDI\n",
    "HDI = (life_expectancy_index * education_index * GNI_index) ** (1/3)"
   ]
  },
  {
   "cell_type": "markdown",
   "id": "403cc18f",
   "metadata": {},
   "source": [
    "Now write the HDI function. Explain each of these normalizations with documation that illustrates your understanding of the code."
   ]
  },
  {
   "cell_type": "code",
   "execution_count": 5,
   "id": "2ab63be4-3a46-4b3a-8c27-7ad7299d5977",
   "metadata": {},
   "outputs": [],
   "source": [
    "def calculate_HDI(life_expectancy, mean_years_of_schooling, expected_years_of_schooling, GNI_per_capita):\n",
    "    \"\"\"\n",
    "    Calculates the Human Development Index (HDI) based on provided indicators.\n",
    "    \n",
    "    https://hdr.undp.org/data-center/human-development-index#/indicies/HDI\n",
    "\n",
    "    Args:\n",
    "        life_expectancy (float): The life expectancy at birth.\n",
    "        mean_years_of_schooling (float): The mean of years of schooling for adults aged 25 years and more.\n",
    "        expected_years_of_schooling (float): The expected years of schooling for children of school entering age.\n",
    "        GNI_per_capita (float): The gross national income per capita.\n",
    "\n",
    "    Returns:\n",
    "        float: The HDI value, computed as the geometric mean of the three normalized indices for life expectancy, education, and income.\n",
    "    \"\"\"\n",
    "    life_expectancy_index = (life_expectancy - 20) / (85 - 20)\n",
    "    education_index = (mean_years_of_schooling / 15 + expected_years_of_schooling / 18) / 2\n",
    "    GNI_index = (np.log(GNI_per_capita) - np.log(100)) / (np.log(75000))\n",
    "    \n",
    "    HDI = (life_expectancy_index * education_index * GNI_index) ** (1/3)\n",
    "    \"\"\"\n",
    "    life_expectancy_index \\in [0, 1]: The index is calculated by getting the difference between the minimum life \n",
    "        expectancy and the actual life expectancy and then dividing the result by the difference between \n",
    "        the maximum and minimum life expectancy values.\n",
    "    education_index \\in [0, 1]: The index is calculated by dividing the mean years of schooling by a maximum of \n",
    "        15 years and the expected years of schooling by a maximum of 18 years. We then take the average \n",
    "        of the two numbers.\n",
    "    GNI_index \\in [0, 1]: The index is calculated by taking the difference between the logarithm of the GNI per \n",
    "        capita and the logarithm of a minimum income, and then dividing this difference by the difference \n",
    "        between the logarithms of the maximum and the minimum incomes.\n",
    "        \n",
    "    Calculate the HDI by taking the geometric mean, which also ranges from 0 to 1.\n",
    "    \"\"\"    \n",
    "    return HDI"
   ]
  },
  {
   "cell_type": "raw",
   "id": "9447c850",
   "metadata": {},
   "source": [
    "8. Leet Code Puzzle:\n",
    "\n",
    "Roman numerals are represented by seven different symbols: I, V, X, L, C, D and M.\n",
    "\n",
    "Symbol       Value\n",
    "I             1\n",
    "V             5\n",
    "X             10\n",
    "L             50\n",
    "C             100\n",
    "D             500\n",
    "M             1000\n",
    "\n",
    "For example, 2 is written as II in Roman numeral, just two ones added together. 12 is written as XII, which is simply X + II. The number 27 is written as XXVII, which is XX + V + II.\n",
    "\n",
    "Roman numerals are usually written largest to smallest from left to right. However, the numeral for four is not IIII. Instead, the number four is written as IV. Because the one is before the five we subtract it making four. The same principle applies to the number nine, which is written as IX. There are six instances where subtraction is used:\n",
    "\n",
    "I can be placed before V (5) and X (10) to make 4 and 9. \n",
    "X can be placed before L (50) and C (100) to make 40 and 90. \n",
    "C can be placed before D (500) and M (1000) to make 400 and 900.\n",
    "Given a roman numeral, convert it to an integer.\n",
    "\n",
    "Example 1:\n",
    "\n",
    "Input: s = \"III\"\n",
    "Output: 3\n",
    "Explanation: III = 3.\n",
    "\n",
    "Example 2:\n",
    "\n",
    "Input: s = \"LVIII\"\n",
    "Output: 58\n",
    "Explanation: L = 50, V = 5, III = 3.\n",
    "\n",
    "Example 3:\n",
    "\n",
    "Input: s = \"MCMXCIV\"\n",
    "Output: 1994\n",
    "Explanation: M = 1000, CM = 900, XC = 90 and IV = 4.\n",
    " \n",
    "\n",
    "Constraints:\n",
    "\n",
    "1 <= s.length <= 15\n",
    "s contains only the characters ('I', 'V', 'X', 'L', 'C', 'D', 'M').\n",
    "It is guaranteed that s is a valid roman numeral in the range [1,3999]"
   ]
  },
  {
   "cell_type": "markdown",
   "id": "dad1d966-55aa-4387-b133-b3f0fe9918c3",
   "metadata": {},
   "source": [
    "Complete the following function that converts a Roman numeral to an integer. **Check out the helpful type hinting format!** "
   ]
  },
  {
   "cell_type": "code",
   "execution_count": 6,
   "id": "e5f9e5af",
   "metadata": {},
   "outputs": [],
   "source": [
    "def check_constraint(s: str) -> bool:\n",
    "    \"\"\"\n",
    "    Checks if the string contains only Roman numeral characters ('I', 'V', 'X', 'L', 'C', 'D', 'M').\n",
    "    \n",
    "    Parameters:\n",
    "    - s: A string to be checked.\n",
    "    \n",
    "    Returns:\n",
    "    - True if the string contains only Roman numeral characters and its length is between 1 and 15, False otherwise.\n",
    "    \"\"\"\n",
    "    for char in s:\n",
    "        if char not in ['I', 'V', 'X', 'L', 'C', 'D', 'M']:\n",
    "            return False\n",
    "    \n",
    "    if not 1 <= len(s) <= 15:\n",
    "        return False\n",
    "    return True\n"
   ]
  },
  {
   "cell_type": "code",
   "execution_count": 7,
   "id": "db0703d2",
   "metadata": {},
   "outputs": [],
   "source": [
    "def roman_to_integer(s: str) -> int:\n",
    "    \"\"\"\n",
    "    Convert a Roman numeral to an integer.\n",
    "\n",
    "    This function takes a Roman numeral as input and returns its integer value. It handles both special cases (such as 'IV', 'IX', etc.) and standard Roman numerals ('I', 'V', 'X', 'L', 'C', 'D', 'M'). The input must be a valid Roman numeral in the range from 1 to 3999, inclusive. If the input is invalid or out of range, a ValueError is raised.\n",
    "\n",
    "    Parameters:\n",
    "    - s (str): A string representing a Roman numeral.\n",
    "\n",
    "    Returns:\n",
    "    - int: The integer value of the Roman numeral.\n",
    "\n",
    "    Raises:\n",
    "    - ValueError: If `s` is not a valid Roman numeral or if the resulting integer is outside the valid range [1, 3999].\n",
    "\n",
    "    Note:\n",
    "    The function first checks if the input string is a valid Roman numeral using a separate constraint checker. It then parses the string to calculate the integer value, considering special numeral combinations defined in `exception_dict`. The result is validated to be within the valid range of Roman numerals before being returned.\n",
    "    \"\"\"\n",
    "    if not check_constraint(s):\n",
    "        raise ValueError(\"Invalid Input.\")\n",
    "    \n",
    "    exception_dict = {\"IV\": 4, \"IX\": 9, \"XL\": 40, \"XC\": 90, \"CD\": 400, \"CM\": 900}\n",
    "    roman_dict = {\"I\": 1, \"V\": 5, \"X\": 10, \"L\": 50, \"C\": 100, \"D\": 500, \"M\": 1000}\n",
    "    \n",
    "    print(f'Input: s = {s}')\n",
    "    \n",
    "    output = 0\n",
    "    i = 0\n",
    "    explain = \"Explanation:\"\n",
    "    \n",
    "    while i < len(s):\n",
    "        if i < len(s) - 1 and s[i:i+2] in exception_dict:\n",
    "            explain += f' {s[i:i+2]} = {exception_dict[s[i:i+2]]}'\n",
    "            output += exception_dict[s[i:i+2]]\n",
    "            i += 2\n",
    "        else:\n",
    "            explain += f' {s[i]} = {roman_dict[s[i]]}'\n",
    "            output += roman_dict[s[i]]\n",
    "            i += 1\n",
    "            \n",
    "    print(explain)\n",
    "    \n",
    "    if not (1 <= output <= 3999):\n",
    "        raise ValueError(\"Should be a valid roman numeral in the range [1, 3999].\")\n",
    "    return output\n"
   ]
  },
  {
   "cell_type": "code",
   "execution_count": 8,
   "id": "1987444b",
   "metadata": {},
   "outputs": [
    {
     "name": "stdout",
     "output_type": "stream",
     "text": [
      "Input: s = III\n",
      "Explanation: I = 1 I = 1 I = 1\n",
      "Output: 3\n",
      "\n",
      "Input: s = LVIII\n",
      "Explanation: L = 50 V = 5 I = 1 I = 1 I = 1\n",
      "Output: 58\n",
      "\n",
      "Input: s = MCMXCIV\n",
      "Explanation: M = 1000 CM = 900 XC = 90 IV = 4\n",
      "Output: 1994\n"
     ]
    }
   ],
   "source": [
    "print(f'Output: {roman_to_integer(\"III\")}')\n",
    "print()\n",
    "print(f'Output: {roman_to_integer(\"LVIII\")}')\n",
    "print()\n",
    "print(f'Output: {roman_to_integer(\"MCMXCIV\")}')"
   ]
  },
  {
   "cell_type": "raw",
   "id": "dec65a11",
   "metadata": {},
   "source": [
    "def roman_to_integer(s: str) -> int:\n",
    "\n",
    "This syntax The syntax def roman_to_integer(s: str) -> int: is used in Python for type hinting. \n",
    "\n",
    "It helps to indicate what types of values a function expects to receive and what type it will return.\n",
    "\n",
    "(s: str) indicates that this function takes one parameter s, and str is a type hint specifying that s should be a string.\n",
    "\n",
    "-> int: indicates what type the function is expected to return.int is a type hint that specifies the return type of the function should be an integer. This syntax is part of Python's type hinting system, introduced in Python 3.5 through PEP 484. \n",
    "\n",
    "Type hints are not enforced at runtime, meaning that Python doesn't automatically check or enforce these types. However, they are incredibly useful for developers to understand how a function should be used, and they can be used by tools like type checkers, IDEs, and linters to catch potential bugs in code.\n",
    "\n",
    "So, in the context of roman_to_integer(s: str) -> int:, it's a hint that the function takes a string s (representing a Roman numeral) as input and returns an integer."
   ]
  },
  {
   "cell_type": "markdown",
   "id": "87fcd085-b4b5-4d81-9caf-174a270c390f",
   "metadata": {},
   "source": [
    " ## Recursion\n",
    "\n",
    "Recursion is a programming technique where a function calls itself in order to solve a problem. In recursive functions, the solution to a problem depends on solutions to smaller instances of the same problem. A key feature of a recursive function is the presence of a base case, which terminates the recursion and prevents it from running indefinitely.\n",
    "\n",
    "Let's create a recursive function that multiplies two numbers using addition. This is a simple yet illustrative example of recursion. The function will multiply two positive integers, a and b, by adding a to itself b times."
   ]
  },
  {
   "cell_type": "code",
   "execution_count": 9,
   "id": "6a4fe908-fddc-4e69-ae8c-fa118cec34a1",
   "metadata": {},
   "outputs": [
    {
     "name": "stdout",
     "output_type": "stream",
     "text": [
      "15\n"
     ]
    }
   ],
   "source": [
    "def recursive_multiply(a, b):\n",
    "    \"\"\"\n",
    "    Recursively multiplies two numbers by using addition.\n",
    "\n",
    "    Parameters:\n",
    "    a (int): The first number.\n",
    "    b (int): The second number, representing the number of times 'a' is added to itself.\n",
    "\n",
    "    Returns:\n",
    "    int: The product of 'a' and 'b'.\n",
    "    \"\"\"\n",
    "    # Base case: when b is 0, the result is 0\n",
    "    if b == 0:\n",
    "        return 0\n",
    "\n",
    "    # Recursive case: add 'a' to the result of multiplying 'a' with 'b-1'\n",
    "    else:\n",
    "        return a + recursive_multiply(a, b - 1)\n",
    "\n",
    "# Example usage\n",
    "print(recursive_multiply(5, 3))  # Output: 15\n"
   ]
  },
  {
   "cell_type": "raw",
   "id": "5a381643",
   "metadata": {},
   "source": [
    "Explanation: Base Case: When b is 0, the function returns 0. This is because any number multiplied by 0 equals 0.\n",
    "\n",
    "Recursive Case: If b is greater than 0, the function performs the operation a + recursive_multiply(a, b - 1). This adds a to the result of the function called with b decremented by 1, effectively summing a b times.\n",
    "\n",
    "Termination: The recursion continues until b reaches 0, at which point the base case stops the recursion and the final result is returned.\n",
    "\n",
    "In this example, recursive_multiply(5, 3) is calculated as:\n",
    "\n",
    "5 + recursive_multiply(5, 2) 5 + (5 + recursive_multiply(5, 1)) 5 + (5 + (5 + recursive_multiply(5, 0))) 5 + (5 + (5 + 0)) 15 This example demonstrates a basic recursion concept using a common arithmetic operation."
   ]
  },
  {
   "cell_type": "markdown",
   "id": "15981086-348c-4165-8934-b96658e0d9c3",
   "metadata": {},
   "source": [
    "## One for Jacob\n",
    "Let's use an example related to Russian studies. Imagine we want to analyze the lineage of Russian leadership, tracing back through a series of predecessors. The recursive function could help us find how many steps it takes to reach a specific historical figure in the leadership lineage."
   ]
  },
  {
   "cell_type": "code",
   "execution_count": 10,
   "id": "5c6a1381-c817-443c-abbb-53d842744bfd",
   "metadata": {},
   "outputs": [
    {
     "name": "stdout",
     "output_type": "stream",
     "text": [
      "2\n"
     ]
    }
   ],
   "source": [
    "def trace_lineage(current_leader, target_leader, steps=0):\n",
    "    \"\"\"\n",
    "    Recursively traces the lineage of Russian leadership back to a target leader.\n",
    "\n",
    "    Parameters:\n",
    "    current_leader (str): The current leader in the lineage being traced.\n",
    "    target_leader (str): The target leader to trace back to.\n",
    "    steps (int): The number of steps taken in the lineage trace.\n",
    "\n",
    "    Returns:\n",
    "    int: The number of steps to reach the target leader.\n",
    "    \"\"\"\n",
    "    # Base case: If the current leader is the target leader\n",
    "    if current_leader == target_leader:\n",
    "        return steps\n",
    "\n",
    "    # A simple example lineage mapping\n",
    "    lineage = {\n",
    "        \"Vladimir Putin\": \"Boris Yeltsin\",\n",
    "        \"Boris Yeltsin\": \"Mikhail Gorbachev\",\n",
    "        \"Mikhail Gorbachev\": \"Konstantin Chernenko\",\n",
    "        # ... additional lineage mapping ...\n",
    "    }\n",
    "\n",
    "    # Recursive case: Move to the next leader in the lineage\n",
    "    if current_leader in lineage:\n",
    "        return trace_lineage(lineage[current_leader], target_leader, steps + 1)\n",
    "    else:\n",
    "        return \"Lineage not found\"\n",
    "\n",
    "# Example usage: How many steps from Vladimir Putin to Mikhail Gorbachev?\n",
    "steps_to_gorbachev = trace_lineage(\"Vladimir Putin\", \"Mikhail Gorbachev\")\n",
    "print(steps_to_gorbachev)  # Output: 2\n"
   ]
  },
  {
   "cell_type": "markdown",
   "id": "a8c5f100-36c0-4d18-90d0-1aa620356458",
   "metadata": {},
   "source": [
    "In this example, trace_lineage is a recursive function. The base case occurs when the current leader is the target leader, at which point the function returns the number of steps taken. If the current leader is not the target, the function calls itself with the predecessor of the current leader (retrieved from the lineage dictionary). This process repeats until the target leader is reached or the lineage cannot be traced further.\n",
    "\n",
    "Recursion is a powerful concept, especially useful in scenarios where a problem can be broken down into smaller, similar subproblems. However, it's important to define the base case correctly to avoid infinite recursion."
   ]
  },
  {
   "cell_type": "raw",
   "id": "cb729b34",
   "metadata": {},
   "source": [
    "9. The Matryoshka Dolls\n",
    "\n",
    "In Russian culture, Matryoshka dolls, or Russian nesting dolls, are a set of wooden dolls of decreasing size placed one inside another. \n",
    "\n",
    "Your task is to write a recursive function in Python that calculates the total number of individual dolls in a set of Matryoshka dolls, given the number of layers.\n",
    "\n",
    "Problem Description:\n",
    "\n",
    "A single Matryoshka doll consists of multiple layers, each layer being a doll itself.\n",
    "Each doll can contain exactly one smaller doll inside it, except for the smallest doll, which cannot contain any doll. The function should take the number of layers (i.e., the size of the largest doll) as an input and return the total number of dolls.\n",
    "\n",
    "Example:\n",
    "\n",
    "If the largest doll has 5 layers, then the total number of dolls will be 5 (one for each layer)."
   ]
  },
  {
   "cell_type": "code",
   "execution_count": 11,
   "id": "c39c100b-dec6-408c-ae21-99119d6b3033",
   "metadata": {},
   "outputs": [],
   "source": [
    "def count_dolls(num_layers):\n",
    "    \"\"\"\n",
    "    Counts the total number of Matryoshka dolls given the number of layers.\n",
    "\n",
    "    Parameters:\n",
    "    - num_layers (int): The number of layers in the largest doll.\n",
    "\n",
    "    Returns:\n",
    "    - int: The total number of dolls.\n",
    "    \"\"\"\n",
    "    if num_layers == 0:\n",
    "        return 0\n",
    "    else:\n",
    "        return 1 + count_dolls(num_layers - 1)\n",
    "    "
   ]
  },
  {
   "cell_type": "code",
   "execution_count": 12,
   "id": "93d6172d",
   "metadata": {},
   "outputs": [
    {
     "name": "stdout",
     "output_type": "stream",
     "text": [
      "5\n"
     ]
    }
   ],
   "source": [
    "print(count_dolls(5))"
   ]
  },
  {
   "cell_type": "markdown",
   "id": "1adb516b-b2d3-4d9d-b736-8967cbdb3370",
   "metadata": {},
   "source": [
    "10. Mired in Mango Madness\n",
    "\n",
    "\n",
    "Congratulations! In your last semester at Yale, you got a job at the World Bank! \n",
    "\n",
    "Your first assignment is to address the dearth of good data in Mali on Mango quality and production. Your boss put you on a plane to Mali during the harvest season. You are excited, not only because your boss is annoying and wears too much cologne, but international travel is part of the excitement of an international job. You are excited to see the Great Mosque of Djenne, to watch the sunset from the Bandiagara Cliffs, and to dance the night away to  at Le Byblos. Oh yeah, there is the work too. After a particular \"rough\" night you meet with your colleagues at the office.  You thought you'd be able to just get by making eye contact and nodding while they did most of the work. After all, you are new to the role. No such luck. Your colleagues are thrilled that you can solve their problems by creating an automated call center. Their exact words are, \"The Harvard grad ended up quitting, I'm glad we have someone from Yale here to make things right.\"\n",
    "\n",
    "You are given an office and a computer. You may have slightly overstated your Python coding skills to get the job, but too late now. They ask if you mind if they watch you code. You tell them that you prefer to work alone, although ask them to lunch later to soften the push back. After the initial panic and hangover subsides you think back to your days in intermediate python at Yale, the encouraging words of your caring but demanding prof,  and then a light flashes in your mind and you think, \"I got this.\"  <span style=\"color:red\"> Lol </span>\n",
    "\n",
    "You've been tasked with the goal of setting up an automated call center to get data on current market prices, production and quality. There are growers who are both collectives who report these factors, and also smaller growers! Unfortunately, some of these are incentivized to underreport production and prices under the assumption that they will receive more foreign aid. Not all of them though! It's estimated that 10-20% of the self-reporting is innacurate. Callers call the center. Words are processed from speech to text. Text is processed, converted back to speech and then communicated to the caller. \n",
    "\n",
    "There are a few challenges you face: \n",
    "1. The speech to text algo was trained on French, but most of the farmers who call in speak Bambara. You must translate from Bambara to French, and then French to English, because your boss doesn't speak French and wants things in English and is completely unreasonable.\n",
    "2. Sometimes the call just ends, sometimes words are sporadic, sometimes the algo. confuses the word \"child\" and the word \"mango\"\n",
    "3. The call in number was once the number for the infant health hotline. People still use the number to try to get immediate emergency care for their infant. Their calls must be redirected or children could die and it would be your fault, not to mention an international incident.\n",
    "4. The call number is often called by fans and musicians who are given the number by directory assistance because there is a music production company called Mango Mali, a fledgling world music group that markets music from Mali to France.\n",
    "5. You must try to identify who is lying about their crop yield quality and prices.\n",
    "\n",
    "\n",
    "**YOUR MISSION**\n",
    "\n",
    "Write code that accepts the number as an input and then collects user input(in Bambara), translates it to French, and then outputs the data to a csv file in English. Please make sure you write code that addresses the challenges above (1-5). \n",
    "Create use cases to demonstrate that your code works and that you have addressed the basic use case, and that you have addressed challenges 1-5."
   ]
  },
  {
   "cell_type": "code",
   "execution_count": 13,
   "id": "9765b3de",
   "metadata": {},
   "outputs": [],
   "source": [
    "#! pip install deep_translator\n",
    "from deep_translator import GoogleTranslator\n",
    "\n",
    "\"\"\"\n",
    "Comment: This function can help solve the problem where we need to translate from Bambara to French, \n",
    "         and then from French to English.\n",
    "\"\"\"\n",
    "\n",
    "def translate(text: str, *languages) -> str:\n",
    "    \"\"\"\n",
    "    Translate the given text into a sequence of languages using Google Translator\n",
    "    and return the final translated text in the last specified language.\n",
    "\n",
    "    Args:\n",
    "        text (str): The text to be translated.\n",
    "        *languages (str): Variable number of target languages to translate the text into.\n",
    "\n",
    "    Returns:\n",
    "        str: The text translated through the specified languages and back to the last specified language.\n",
    "    \"\"\"\n",
    "    translated_text = text\n",
    "    for lang in languages:\n",
    "        translator = GoogleTranslator(target=lang)\n",
    "        translated_text = translator.translate(translated_text)\n",
    "    return translated_text\n"
   ]
  },
  {
   "cell_type": "code",
   "execution_count": 14,
   "id": "e631c1e5",
   "metadata": {},
   "outputs": [
    {
     "name": "stderr",
     "output_type": "stream",
     "text": [
      "[nltk_data] Downloading package punkt to\n",
      "[nltk_data]     /Users/shuzhezhang/nltk_data...\n",
      "[nltk_data]   Package punkt is already up-to-date!\n",
      "[nltk_data] Downloading package averaged_perceptron_tagger to\n",
      "[nltk_data]     /Users/shuzhezhang/nltk_data...\n",
      "[nltk_data]   Package averaged_perceptron_tagger is already up-to-\n",
      "[nltk_data]       date!\n",
      "[nltk_data] Downloading package stopwords to\n",
      "[nltk_data]     /Users/shuzhezhang/nltk_data...\n",
      "[nltk_data]   Package stopwords is already up-to-date!\n"
     ]
    }
   ],
   "source": [
    "# !pip install nltk\n",
    "import nltk\n",
    "from nltk.tokenize import word_tokenize\n",
    "from nltk.corpus import stopwords\n",
    "from nltk.tag import pos_tag\n",
    "nltk.download('punkt')\n",
    "nltk.download('averaged_perceptron_tagger')\n",
    "nltk.download('stopwords')\n",
    "\n",
    "\"\"\"\n",
    "Comment: I wrote this function to extract keywords from the call-in text and the materials I scraped from the \n",
    "         relevant website. This can help me compare the similarity between the call-in text and the sets and \n",
    "         decide what the call was about. I attempted to add more steps to this function, translating each word \n",
    "         in the keywords set from English to French and then back to English, in order to somehow adjust the set \n",
    "         to the logic of the translation package. However, when I ran it, it started running indefinitely, so I \n",
    "         eventually give up this idea.\n",
    "\"\"\"\n",
    "\n",
    "def extract_keywords(text: str) -> set:\n",
    "    \"\"\"\n",
    "    Extracts keywords from the input text by tokenizing, part-of-speech tagging,\n",
    "    and filtering out non-noun words and stop words.\n",
    "\n",
    "    Parameters:\n",
    "    - text (str): The input text from which keywords are to be extracted.\n",
    "\n",
    "    Returns:\n",
    "    - set: A set of unique keywords extracted from the text, all in lowercase.\n",
    "    \"\"\"\n",
    "    text = text.lower()\n",
    "    stop_words = set(stopwords.words('english'))\n",
    "    words = word_tokenize(text)\n",
    "    tagged = pos_tag(words)\n",
    "    keywords = {word for word, tag in tagged if word.isalpha() and word not in stop_words and tag.startswith(\"NN\")}\n",
    "    return keywords\n"
   ]
  },
  {
   "cell_type": "code",
   "execution_count": 15,
   "id": "9faa7e32",
   "metadata": {},
   "outputs": [],
   "source": [
    "# !pip install requests beautifulsoup4\n",
    "import requests\n",
    "from bs4 import BeautifulSoup\n",
    "\n",
    "\"\"\"\n",
    "Comment: I wrote this function to scrape content from websites. It would be better if \n",
    "         I could narrow down to the specific, relevant parts of the website. I struggled \n",
    "         to understand the website's tagging, especially for the mango-related site I selected.\n",
    "\"\"\"\n",
    "\n",
    "def find_keywords(url: str) -> set:\n",
    "    \"\"\"\n",
    "    Fetches a webpage from the given URL, extracts text from it, and then uses\n",
    "    the extract_keywords function to extract a set of keywords.\n",
    "\n",
    "    Parameters:\n",
    "    - url (str): The URL of the webpage to extract keywords from.\n",
    "\n",
    "    Returns:\n",
    "    - set: A set of unique keywords extracted from the webpage, all in lowercase.\n",
    "    \"\"\"\n",
    "    response = requests.get(url)\n",
    "    soup = BeautifulSoup(response.text, 'html.parser')\n",
    "    text = soup.get_text()\n",
    "    return extract_keywords(text)"
   ]
  },
  {
   "cell_type": "code",
   "execution_count": 16,
   "id": "9170c242",
   "metadata": {},
   "outputs": [],
   "source": [
    "# !pip install python-Levenshtein\n",
    "import Levenshtein\n",
    "\n",
    "\"\"\"\n",
    "Comment: I wrote this function to check if the two strings are similar to each other. \n",
    "         My intention was to match nouns with their plural forms.\n",
    "\"\"\"\n",
    "\n",
    "def is_close(string1: str, string2: str, threshold: float=0.9) -> bool:\n",
    "    \"\"\"\n",
    "    Determines if two strings are close based on the Levenshtein distance and a similarity threshold.\n",
    "\n",
    "    Args:\n",
    "        string1 (str): The first string to compare.\n",
    "        string2 (str): The second string to compare.\n",
    "        threshold (float): The similarity threshold to determine if strings are close. Default is 0.9 (90%).\n",
    "\n",
    "    Returns:\n",
    "        bool: True if the strings are considered close, False otherwise.\n",
    "    \"\"\"\n",
    "    distance = Levenshtein.distance(string1, string2)\n",
    "    max_distance = max(len(string1), len(string2))\n",
    "    if max_distance == 0:\n",
    "        return False  \n",
    "    similarity = 1 - (distance / max_distance)\n",
    "    return similarity >= threshold"
   ]
  },
  {
   "cell_type": "code",
   "execution_count": 17,
   "id": "b2849f38",
   "metadata": {},
   "outputs": [],
   "source": [
    "import math\n",
    "\n",
    "\"\"\"\n",
    "Comment: This function should address the following issues: calls sometimes ending abruptly, \n",
    "         sporadic words, occasional confusion between the words 'child' and 'mango,' and the \n",
    "         problem of numbers being mistaken for the infant health hotline and music production company. \n",
    "         The first two issues are resolved by discarding these words from the list and extracting the keywords.\n",
    "\"\"\"\n",
    "\n",
    "def check_valid_call(call_text: str) -> bool:\n",
    "    \"\"\"\n",
    "    Determines the relevance of a call based on its content by comparing against keywords from specified URLs.\n",
    "    \n",
    "    This function analyzes the text of a call to identify if it is relevant to specific contexts such as infant health,\n",
    "    music in Mali, music fans, or mango-related content. It does so by fetching keywords from predefined URLs, each\n",
    "    representing a distinct context. The call's text is first processed to extract meaningful keywords, excluding\n",
    "    potentially confused words like 'child' and 'mango'. The relevance of the call is then evaluated based on the\n",
    "    presence of these keywords within the call's content, comparing against each context's keyword set.\n",
    "    \n",
    "    Args:\n",
    "        call_text (str): The text content of the call to be analyzed.\n",
    "    \n",
    "    Returns:\n",
    "        bool: False if the call is determined to be irrelevant to the predefined contexts (i.e., not the correct call\n",
    "        for the infant health hotline, not related to music in Mali, or not about mangoes), indicating a possible\n",
    "        misdialed number. True indicates that the call might be relevant or not explicitly irrelevant based on the\n",
    "        evaluated contexts.\n",
    "    \"\"\"\n",
    "    call_text = translate(call_text, \"bm\", \"en\")\n",
    "    words_splitted = extract_keywords(call_text)\n",
    "\n",
    "    words_splitted.discard(\"child\")\n",
    "    words_splitted.discard(\"mango\")\n",
    "\n",
    "    infant_url = \"https://www.nationwidechildrens.org/family-resources-education/family-resources-library/babies-warning-signs\"\n",
    "    music_url = \"https://www.cntraveler.com/story/in-mali-music-is-a-family-legacy\"\n",
    "    mango_url = \"https://forumecomalicanada.com/the-mango/\"\n",
    "    \n",
    "    infant_keywords = find_keywords(infant_url)\n",
    "    music_keywords = find_keywords(music_url)\n",
    "    mango_keywords = find_keywords(mango_url)\n",
    "    \"\"\"\n",
    "    Comment: For the following code, I am attempting to generate scores. I check \n",
    "             whether each keyword in the call text is present in the set of keywords \n",
    "             relevant to mango, infant health, and the music company. If a word is found, \n",
    "             I increment the score for that category by 1. Then, I determine whether the \n",
    "             call is related to mango by checking if the score for mango is greater than \n",
    "             1/10 of the total number of keywords in the call text. I believe that the \n",
    "             effectiveness can be enhanced in this step by using techniques like word \n",
    "             embeddings to identify the top 200 words that are most relevant to the mango \n",
    "             topic.\n",
    "    \"\"\"\n",
    "    infant_score = 0\n",
    "    for word in words_splitted:\n",
    "        if any(is_close(word, test_word) for test_word in infant_keywords):\n",
    "            infant_score += 1\n",
    "    \n",
    "    music_score = 0\n",
    "    for word in words_splitted:\n",
    "        if any(is_close(word, test_word) for test_word in music_keywords):\n",
    "            music_score += 1\n",
    "   \n",
    "    mango_score = 0\n",
    "    for word in words_splitted:\n",
    "        if any(is_close(word, test_word) for test_word in mango_keywords):\n",
    "            mango_score += 1\n",
    "            \n",
    "    scores = {\n",
    "        \"infant\": infant_score,\n",
    "        \"music\": music_score,\n",
    "        \"mango\": mango_score\n",
    "    }\n",
    "    \n",
    "    flag = math.ceil(len(words_splitted) / 10)\n",
    "\n",
    "    if scores[\"mango\"] >= flag:\n",
    "        return True\n",
    "    if scores[\"infant\"] >= flag:\n",
    "        print(\"This is not the number for the infant health hotline. Please call the correct one.\")\n",
    "        return False\n",
    "    if scores[\"music\"] >= flag:\n",
    "        print(\"This is not the number for the fledgling world music group in Mango Mali. Please call the correct one.\")\n",
    "        return False\n",
    "        \n",
    "    return False"
   ]
  },
  {
   "cell_type": "code",
   "execution_count": 18,
   "id": "4808f235",
   "metadata": {},
   "outputs": [],
   "source": [
    "from word2number import w2n\n",
    "import csv\n",
    "import numpy as np\n",
    "\n",
    "\"\"\"\n",
    "Comment: This function should serve the purpose of helping growers identify who is lying \n",
    "         about their crop yield quality and prices. However, I cannot think of a way to manage this within 10% and 20% of the reporting data.\n",
    "\"\"\"\n",
    "\n",
    "def process_call(number: int, call_text: str):\n",
    "    \"\"\"\n",
    "    Process a call regarding mango-related information and record data in a CSV file.\n",
    "\n",
    "    This function takes a phone call text, extracts relevant information about mango prices, production, and quality,\n",
    "    and records it in a CSV file. It also performs data validation and checks for outliers in the market prices.\n",
    "\n",
    "    Args:\n",
    "        number (int): The unique identifier for the call.\n",
    "        call_text (str): The text content of the phone call.\n",
    "\n",
    "    Returns:\n",
    "        None\n",
    "    \"\"\"\n",
    "    isvalid = check_valid_call(call_text)\n",
    "    \n",
    "    \"\"\"\n",
    "    Comment: To avoid mistakes in extracting information from texts, I plan to implement \n",
    "             a survey-like approach where growers can answer specific questions. One problem \n",
    "             I have been struggling to solve is the inconsistency when translating 'bambra' \n",
    "             from French to English. Even though I have the code for translation, maintaining \n",
    "             the numeric value of 'number' in 'bambra' when converting it to English remains \n",
    "             challenging.\n",
    "    \"\"\"\n",
    "    if isvalid:\n",
    "        while True:\n",
    "            try:\n",
    "                prices_bm = input(translate(\"Enter current market prices of the mango in XOF: \", \"fr\", \"bm\"))\n",
    "                prices_en = translate(prices_bm.strip().lower(), \"fr\", \"en\")\n",
    "                prices = w2n.word_to_num(prices_en)\n",
    "                break\n",
    "            except ValueError:\n",
    "                print(\"Invalid input.\")\n",
    "\n",
    "        while True:\n",
    "            try:\n",
    "                production_bm = input(translate(\"Enter production of the mango in kg: \", \"fr\", \"bm\"))\n",
    "                production_en = translate(production_bm.strip().lower(), \"fr\", \"en\")\n",
    "                production = w2n.word_to_num(production_en)\n",
    "                break\n",
    "            except ValueError:\n",
    "                print(\"Invalid input.\")\n",
    "                \n",
    "        \"\"\"\n",
    "        Comment: Regarding the price and production, I used to consider the units of the output values, \n",
    "                 but I encountered a problem when translating the Bamba input into the correct English answers \n",
    "                 for the if-else statement.\n",
    "        \"\"\"\n",
    "\n",
    "        while True:\n",
    "            try:\n",
    "                quality_bm = input(translate(\"Rate the quality from 1 to 10: \", \"fr\", \"bm\"))\n",
    "                quality_en = translate(quality_bm.strip().lower(), \"fr\", \"en\")\n",
    "                quality = w2n.word_to_num(quality_en)\n",
    "                if 1 <= quality <= 10:\n",
    "                    break\n",
    "                else:\n",
    "                    print(\"Invalid input.\")\n",
    "            except ValueError:\n",
    "                print(\"Invalid input.\")\n",
    "                \n",
    "        \"\"\"\n",
    "        Comment: I want to let them rate to enhance efficiency.\n",
    "        \"\"\"\n",
    "        \n",
    "        \"\"\"\n",
    "        Comment: The code below outputs the data to a CSV file in English.\n",
    "        \"\"\"\n",
    "        data = [[number, prices, production, quality]]\n",
    "        csv_file_path = \"/Users/shuzhezhang/Desktop/Python/glbl6060-rosemary-zhang/hw3/mango_output.csv\"\n",
    "\n",
    "        with open(csv_file_path, mode='r', newline='') as file:\n",
    "            reader = csv.reader(file)\n",
    "            existing_data = list(reader)\n",
    "            \"\"\"\n",
    "            Comment: The code below reads all the existing data from the CSV, extracts the information for prices, \n",
    "                     and uses the Interquartile range to identify outliers. The default data (lines 2-8) in the CSV is sourced \n",
    "                     from Mali Mangoes Export Prices found on the website \n",
    "                     https://www.selinawamucii.com/insights/prices/mali/mangoes/. \n",
    "                     I include this data to help determine if the grower is providing accurate price information.\n",
    "            \"\"\"\n",
    "            prices_data = [float(line[1]) for line in existing_data[1:]]\n",
    "            q1 = np.percentile(prices_data, 25)\n",
    "            q3 = np.percentile(prices_data, 75)\n",
    "            iqr = q3 - q1\n",
    "            lower_bound = q1 - 1.5 * iqr\n",
    "            upper_bound = q3 + 1.5 * iqr\n",
    "            \n",
    "            suspicious_flag = 1 if prices < q1 else 0\n",
    "            quality_data = [int(line[3]) for line in existing_data[1:]]\n",
    "            q3_quality = np.percentile(quality_data, 75)\n",
    "            \"\"\"\n",
    "            Comment: I consider the quality to be suspicious by focusing on the cases where the price is in the \n",
    "                     bottom quartile range but the quality is in the high quartile range based on supply and demand.\n",
    "            \"\"\"\n",
    "        if prices < lower_bound or prices > upper_bound:\n",
    "            print(\"The grower is lying.\")\n",
    "        elif suspicious_flag == 1 and quality > q3_quality:\n",
    "            print(\"The grower is lying.\")\n",
    "        else:\n",
    "            if len(existing_data) == 0:\n",
    "                with open(csv_file_path, mode='w', newline='') as file:\n",
    "                    writer = csv.writer(file)\n",
    "                    writer.writerow(['Number', 'Price', 'Production', 'Quality'])\n",
    "                    file.write('\\n')\n",
    "                    writer.writerows(data)\n",
    "            else:\n",
    "                with open(csv_file_path, mode='a', newline='') as file:\n",
    "                    writer = csv.writer(file)\n",
    "                    file.write('\\n')\n",
    "                    writer.writerows(data)"
   ]
  },
  {
   "cell_type": "code",
   "execution_count": 19,
   "id": "d23f1fb5",
   "metadata": {},
   "outputs": [
    {
     "name": "stdout",
     "output_type": "stream",
     "text": [
      "Aw ye mangoro suguya sɔngɔw sɛbɛn sisan XOF kɔnɔ:two\n",
      "Aw bɛ mangoro sɛnɛta don kilo la:two\n",
      "Aw bɛ a jogo jate ka bɔ 1 na ka se 10 ma:five\n",
      "The grower is lying.\n"
     ]
    }
   ],
   "source": [
    "\"\"\"\n",
    "Comment: I believe one critical issue with this programming is the translation problem, \n",
    "         possibly related to the package. In the demo, I will showcase cases where the \n",
    "         translation works. For the rest, \n",
    "         I will input the numeric string directly. \n",
    "\"\"\"\n",
    "\n",
    "\"\"\"\n",
    "Case 1: The grower is lying in terms of price.\n",
    "        The input in English is supposed to be: 'Our mango has slightly fibrous orange-yellow flesh, \n",
    "        which is of good quality and resistant to transport. It is a robust variety and shows resistance \n",
    "        to anthracnose.'\n",
    "        Input: two --> two --> five\n",
    "\"\"\"\n",
    "case1_text = \"An ka mangoro sogo bɛ kɛ ni nɛrɛmuguma ye dɔɔni, a ɲɛ ye bulama ye, min ka ɲi, wa a tɛ se ka taa ni a ye. A suguya barikama don, wa a bɛ se ka banakisɛfagalanw kɛlɛ.\"\n",
    "process_call(9111111111, case1_text)"
   ]
  },
  {
   "cell_type": "code",
   "execution_count": 20,
   "id": "abbc993a",
   "metadata": {},
   "outputs": [
    {
     "name": "stdout",
     "output_type": "stream",
     "text": [
      "Aw ye mangoro suguya sɔngɔw sɛbɛn sisan XOF kɔnɔ:250\n",
      "Aw bɛ mangoro sɛnɛta don kilo la:350\n",
      "Aw bɛ a jogo jate ka bɔ 1 na ka se 10 ma:9\n",
      "The grower is lying.\n"
     ]
    }
   ],
   "source": [
    "\"\"\"\n",
    "Case 2: The grower is lying in terms of quality.\n",
    "        The input in English is supposed to be: 'Our mango has slightly fibrous orange-yellow flesh, \n",
    "        which is of good quality and resistant to transport. It is a robust variety and shows resistance \n",
    "        to anthracnose.'\n",
    "        Input: 250 --> 350 --> 9\n",
    "\"\"\"\n",
    "case2_text = \"An ka mangoro sogo bɛ kɛ ni nɛrɛmuguma ye dɔɔni, a ɲɛ ye bulama ye, min ka ɲi, wa a tɛ se ka taa ni a ye. A suguya barikama don, wa a bɛ se ka banakisɛfagalanw kɛlɛ.\"\n",
    "process_call(9222222222, case2_text)"
   ]
  },
  {
   "cell_type": "code",
   "execution_count": 21,
   "id": "e24daa0d",
   "metadata": {},
   "outputs": [
    {
     "name": "stdout",
     "output_type": "stream",
     "text": [
      "This is not the number for the infant health hotline. Please call the correct one.\n"
     ]
    }
   ],
   "source": [
    "\"\"\"\n",
    "Case 3: Infant Hotline\n",
    "        The input in English is supposed to be: 'My baby shows signs of hunger by sucking on fingers or a hand, \n",
    "        crying, and making rooting motions. She has a fever because I take' (also a broken sentence)\n",
    "\"\"\"\n",
    "case3_text = \"N den bɛ kɔngɔ taamasiɲɛw jira ni a bɛ bolokɔniw walima bolo sin, ka kasi, ka jiriw lamaga. Sumaya bɛ a la bawo ne bɛ a ta.\"\n",
    "process_call(9333333333, case3_text)"
   ]
  },
  {
   "cell_type": "code",
   "execution_count": 22,
   "id": "4fd2b77c",
   "metadata": {},
   "outputs": [
    {
     "name": "stdout",
     "output_type": "stream",
     "text": [
      "This is not the number for the fledgling world music group in Mango Mali. Please call the correct one.\n"
     ]
    }
   ],
   "source": [
    "\"\"\"\n",
    "Case 4: Music Company\n",
    "        The input in English is supposed to be: 'Ancient instruments like the kora, a dazzling 21-string \n",
    "        instrument, and the balafon, a wooden xylophone, are now played in ensembles that also feature drum \n",
    "        kits, electric basses, and synthesizers.'\n",
    "\"\"\"\n",
    "case4_text = \"Fɔlifɛn kɔrɔw i n’a fɔ kora, n’o ye fɔlifɛn ye min bɛ mɔgɔ ɲɛnafin bɔ, n’a bɛ fɔ ni juru 21 ye, ani balafon, n’o ye jiri zilofɔni ye, olu bɛ fɔ sisan ansamblɛw kɔnɔ minnu fana bɛ ni dununkɛminɛnw ye, kuran basiw ani sinteziw.\"\n",
    "process_call(9444444444, case4_text)"
   ]
  },
  {
   "cell_type": "code",
   "execution_count": 23,
   "id": "d3784504",
   "metadata": {},
   "outputs": [
    {
     "name": "stdout",
     "output_type": "stream",
     "text": [
      "Aw ye mangoro suguya sɔngɔw sɛbɛn sisan XOF kɔnɔ:380\n",
      "Aw bɛ mangoro sɛnɛta don kilo la:198\n",
      "Aw bɛ a jogo jate ka bɔ 1 na ka se 10 ma:6\n"
     ]
    }
   ],
   "source": [
    "\"\"\"\n",
    "Case 5: Right Call. Honest Grower.\n",
    "        The input in English is supposed to be: 'Our mango has slightly fibrous orange-yellow flesh, \n",
    "        which is of good quality and resistant to transport. It is a robust variety and shows resistance \n",
    "        to anthracnose.'\n",
    "        Input: 380 --> 198 --> 6\n",
    "\"\"\"\n",
    "case5_text = \"An ka mangoro sogo bɛ kɛ ni nɛrɛmuguma ye dɔɔni, a ɲɛ ye bulama ye, min ka ɲi, wa a tɛ se ka taa ni a ye. A suguya barikama don, wa a bɛ se ka banakisɛfagalanw kɛlɛ.\"\n",
    "process_call(9555555555, case5_text)"
   ]
  }
 ],
 "metadata": {
  "kernelspec": {
   "display_name": "Python 3 (ipykernel)",
   "language": "python",
   "name": "python3"
  },
  "language_info": {
   "codemirror_mode": {
    "name": "ipython",
    "version": 3
   },
   "file_extension": ".py",
   "mimetype": "text/x-python",
   "name": "python",
   "nbconvert_exporter": "python",
   "pygments_lexer": "ipython3",
   "version": "3.11.4"
  }
 },
 "nbformat": 4,
 "nbformat_minor": 5
}
