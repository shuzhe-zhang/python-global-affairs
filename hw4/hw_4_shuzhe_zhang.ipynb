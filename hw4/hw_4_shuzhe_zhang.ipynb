{
 "cells": [
  {
   "cell_type": "markdown",
   "id": "06a245ed-e58b-4631-9d78-d841401291a3",
   "metadata": {},
   "source": [
    "# Homework 4:"
   ]
  },
  {
   "cell_type": "markdown",
   "id": "c3d319d5-2ecb-413b-bd02-2ce2153b3831",
   "metadata": {},
   "source": [
    "Below is a link to data collected over many years by Carmen Reinhart (with her coauthors Ken Rogoff, Christoph Trebesch, and Vincent Reinhart). These include Banking Crisis dates for more than 70 countries from 1800-present, exchange rate crises, stock market crises, sovereign debt growth and default, and many other data series. \n",
    "Please download here:\n",
    "\n",
    "https://www.hbs.edu/behavioral-finance-and-financial-stability/data/Pages/global.aspx\n",
    "\n",
    "For the following, please show me that you know how to use lambda and map functions where possible and efficient."
   ]
  },
  {
   "cell_type": "markdown",
   "id": "66610ebd-28ec-4efc-abeb-5fb221d17b1f",
   "metadata": {},
   "source": [
    "Q1: Read the data from the excel file into a pandas data frame:"
   ]
  },
  {
   "cell_type": "code",
   "execution_count": null,
   "id": "06556d5d-637c-4aef-a23f-a63e555abf5b",
   "metadata": {},
   "outputs": [],
   "source": [
    "#Your code here:\n"
   ]
  },
  {
   "cell_type": "markdown",
   "id": "50137bdf-b425-4483-bab2-4fec483e5272",
   "metadata": {},
   "source": [
    "Q2. From the dataset, create a new dataframe. Using a lambda function, select only those incidents where the annual inflation rate was 25% or higher. The dataframe should have three columns, Country Name, Year and Inflation rate. \n"
   ]
  },
  {
   "cell_type": "code",
   "execution_count": null,
   "id": "aaf37fab-04ed-4161-924f-e9e27fcceac5",
   "metadata": {},
   "outputs": [],
   "source": [
    "#Your code here:"
   ]
  },
  {
   "cell_type": "markdown",
   "id": "d18c0b95-20eb-43af-adba-44d207af3a61",
   "metadata": {},
   "source": [
    "Q3. Write code to tell me how many countries experienced 25% inflation or higher?"
   ]
  },
  {
   "cell_type": "code",
   "execution_count": null,
   "id": "3b294380-92ba-49f8-a0bb-ca5a01ac4715",
   "metadata": {},
   "outputs": [],
   "source": [
    "#Your code here:"
   ]
  },
  {
   "cell_type": "markdown",
   "id": "af2c4569-91f5-4b08-ae0e-0833f7bff812",
   "metadata": {},
   "source": [
    "Q4. How many years across all countries were there events of 25% or higher inflation?"
   ]
  },
  {
   "cell_type": "code",
   "execution_count": null,
   "id": "a600f41a-68a2-4adc-a6e7-59957cad5a7f",
   "metadata": {},
   "outputs": [],
   "source": [
    "#Your code here:\n"
   ]
  },
  {
   "cell_type": "markdown",
   "id": "7dd032b4-cb43-4162-a5ff-8d668aedfe74",
   "metadata": {},
   "source": [
    "Q5. Of the years where inflaton was 25% or higher, how many of those years resulted in a systemic crisis? "
   ]
  },
  {
   "cell_type": "code",
   "execution_count": null,
   "id": "2bf54bac-a2d0-4aac-af15-44a084279a61",
   "metadata": {},
   "outputs": [],
   "source": [
    "#Your code here"
   ]
  },
  {
   "cell_type": "markdown",
   "id": "eae4e918-bd51-4493-83be-c7751d990388",
   "metadata": {},
   "source": [
    "Q6. What were the countries and years associated with the total from Q5?"
   ]
  },
  {
   "cell_type": "code",
   "execution_count": null,
   "id": "b919a01b-3479-49d8-a1e3-ca4e26627dd4",
   "metadata": {},
   "outputs": [],
   "source": [
    "#Your code here:"
   ]
  },
  {
   "cell_type": "markdown",
   "id": "919b957d-ffcc-4b07-97e3-eeedb43104a6",
   "metadata": {},
   "source": [
    "Q7. At times of civil unrest or war, what was the average interest rate?"
   ]
  },
  {
   "cell_type": "code",
   "execution_count": null,
   "id": "b666d1fa-2d60-41c3-b148-73ba2eb2cbde",
   "metadata": {},
   "outputs": [],
   "source": [
    "#Your code here"
   ]
  },
  {
   "cell_type": "markdown",
   "id": "f840c1cd-b8e0-4bd3-9924-692dac369d79",
   "metadata": {},
   "source": [
    "Q8: Create a new dataframe that lists the top five countries with the average highest interest rates historically, \n",
    "with a column for the country, and the average rate."
   ]
  },
  {
   "cell_type": "code",
   "execution_count": null,
   "id": "b0d0f901-38be-4689-9f59-e425df7bbdad",
   "metadata": {},
   "outputs": [],
   "source": [
    "#Your code here:\n"
   ]
  },
  {
   "cell_type": "markdown",
   "id": "c5f84123-9369-4624-9348-76ddf927ce5d",
   "metadata": {},
   "source": [
    "Q9: Create a new dataframe that lists the countries and years where there was \"negative inflation\".\n",
    "What does negative inflation mean, and why did it occur?"
   ]
  },
  {
   "cell_type": "code",
   "execution_count": null,
   "id": "ca67570f-2a8f-48e0-bc6c-b44f3b66e04b",
   "metadata": {},
   "outputs": [],
   "source": [
    "#Your code here:\n"
   ]
  },
  {
   "cell_type": "markdown",
   "id": "b4ee59d7-413c-442b-8e08-5cad1af5a002",
   "metadata": {},
   "source": [
    "Your words here:"
   ]
  },
  {
   "cell_type": "markdown",
   "id": "4b822949-1ecc-4a4b-a713-d3caa05e00d7",
   "metadata": {},
   "source": [
    "## REDUCE\n",
    "reduce applies a provided function to the items of an iterable (e.g., a list), two items at a time, reducing the iterable to a single value. It takes two arguments: a function and an iterable. Optionally, it can take an initializer as a third argument. The function it takes as the first argument needs to accept two inputs (we can think of them as the accumulator and the current item).\n",
    "\n",
    "Let's consider calculating the total GDP (Gross Domestic Product) of a list of countries, where each country's GDP is represented as a number in a list. The reduce function will be used to sum up these GDP values to find the total GDP."
   ]
  },
  {
   "cell_type": "code",
   "execution_count": null,
   "id": "4e193d04-c59c-40fc-a2ee-dc16bb76a243",
   "metadata": {},
   "outputs": [],
   "source": [
    "from functools import reduce\n",
    "\n",
    "# List of GDP values for a set of countries (in trillions of USD)\n",
    "gdp_values = [21.43, 14.34, 5.15, 4.88, 3.86]  # Example values for USA, China, Japan, Germany, India, etc.\n",
    "\n",
    "# Function to sum two values\n",
    "def sum_gdp(x, y):\n",
    "    return x + y\n",
    "\n",
    "# Use reduce to calculate the total GDP\n",
    "total_gdp = reduce(sum_gdp, gdp_values)\n",
    "\n",
    "print(\"Total GDP:\", total_gdp, \"trillion USD\")\n",
    "\n",
    "'''gdp_values represents a list of GDPs for different countries.\n",
    "The sum_gdp function is used to sum two GDP values.\n",
    "reduce iterates through the gdp_values list, continuously applying sum_gdp to accumulate the total GDP.'''"
   ]
  },
  {
   "cell_type": "markdown",
   "id": "3d86cd45-d1e8-452f-a0e8-4e049161bfde",
   "metadata": {},
   "source": [
    "Q10.  Now rewrite as a lambda function\n"
   ]
  },
  {
   "cell_type": "code",
   "execution_count": null,
   "id": "101cbb5d-6cff-40db-9576-7ae776c68426",
   "metadata": {},
   "outputs": [],
   "source": [
    "#Your code here:"
   ]
  },
  {
   "cell_type": "markdown",
   "id": "9c7273e3-78d2-41bc-a5de-4dc8bdd17674",
   "metadata": {},
   "source": [
    "Q11. \n",
    "Which are the top three countries that experienced the biggest change in exchange rate with the USD from 2007-2008?\n",
    "Defines a function calculate_percentage_change that utilizes the reduce function to iterate over each row in the dataframe, calculate the percentage change for each country, and then compile the results into a new dataframe. The sort_values method should be then used to identify the top five countries with the highest percentage change based on the calculated values.\n",
    "  "
   ]
  },
  {
   "cell_type": "code",
   "execution_count": null,
   "id": "024ef634-8b4d-42b6-8e85-3bb30d1ecc9a",
   "metadata": {},
   "outputs": [],
   "source": [
    "#Your code here:"
   ]
  },
  {
   "cell_type": "code",
   "execution_count": null,
   "id": "a2322227-591f-4b37-a4ab-ab0654547b2a",
   "metadata": {},
   "outputs": [],
   "source": []
  },
  {
   "cell_type": "markdown",
   "id": "371473c9-2f3a-434c-8079-5decf56dc362",
   "metadata": {},
   "source": [
    "## DECORATORS¶\n",
    "Decorators in programming, particularly in Python, are used to add functionality to an existing function or method without changing its structure. This is done by wrapping the original function in another function that adds the new functionality, effectively extending or modifying its behavior."
   ]
  },
  {
   "cell_type": "code",
   "execution_count": 1,
   "id": "6c12abc2-98a5-4cf5-a659-07391881fa48",
   "metadata": {},
   "outputs": [],
   "source": [
    "# Let's start with a simple function\n",
    "def calculate_simple_interest(principal, rate, time):\n",
    "    \"\"\"\n",
    "    Calculate the simple interest for a loan.\n",
    "    \"\"\"\n",
    "    return principal * rate * time"
   ]
  },
  {
   "cell_type": "markdown",
   "id": "941cbf98-e22b-4c6a-82fb-a35a07639c6b",
   "metadata": {},
   "source": [
    "Decorator to Adjust for Inflation\n",
    "\n",
    "Now, we'll define a decorator that takes the calculated simple interest and adjusts it for inflation. This example assumes a fixed inflation rate for simplicity."
   ]
  },
  {
   "cell_type": "code",
   "execution_count": 2,
   "id": "1857fe70-0522-4c21-9c0c-1c231d1f37d1",
   "metadata": {},
   "outputs": [],
   "source": [
    "def adjust_for_inflation(func):\n",
    "    \"\"\"\n",
    "    A decorator that adjusts the calculated simple interest by accounting for inflation.\n",
    "    The inflation rate is assumed to be 2% per annum for this example.\n",
    "    \"\"\"\n",
    "    inflation_rate = 0.02  # 2% inflation rate\n",
    "    \n",
    "    def wrapper(principal, rate, time):\n",
    "        # Calculate the nominal interest using the original function\n",
    "        nominal_interest = func(principal, rate, time)\n",
    "        # Adjust the interest for inflation\n",
    "        real_interest = nominal_interest / ((1 + inflation_rate) ** time)\n",
    "        return real_interest\n",
    "    return wrapper"
   ]
  },
  {
   "cell_type": "code",
   "execution_count": null,
   "id": "8459c4b1-4e80-4517-a441-9d8d7f2021c1",
   "metadata": {},
   "outputs": [],
   "source": [
    "We apply the adjust_for_inflation decorator to the calculate_simple_interest function to automatically adjust the interest calculation for inflation.\n",
    "\n"
   ]
  },
  {
   "cell_type": "code",
   "execution_count": 3,
   "id": "e9193572-6997-4a42-8d70-dc3fa58bb71f",
   "metadata": {},
   "outputs": [
    {
     "name": "stdout",
     "output_type": "stream",
     "text": [
      "Real Interest after adjusting for inflation 14.13%\n"
     ]
    }
   ],
   "source": [
    "@adjust_for_inflation\n",
    "def calculate_simple_interest(principal, rate, time):\n",
    "    return principal * rate * time\n",
    "real_interest = calculate_simple_interest(100, 0.05, 3)\n",
    "print(f\"Real Interest after adjusting for inflation {real_interest:.2f}%\")\n"
   ]
  },
  {
   "cell_type": "markdown",
   "id": "dabf20e0-225a-4447-b0bf-8db7b1675ea4",
   "metadata": {},
   "source": [
    "Let's use our decorated function to calculate the real interest, taking into account inflation, and observe how the new decorator modifies the behavior of the original function."
   ]
  },
  {
   "cell_type": "markdown",
   "id": "089a9a99-34cb-45d4-bd7d-510fbe5fa2ce",
   "metadata": {},
   "source": [
    "Decorator Function: adjust_for_inflation wraps around calculate_simple_interest to adjust its output. The decorator assumes a constant inflation rate.\n",
    "\n",
    "Wrapper Function: Inside the decorator, the wrapper function calculates the nominal interest by calling the original calculate_simple_interest function. It then adjusts this nominal interest to account for inflation over the specified time period, using a simple formula to calculate the real interest.\n",
    "\n",
    "Applying the Decorator: By applying @adjust_for_inflation, every call to calculate_simple_interest now returns the real interest adjusted for inflation, demonstrating how decorators can add significant functionality to existing functions without altering their core logic."
   ]
  },
  {
   "cell_type": "markdown",
   "id": "0d331dea-b39b-48b2-8c5f-011ad9ff30d0",
   "metadata": {},
   "source": [
    "Let me walk you through, step-by-step, a function with decorators that involves calculating the price of a product, adjusting for tax, and then applying a seasonal discount. We'll chain decorators to add these functionalities progressively."
   ]
  },
  {
   "cell_type": "code",
   "execution_count": null,
   "id": "85547fb7-7ea2-495d-ac00-31b5ceb8bcd4",
   "metadata": {},
   "outputs": [],
   "source": [
    "# Define a function called \"base_price\" that simply multiplies the quantity of items by the unit price to find the base price. "
   ]
  },
  {
   "cell_type": "code",
   "execution_count": null,
   "id": "352e1bf6-f02a-47b9-bbab-1bd0f37d40b7",
   "metadata": {},
   "outputs": [],
   "source": [
    "def base_price(quantity, unit_price):\n",
    "    \"\"\"\n",
    "    Calculate the base price of a product given the quantity and unit price.\n",
    "    \"\"\"\n",
    "    return quantity * unit_price\n"
   ]
  },
  {
   "cell_type": "markdown",
   "id": "abfc35f3-90ac-4552-a91c-550389712a62",
   "metadata": {},
   "source": [
    "Step 2: Add a Decorator to Adjust for Tax\n",
    "Now, let's define a decorator that takes a tax rate and applies it to the base price calculated by the original function."
   ]
  },
  {
   "cell_type": "code",
   "execution_count": null,
   "id": "0f90bce8-9331-46c5-87e8-111bec5ff279",
   "metadata": {},
   "outputs": [],
   "source": [
    "def apply_tax(tax_rate):\n",
    "    \"\"\"\n",
    "    Decorator that applies a tax rate to the price of a product.\n",
    "    \"\"\"\n",
    "    def decorator(func):\n",
    "        def wrapper(quantity, unit_price):\n",
    "            base = func(quantity, unit_price)\n",
    "            taxed_price = base * (1 + tax_rate)\n",
    "            return taxed_price\n",
    "        return wrapper\n",
    "    return decorator\n",
    "\n",
    "@apply_tax(tax_rate=0.07)  # Assume a 7% tax rate\n",
    "def base_price(quantity, unit_price):\n",
    "    \"\"\"\n",
    "    Calculate the base price of a product given the quantity and unit price.\n",
    "    \"\"\"\n",
    "    return quantity * unit_price\n",
    "\n",
    "#This decorator adjusts the base price by adding a tax rate to it. Next, we will introduce another layer of modification \n",
    "# by applying a seasonal discount through another decorator."
   ]
  },
  {
   "cell_type": "code",
   "execution_count": null,
   "id": "7a689116-43dd-4e32-922b-47b492aa6012",
   "metadata": {},
   "outputs": [],
   "source": [
    "Step 3: Add Another Decorator for Seasonal Discount\n",
    "Finally, we add a decorator to apply a seasonal discount to the already taxed price. \n",
    "This demonstrates how decorators can be chained to sequentially apply multiple modifications or enhancements."
   ]
  },
  {
   "cell_type": "code",
   "execution_count": null,
   "id": "ad807217-9185-43df-a68d-421917a081a8",
   "metadata": {},
   "outputs": [],
   "source": [
    "def seasonal_discount(discount_rate):\n",
    "    \"\"\"\n",
    "    Decorator that applies a seasonal discount rate to the product's price.\n",
    "    \"\"\"\n",
    "    def decorator(func):\n",
    "        def wrapper(quantity, unit_price):\n",
    "            price_after_tax = func(quantity, unit_price)\n",
    "            discounted_price = price_after_tax * (1 - discount_rate)\n",
    "            return discounted_price\n",
    "        return wrapper\n",
    "    return decorator\n",
    "\n",
    "@seasonal_discount(discount_rate=0.1)  # Apply a 10% seasonal discount\n",
    "@apply_tax(tax_rate=0.07)  # Apply a 7% tax rate\n",
    "def base_price(quantity, unit_price):\n",
    "    \"\"\"\n",
    "    Calculate the base price of a product given the quantity and unit price.\n",
    "    \"\"\"\n",
    "    return quantity * unit_price\n"
   ]
  },
  {
   "cell_type": "markdown",
   "id": "cf12371f-0463-4fbe-8584-bd1cde94209a",
   "metadata": {},
   "source": [
    "This code calculates the price of a product by first calculating the base price, then adjusting for tax, and finally applying a seasonal discount. Each decorator adds a layer of functionality to the original base_price calculation, demonstrating the power of decorators for composing behaviors in a clean and modular way. This approach allows for flexibility in applying or removing adjustments without altering the core business logic."
   ]
  },
  {
   "cell_type": "markdown",
   "id": "7256ec52-9a01-4711-bf84-1acd4316370b",
   "metadata": {},
   "source": [
    "\n",
    "To call the base_price function that has been decorated with both the seasonal_discount and apply_tax decorators, you simply need to provide the required arguments: quantity and unit_price. These arguments represent the number of items you're calculating the price for and the cost per item, respectively.\n",
    "\n",
    "Here's how you can call the base_price function:"
   ]
  },
  {
   "cell_type": "code",
   "execution_count": null,
   "id": "e1c89574-a5a5-4f39-a7a8-039877443ad4",
   "metadata": {},
   "outputs": [],
   "source": [
    "# Example of calling the decorated base_price function\n",
    "quantity = 10  # For example, 10 units of the product\n",
    "unit_price = 50  # Assume each unit costs $50\n",
    "\n",
    "final_price = base_price(quantity, unit_price)\n",
    "\n",
    "print(f\"Final price after tax and discount: ${final_price:.2f}\")\n"
   ]
  },
  {
   "cell_type": "markdown",
   "id": "f8cd3b87-7a10-4a91-94e7-654ef7a2b332",
   "metadata": {},
   "source": [
    "This call takes into account the sequential application of the decorators: first, the tax is applied to the base price, and then the discounted rate is applied to the already taxed price, reflecting the final sale price of the product."
   ]
  },
  {
   "cell_type": "markdown",
   "id": "45513833-a88c-4a21-961e-97fdea4ee273",
   "metadata": {},
   "source": [
    "the @ statements for decorators matters significantly because decorators are applied from the bottom up. This order determines how the function is wrapped and, consequently, how its behavior is modified or extended.\n",
    ":\n",
    "\n",
    "Bottom-Up Application: When you stack decorators, the decorator closest to the function (i.e., the one directly above it) is applied first. After that, the next decorator up is applied, and so on. The last decorator (the one at the top) is applied last.\n",
    "\n",
    "Effect on Functionality: The order can change the result of the function because each decorator potentially modifies the input, output, or behavior of the function it wraps. The modifications made by one decorator are passed on to the next decorator in the stack."
   ]
  },
  {
   "cell_type": "markdown",
   "id": "656a9406-6992-447c-9431-82ae1b6bf2ff",
   "metadata": {},
   "source": [
    "Q12: \n",
    "Rewrite this function and change the order of the decorator. Try to do it without copy-paste so that your fingers help you think thorugh the logic. How does it change the behavior? Please answer using words."
   ]
  },
  {
   "cell_type": "code",
   "execution_count": null,
   "id": "6fba04e5-b1f2-422d-a168-2925eb442127",
   "metadata": {},
   "outputs": [],
   "source": [
    "#Your code here:"
   ]
  },
  {
   "cell_type": "markdown",
   "id": "5a1471b6-7c4b-496a-b786-c17a8850fe41",
   "metadata": {},
   "source": [
    "Your words here:"
   ]
  },
  {
   "cell_type": "markdown",
   "id": "a024ca6e-0a2c-4e7e-8662-7474ebabaa14",
   "metadata": {},
   "source": [
    "## CLASSES IN PYTHON\n",
    "\n",
    "Python classes are a fundamental part of object-oriented programming (OOP), allowing for the encapsulation of data and functions that operate on that data in a single entity, known as an object. What does that mean? It means you can create code that can put a nice package around all of the functions you're writing so that they are neat, tidy and not strewn all about the place. \n",
    "\n",
    "In the context of global affairs, Python classes can be used to model complex entities and relationships found in international relations, economics, environmental studies, and more. By defining classes, you can create more organized, scalable, and reusable code for analyses, simulations, data processing and visualization.\n",
    "\n",
    "**Basic Concepts of Python Classes**\n",
    "\n",
    "*Class*: A blueprint for creating objects. A class defines a set of attributes and methods that are common to all objects instantiated from this class.\n",
    "\n",
    "*Object*: An instance of a class. Each object can have unique values for the attributes defined by its class.\n",
    "Attribute: A variable that belongs to an object or class. In the context of global affairs, an attribute could represent data like a country's GDP, population, or carbon emissions.\n",
    "\n",
    "*Method*: A function that belongs to an object or class and can access or modify the object's attributes. For example, a method might update a country's economic data or calculate its growth rate.\n",
    "\n",
    "Let's look at some examples where this will become easier to understand:\n"
   ]
  },
  {
   "cell_type": "code",
   "execution_count": null,
   "id": "a8c6435a-a301-472f-8af2-eafd5fdacb9e",
   "metadata": {},
   "outputs": [],
   "source": [
    "class Country:\n",
    "    def __init__(self, name, population, gdp):\n",
    "        self.name = name\n",
    "        self.population = population\n",
    "        self.gdp = gdp\n",
    "    \n",
    "    def display_info(self):\n",
    "        print(f\"Country: {self.name}\\nPopulation: {self.population}\\nGDP: ${self.gdp} trillion\")\n",
    "\n",
    "    def gdp_per_capita(self):\n",
    "        return self.gdp * 1e12 / self.population\n"
   ]
  },
  {
   "cell_type": "markdown",
   "id": "ba0c79cf-b2d1-4cbb-b831-0ab471185c54",
   "metadata": {},
   "source": [
    "In this example, the Country class has three attributes (name, population, gdp) and two methods (display_info and gdp_per_capita). The __init__ method initializes new instances of the class, display_info prints out the country's information, and gdp_per_capita calculates the GDP per capita."
   ]
  },
  {
   "cell_type": "markdown",
   "id": "50078055-5d5b-4c7e-a4f3-201bb590d43a",
   "metadata": {},
   "source": [
    "This is how you'd use it:"
   ]
  },
  {
   "cell_type": "code",
   "execution_count": null,
   "id": "55a9c179-d8ee-40d0-984f-f587eea7be45",
   "metadata": {},
   "outputs": [],
   "source": [
    "usa = Country(\"United States\", 331002651, 21.43)\n",
    "china = Country(\"China\", 1439323776, 14.34)\n",
    "\n",
    "usa.display_info()\n",
    "china.display_info()\n",
    "\n",
    "print(f\"GDP per capita (USA): ${usa.gdp_per_capita():.2f}\")\n",
    "print(f\"GDP per capita (China): ${china.gdp_per_capita():.2f}\")\n"
   ]
  },
  {
   "cell_type": "markdown",
   "id": "39cbb7b0-316f-416e-ae2e-ef4d78cfd0b6",
   "metadata": {},
   "source": [
    "**Extending the Model to Include Relationships**\n",
    "To further apply classes in the context of global affairs, you might define additional classes to represent international organizations, treaties, or global issues, and use methods to model interactions or relationships between countries."
   ]
  },
  {
   "cell_type": "code",
   "execution_count": null,
   "id": "846ee85d-81b6-4c7d-8efc-5ae0971344a2",
   "metadata": {},
   "outputs": [],
   "source": [
    "class Treaty:\n",
    "    def __init__(self, name, member_countries):\n",
    "        self.name = name\n",
    "        self.member_countries = member_countries\n",
    "    \n",
    "    def add_country(self, country):\n",
    "        self.member_countries.append(country)\n",
    "    \n",
    "    def display_members(self):\n",
    "        print(f\"Treaty: {self.name}\\nMembers: {', '.join([country.name for country in self.member_countries])}\")\n"
   ]
  },
  {
   "cell_type": "markdown",
   "id": "8f075686-e605-4587-9f04-f11f7384e49a",
   "metadata": {},
   "source": [
    "Q13:\n",
    "Write a class in python that takes country, exchange rate, year, and systemic crisis as parameters and code to calculate the percentage change in exchange rate for two years, and filters for inflation rate 30% or higher."
   ]
  },
  {
   "cell_type": "code",
   "execution_count": null,
   "id": "5ddb28c1-daaf-4237-ba12-b7afe8249ef7",
   "metadata": {},
   "outputs": [],
   "source": [
    "#your code here:\n",
    "class CountryFinancialData:"
   ]
  },
  {
   "cell_type": "markdown",
   "id": "4c2b6765-5510-4477-a38d-e0409b370660",
   "metadata": {},
   "source": [
    "Q14: \n",
    "Add an IMF decorator to your class that assumes an IMF intervention that would adjust the inflation rate to a maximum of 18.5%."
   ]
  },
  {
   "cell_type": "code",
   "execution_count": null,
   "id": "f035afe6-9edb-452f-95a6-575826def4c7",
   "metadata": {},
   "outputs": [],
   "source": [
    "#your code here:\n"
   ]
  },
  {
   "cell_type": "markdown",
   "id": "f691e5f1-21fe-4c05-be46-0e32d29feaed",
   "metadata": {},
   "source": [
    "Q15:\n",
    "Please confirm that you have access to Anthropic's Claude: https://www.anthropic.com/news/claude-2-1\n"
   ]
  },
  {
   "cell_type": "markdown",
   "id": "6035180b-fe90-40e8-91af-ea48d7f58980",
   "metadata": {},
   "source": [
    "Your confirmation here:"
   ]
  }
 ],
 "metadata": {
  "kernelspec": {
   "display_name": "Python 3 (ipykernel)",
   "language": "python",
   "name": "python3"
  },
  "language_info": {
   "codemirror_mode": {
    "name": "ipython",
    "version": 3
   },
   "file_extension": ".py",
   "mimetype": "text/x-python",
   "name": "python",
   "nbconvert_exporter": "python",
   "pygments_lexer": "ipython3",
   "version": "3.11.7"
  }
 },
 "nbformat": 4,
 "nbformat_minor": 5
}
