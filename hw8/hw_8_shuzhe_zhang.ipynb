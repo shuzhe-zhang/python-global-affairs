{
 "cells": [
  {
   "cell_type": "code",
   "execution_count": null,
   "id": "4d529442-b29e-42ea-9bc8-3ba11b354598",
   "metadata": {},
   "outputs": [],
   "source": [
    "Hw8\n"
   ]
  },
  {
   "cell_type": "markdown",
   "id": "1842f26b-1b26-4b77-af81-7f5ea11585c8",
   "metadata": {},
   "source": [
    "1. Prepare a presentation to present to the class on your final project "
   ]
  },
  {
   "cell_type": "markdown",
   "id": "50f1f5a8-668b-4d35-8e41-5f8e0a5c5db4",
   "metadata": {},
   "source": [
    "2. Taking the code that we used in class, complete a multipage user interface in streamlit. I should be able to click on radio buttons in the sidebar and be taken to various pages. Add an interactive plot using plotly, and place that on a separate page. Upload your .py file to your github repo. "
   ]
  },
  {
   "cell_type": "code",
   "execution_count": null,
   "id": "b2d729cb-473a-48f8-a5b6-ab3385cd1edc",
   "metadata": {},
   "outputs": [],
   "source": [
    "3. Create a multipage user interface using streamlit using the visualizations and data from homework 7"
   ]
  },
  {
   "cell_type": "markdown",
   "id": "b9cda31b-7663-4b98-9d01-57cd8361df0a",
   "metadata": {},
   "source": [
    "4. Create a personal github page. Upload some of the projects that you worked on this semester to the github page. Here is a model"
   ]
  },
  {
   "cell_type": "code",
   "execution_count": null,
   "id": "086e4db3",
   "metadata": {},
   "outputs": [],
   "source": [
    "https://shuzhe-zhang.github.io/"
   ]
  }
 ],
 "metadata": {
  "kernelspec": {
   "display_name": "Python 3 (ipykernel)",
   "language": "python",
   "name": "python3"
  },
  "language_info": {
   "codemirror_mode": {
    "name": "ipython",
    "version": 3
   },
   "file_extension": ".py",
   "mimetype": "text/x-python",
   "name": "python",
   "nbconvert_exporter": "python",
   "pygments_lexer": "ipython3",
   "version": "3.11.7"
  }
 },
 "nbformat": 4,
 "nbformat_minor": 5
}
